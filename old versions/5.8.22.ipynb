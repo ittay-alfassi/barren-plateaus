{
 "cells": [
  {
   "cell_type": "markdown",
   "metadata": {},
   "source": [
    "## Generation of MUBs for 2 and 3 qubits"
   ]
  },
  {
   "cell_type": "code",
   "execution_count": 19,
   "metadata": {},
   "outputs": [],
   "source": [
    "from qiskit.opflow import X, Y, Z, I, PauliOp, PauliSumOp\n",
    "from qsymm.linalg import simult_diag\n",
    "import numpy as np\n",
    "from bqskit.compiler import Compiler\n",
    "from bqskit.compiler import CompilationTask"
   ]
  },
  {
   "cell_type": "code",
   "execution_count": 20,
   "metadata": {},
   "outputs": [],
   "source": [
    "import os\n",
    "\n",
    "path_2_302 = os.path.join(os.getcwd(), 'mub_bqskit', '2_302')\n",
    "path_3_306 = os.path.join(os.getcwd(), 'mub_bqskit', '3_306')"
   ]
  },
  {
   "cell_type": "markdown",
   "metadata": {},
   "source": [
    "The method in this section of the notebook is based on the paper \"Mutually unbiased binary observable sets on N qubits\"\n",
    "By Lawrence, Brukner and Zeilinger. (2022)\n",
    "\n",
    "The paper provides a table. In that table, each row contains several Pauli strings.\n",
    "The basis that this row represents is the eigenvector basis that diagonalizes **the entire row**.\n",
    "\n",
    "Thus, this function applies simultaneous diagonalization to all matrices (Pauli strings) from each row, to get the MUB.\n",
    "After that, BQSKit is used to synthesize a circuit that generates those MUB states."
   ]
  },
  {
   "cell_type": "code",
   "execution_count": 3,
   "metadata": {},
   "outputs": [],
   "source": [
    "def mats_to_mub_circ(mats_row: np.ndarray, nqubits: int):\n",
    "    mub_uni = np.hstack(simult_diag(mats_row))\n",
    "    task = CompilationTask.synthesize(mub_uni)\n",
    "    with Compiler() as compiler:\n",
    "        synth_qc = compiler.compile(task)\n",
    "    return mub_uni, synth_qc.to('qasm')"
   ]
  },
  {
   "cell_type": "code",
   "execution_count": null,
   "metadata": {},
   "outputs": [],
   "source": [
    "tbl_2_302 = [ [Z^I, I^Z, Z^Z],\n",
    "        [X^I, I^Y, X^Y],\n",
    "        [Y^I, I^X, Y^X],\n",
    "        [Y^Y, Z^X, Z^X],\n",
    "        [X^X, Y^Z, Z^Y]]\n",
    "\n",
    "tbl_3_306 = [   # The full columns were not added, as to save space, since 3 matrices should define the basis completely.\n",
    "    [X^I^I, I^Y^I, I^I^Z, X^Y^Z, X^Y^I, X^I^Z, I^Y^Z],  # First 3 rows are product state bases\n",
    "    [Y^I^I, I^Z^I, I^I^X],\n",
    "    [Z^I^I, I^X^I, I^I^Y],\n",
    "    [Y^Z^Z, Z^Y^Z, Z^Z^Y],  # Last 6 rows are GHZ-like bases\n",
    "    [Z^X^X, X^Z^X, X^X^Z],\n",
    "    [X^Y^Y, Y^X^Y, Y^Y^X],\n",
    "    [Z^X^Z, Y^X^X, Y^Y^Z],\n",
    "    [X^Y^X, Z^Y^Y, Z^Z^X],\n",
    "    [Y^Z^Y, X^Z^Z, X^X^Y]\n",
    "]\n",
    "\n",
    "\n",
    "\n",
    "qasm_2_302 = {}\n",
    "qasm_3_306 = {}\n",
    "\n",
    "print('----------RESULTS FOR 2-QUBIT MUBS (3,0,2)--------------')\n",
    "for i, row in enumerate(tbl_2_302):\n",
    "    res = mats_to_mub_circ(list(map(lambda p: p.to_matrix(), row)), 2)\n",
    "    print(f'result for row {i+1}:')\n",
    "    print(res[0])\n",
    "    print(res[1])\n",
    "    with open(os.path.join(path_2_302, str(i+1)+'.txt'), 'w') as f:\n",
    "        f.write(res[1])\n",
    "    qasm_2_302[i+1] = res[1]\n",
    "    print('\\n')\n",
    "\n",
    "\n",
    "print('----------RESULTS FOR 3-QUBIT MUBS (3,0,6)--------------')\n",
    "for i, row in enumerate(tbl_3_306):\n",
    "    res = mats_to_mub_circ(list(map(lambda p: p.to_matrix(), row)), 3)\n",
    "    print(f'result for row {i+1}:')\n",
    "    print(res[0])\n",
    "    print(res[1])\n",
    "    with open(os.path.join(path_3_306, str(i+1) + '.txt'), 'w') as f:\n",
    "        f.write(res[1])\n",
    "    qasm_3_306[i+1] = res[1]\n",
    "    print('\\n')"
   ]
  },
  {
   "cell_type": "markdown",
   "metadata": {},
   "source": [
    "## Barren Plateau Problems"
   ]
  },
  {
   "cell_type": "code",
   "execution_count": 21,
   "metadata": {},
   "outputs": [],
   "source": [
    "import qiskit as qk\n",
    "from qiskit import Aer, QuantumCircuit\n",
    "\n",
    "from qiskit.circuit import Parameter, ClassicalRegister\n",
    "from qiskit.circuit.library import EfficientSU2\n",
    "from qiskit.utils import QuantumInstance\n",
    "from qiskit.algorithms import VQE\n",
    "from qiskit.algorithms.minimum_eigen_solvers.vqe import VQEResult\n",
    "from qiskit.algorithms.optimizers import COBYLA\n",
    "from typing import Tuple, List, Dict, Union\n",
    "from scipy.optimize import minimize, OptimizeResult\n",
    "import numpy as np\n",
    "from random import random\n",
    "import json"
   ]
  },
  {
   "cell_type": "markdown",
   "metadata": {},
   "source": [
    "### Basic Barren Plateau Circuit for Variational Quantum Compilation\n",
    "\n",
    "The ansatz circuit is taken from \"Cost Function Dependent Barren Plateaus in Shallow Parametrized Quantum Circuits\" by Cerezo et al., 2021, Figure 4.\n",
    "\n",
    "The attempted task is \"trivial\" Variational Quantum Compilation.\n",
    "Vartational Quantum Compilation gets some unitary $U$, and an ansatz $V(\\theta)$, and attempts to find a value for $\\theta$ such that $V(\\theta)| 0 \\rangle = U | 0 \\rangle$.\n",
    "\n",
    "In this case, we choose $U=I$.\n",
    "Because we pick a *random* initial guess for $\\theta$, we will experience the barren plateaus that occur when the $\\theta$ values are away from the target.\n",
    "\n",
    "Note, however, an important observation:\n",
    "In order to actually use the \"value\" of the different MUB starting points, the original value of the parameters needs to be constant (although random) for all experiments.\n",
    "\n",
    "I took this specific problem from \"Effect of barren plateaus on gradient-free optimization\" by Arrasmith et al. (2021)."
   ]
  },
  {
   "cell_type": "code",
   "execution_count": 22,
   "metadata": {},
   "outputs": [],
   "source": [
    "def gen_vqc_ansatz(n_qubits: int, n_layers: int) -> QuantumCircuit:\n",
    "    qc = qk.QuantumCircuit(n_qubits)\n",
    "\n",
    "    idx = 0\n",
    "\n",
    "    for i in range(n_qubits):\n",
    "        theta = Parameter(f'theta_{idx}')\n",
    "        idx += 1\n",
    "        qc.ry(theta, i)\n",
    "        \n",
    "\n",
    "    for layer in range(n_layers):\n",
    "        for i in range(0, n_qubits-1, 2):\n",
    "            qc.cz(i, i+1)\n",
    "        \n",
    "        for i in range(n_qubits-1):\n",
    "            theta1 = Parameter(f'theta_{idx}')\n",
    "            idx += 1\n",
    "            qc.ry(theta1, i)\n",
    "\n",
    "        for i in range(1, n_qubits-1, 2):\n",
    "                qc.cz(i, i+1)\n",
    "            \n",
    "        for i in range(1, n_qubits):\n",
    "            theta2 = Parameter(f'theta_{idx}')\n",
    "            idx += 1\n",
    "            qc.ry(theta2, i)\n",
    "\n",
    "    qc.measure_all()\n",
    "\n",
    "    return qc\n"
   ]
  },
  {
   "cell_type": "markdown",
   "metadata": {},
   "source": [
    "### Experimenting without MUBs"
   ]
  },
  {
   "cell_type": "markdown",
   "metadata": {},
   "source": [
    "#### Experiment Functions"
   ]
  },
  {
   "cell_type": "code",
   "execution_count": 5,
   "metadata": {},
   "outputs": [],
   "source": [
    "### Defining experiment values\n",
    "n_qubits = 3\n",
    "SHOTS = 8192\n",
    "MAX_ITER = 10000\n",
    "backend = Aer.get_backend('qasm_simulator')\n",
    "qi = QuantumInstance(backend, shots=SHOTS)\n",
    "\n",
    "no_mub_res = {}\n",
    "\n",
    "# Returns the number of function evaluations it took for the method to converge.\n",
    "def run_vqc_exp(qc: QuantumCircuit, n_qubits: int, n_layers: int, theta0: List[float], tol: float = 0.2) -> OptimizeResult:\n",
    "    def get_val_from_theta(theta: List[float]) -> float:\n",
    "        concrete_qc = qc.bind_parameters(theta)\n",
    "        results = qi.execute(concrete_qc)\n",
    "        return 1 - (results.get_counts().int_raw.get(0, 0) / SHOTS)\n",
    "\n",
    "\n",
    "    res = minimize(get_val_from_theta,\n",
    "        theta0,\n",
    "        method='COBYLA',\n",
    "        options={'disp': True, 'maxiter': MAX_ITER},\n",
    "        tol=0.2)\n",
    "\n",
    "    return res\n",
    "\n",
    "\n"
   ]
  },
  {
   "cell_type": "markdown",
   "metadata": {},
   "source": [
    "#### Experiments"
   ]
  },
  {
   "cell_type": "code",
   "execution_count": 12,
   "metadata": {},
   "outputs": [
    {
     "name": "stdout",
     "output_type": "stream",
     "text": [
      "RUNNING EXPERIMENT FOR 4 LAYERS:\n",
      "RUNNING EXPERIMENT FOR 5 LAYERS:\n",
      "RUNNING EXPERIMENT FOR 6 LAYERS:\n",
      "RUNNING EXPERIMENT FOR 7 LAYERS:\n",
      "RUNNING EXPERIMENT FOR 8 LAYERS:\n",
      "RUNNING EXPERIMENT FOR 9 LAYERS:\n",
      "RUNNING EXPERIMENT FOR 10 LAYERS:\n",
      "RUNNING EXPERIMENT FOR 11 LAYERS:\n",
      "RUNNING EXPERIMENT FOR 12 LAYERS:\n"
     ]
    }
   ],
   "source": [
    "for n_layers in range(4, 13):\n",
    "    print(f'RUNNING EXPERIMENT FOR {n_layers} LAYERS:')\n",
    "    qc = gen_vqc_ansatz(n_qubits, n_layers)\n",
    "    theta0 = [np.random.random() for _ in range(qc.num_parameters)]\n",
    "    layer_res = run_vqc_exp(qc, n_qubits, n_layers, theta0, 0.2)\n",
    "\n",
    "    no_mub_res[n_layers] = layer_res"
   ]
  },
  {
   "cell_type": "markdown",
   "metadata": {},
   "source": [
    "#### Analysis"
   ]
  },
  {
   "cell_type": "code",
   "execution_count": null,
   "metadata": {},
   "outputs": [],
   "source": [
    "no_mub_nfev ={k: v['nfev'] for k,v in no_mub_res.items()}\n",
    "\n",
    "with open('no_mub_3.txt', 'w') as f:\n",
    "    f.write(str(no_mub_res))\n",
    "    f.write('\\n\\n=====NFEV (Number of Function Evals) Summary=====\\n\\n')\n",
    "    f.write(str(no_mub_nfev))"
   ]
  },
  {
   "cell_type": "markdown",
   "metadata": {},
   "source": [
    "## Mitigating Barren Plateaus using MUBs"
   ]
  },
  {
   "cell_type": "markdown",
   "metadata": {},
   "source": [
    "### Loading the QASM MUB circuits into Qiskit"
   ]
  },
  {
   "cell_type": "code",
   "execution_count": 23,
   "metadata": {},
   "outputs": [],
   "source": [
    "FROM_FILES = True\n",
    "if FROM_FILES:\n",
    "    paths = os.listdir(path_3_306)\n",
    "    circuits = [qk.circuit.QuantumCircuit.from_qasm_file(os.path.join(path_3_306,path)) for path in paths if '.txt' in path]\n",
    "else:\n",
    "    circuits = [qk.circuit.QuantumCircuit.from_qasm_str(qasm_str) for qasm_str in qasm_3_306.values()]\n",
    "    "
   ]
  },
  {
   "cell_type": "markdown",
   "metadata": {},
   "source": [
    "### Experimenting with MUBs - prepending\n",
    "This is an experiment in which a MUB transformation is applied *before* the ansatz circuits."
   ]
  },
  {
   "cell_type": "markdown",
   "metadata": {},
   "source": [
    "#### Experiment Functions"
   ]
  },
  {
   "cell_type": "code",
   "execution_count": 24,
   "metadata": {},
   "outputs": [],
   "source": [
    "# This function gets a number i from 0 to (2^n)-1\n",
    "# and returns a circuit that generates the state |i> when acting on |0>.\n",
    "def get_comp_state_circ(state_idx: int, n_qubits: int) -> QuantumCircuit:\n",
    "    qc = QuantumCircuit(n_qubits)\n",
    "    bin_str = bin(state_idx)[2:].zfill(n_qubits)\n",
    "    for i, ch in enumerate(bin_str):\n",
    "        if ch == '1':\n",
    "            qc.x(i)\n",
    "    return qc\n",
    "\n",
    "def run_vqc_exp_with_mub_prepend(ansatz_qc: QuantumCircuit, mub_qc: QuantumCircuit, n_qubits: int, n_layers: int, theta0: List[float], tol: float = 0.2) -> dict:\n",
    "    mub_qc = mub_qc.copy()\n",
    "    mub_qc.add_register(ClassicalRegister(n_qubits))\n",
    "    mub_ansatz_qc = mub_qc.compose(ansatz_qc, qubits=range(n_qubits), inplace=False)\n",
    "    assert mub_ansatz_qc != None\n",
    "\n",
    "    res_dict = {}\n",
    "    for i in range((2 ** n_qubits)):\n",
    "        starting_qc = get_comp_state_circ(i, n_qubits)\n",
    "        starting_qc.add_register(ClassicalRegister(n_qubits))\n",
    "        full_qc = starting_qc.compose(mub_ansatz_qc, qubits=range(n_qubits), inplace=False)\n",
    "        assert full_qc != None\n",
    "        res_dict[i] = run_vqc_exp(full_qc, n_qubits, n_layers, theta0, tol)\n",
    "\n",
    "    return res_dict"
   ]
  },
  {
   "cell_type": "markdown",
   "metadata": {},
   "source": [
    "#### Experiments"
   ]
  },
  {
   "cell_type": "code",
   "execution_count": null,
   "metadata": {},
   "outputs": [],
   "source": [
    "### Defining experiment values\n",
    "n_qubits = 3\n",
    "SHOTS = 8192\n",
    "MAX_ITER = 10000\n",
    "backend = Aer.get_backend('qasm_simulator')\n",
    "qi = QuantumInstance(backend, shots=SHOTS)\n",
    "\n",
    "print('=====Experimenting with prepended MUB states=====')\n",
    "all_prepend_mub_results = {}\n",
    "for n_layers in range(4,13):\n",
    "    layer_results = {}\n",
    "    print(f'---experimenting with {n_layers} layers---')\n",
    "    ansatz = gen_vqc_ansatz(n_qubits, n_layers)\n",
    "    theta0 = [np.random.random() for _ in range(ansatz.num_parameters)]\n",
    "    for i, mub_circuit in enumerate(circuits):\n",
    "        print(f'experimenting with MUB #{i+1}')\n",
    "        res = run_vqc_exp_with_mub_prepend(ansatz, mub_circuit, n_qubits, n_layers, theta0, tol=0.2)\n",
    "        # print(res)\n",
    "        print(f'MUB #{i+1} done')\n",
    "        layer_results[i] = res\n",
    "    all_prepend_mub_results[n_layers] = layer_results"
   ]
  },
  {
   "cell_type": "markdown",
   "metadata": {},
   "source": [
    "#### Analysis"
   ]
  },
  {
   "cell_type": "code",
   "execution_count": null,
   "metadata": {},
   "outputs": [],
   "source": [
    "## Keeping NFEV results\n",
    "prepend_mub_nfev = {}\n",
    "for l, d_l in all_prepend_mub_results.items():\n",
    "    print(f'nfev for {l} layers')\n",
    "    min_nfev = min([min([state_res['nfev'] for state_res in d_mub.values()]) for d_mub in d_l.values()])\n",
    "    print(f'minimal nfev for {l} layers is {min_nfev}')\n",
    "    prepend_mub_nfev[l] = min_nfev\n",
    "\n",
    "with open('prepend_mub_results_3.txt', 'w') as f:\n",
    "    f.write(str(all_prepend_mub_results))\n",
    "    f.write('\\n\\n=====NFEV (Number of Function Evals) Summary=====\\n\\n')\n",
    "    f.write(str(prepend_mub_nfev))"
   ]
  },
  {
   "cell_type": "markdown",
   "metadata": {},
   "source": [
    "### Experimenting with MUBs - appending\n",
    "Now, instead of generating MUB states at the beginning, we add MUB transformations at the end.\n",
    "Let's see how that goes.\n",
    "\n",
    "Seeing as state initial sate preparation does not take place, there is no meaning for each individual state."
   ]
  },
  {
   "cell_type": "markdown",
   "metadata": {},
   "source": [
    "#### Experiment Functions"
   ]
  },
  {
   "cell_type": "code",
   "execution_count": 13,
   "metadata": {},
   "outputs": [],
   "source": [
    "def run_vqc_exp_with_mub_append(ansatz_qc: QuantumCircuit, mub_qc: QuantumCircuit, n_qubits: int, n_layers: int, theta0: List[float], tol: float = 0.2) -> dict:\n",
    "    mub_qc = mub_qc.copy()\n",
    "    mub_qc.add_register(ClassicalRegister(n_qubits))\n",
    "    mub_ansatz_qc = mub_qc.compose(ansatz_qc, qubits=range(n_qubits), inplace=False)\n",
    "    assert mub_ansatz_qc != None\n",
    "    \n",
    "    return run_vqc_exp(mub_ansatz_qc, n_qubits, n_layers, theta0, tol)"
   ]
  },
  {
   "cell_type": "markdown",
   "metadata": {},
   "source": [
    "#### Experiments"
   ]
  },
  {
   "cell_type": "code",
   "execution_count": null,
   "metadata": {},
   "outputs": [],
   "source": [
    "### Defining experiment values\n",
    "n_qubits = 3\n",
    "SHOTS = 8192\n",
    "MAX_ITER = 10000\n",
    "backend = Aer.get_backend('qasm_simulator')\n",
    "qi = QuantumInstance(backend, shots=SHOTS)\n",
    "\n",
    "print('=====Experimenting with appended MUB states=====')\n",
    "all_append_mub_results = {}\n",
    "for n_layers in range(4,13):\n",
    "    layer_results = {}\n",
    "    print(f'---experimenting with {n_layers} layers---')\n",
    "    ansatz = gen_vqc_ansatz(n_qubits, n_layers)\n",
    "    theta0 = [np.random.random() for _ in range(ansatz.num_parameters)]\n",
    "    for i, mub_circuit in enumerate(circuits):\n",
    "        print(f'experimenting with MUB #{i+1}')\n",
    "        res = run_vqc_exp_with_mub_append(ansatz, mub_circuit, n_qubits, n_layers, theta0, tol=0.2)\n",
    "        # print(res)\n",
    "        print(f'MUB #{i+1} done')\n",
    "        layer_results[i] = res\n",
    "    all_append_mub_results[n_layers] = layer_results"
   ]
  },
  {
   "cell_type": "markdown",
   "metadata": {},
   "source": [
    "#### Analysis"
   ]
  },
  {
   "cell_type": "code",
   "execution_count": null,
   "metadata": {},
   "outputs": [],
   "source": [
    "## Keeping NFEV results\n",
    "append_mub_nfev = {}\n",
    "for l, d_l in all_append_mub_results.items():\n",
    "    print(f'nfev for {l} layers')\n",
    "    min_nfev = min([mub_res['nfev'] for mub_res in d_l.values()])\n",
    "    print(f'minimal nfev for {l} layers is {min_nfev}')\n",
    "    append_mub_nfev[l] = min_nfev\n",
    "\n",
    "with open('append_mub_results_3.txt', 'w') as f:\n",
    "    f.write(str(all_append_mub_results))\n",
    "    f.write('\\n\\n=====NFEV (Number of Function Evals) Summary=====\\n\\n')\n",
    "    f.write(str(append_mub_nfev))"
   ]
  },
  {
   "cell_type": "markdown",
   "metadata": {},
   "source": [
    "## Basic Barren Plateau Circuit for Transverse Ising VQE\n",
    "To save myself some time, I'll just use the built-in VQE module."
   ]
  },
  {
   "cell_type": "code",
   "execution_count": 25,
   "metadata": {},
   "outputs": [],
   "source": [
    "def build_pauli_string(n_qubits: int, mat_locations: Dict[int, str]) -> str:\n",
    "    assert n_qubits > 0\n",
    "    H = ''\n",
    "    for i in range(n_qubits):\n",
    "        H += mat_locations.get(i, 'I')\n",
    "    return H\n",
    "\n",
    "def generate_transverse_ising_ham(n_qubits: int) -> PauliSumOp:\n",
    "    # Build Individual X strings\n",
    "    string_list = [(build_pauli_string(n_qubits, {i: 'X'}), random()) for i in range(n_qubits)]\n",
    "    for i in range(n_qubits):\n",
    "        string_list += [(build_pauli_string(n_qubits, {i: 'Z', j: 'Z'}), random()) for j in range(i+1, n_qubits)]\n",
    "    return PauliSumOp.from_list(string_list, 1)"
   ]
  },
  {
   "cell_type": "code",
   "execution_count": 26,
   "metadata": {},
   "outputs": [],
   "source": [
    "## For now, I'm using the standard qiskit hardware efficient ansatz (as Dekel suggested).\n",
    "def gen_hardware_eff_ansatz(n_qubits: int, n_layers: int) -> QuantumCircuit:\n",
    "    qc = QuantumCircuit(n_qubits)\n",
    "    ansatz = EfficientSU2(n_qubits, reps=n_layers, entanglement='linear')\n",
    "    qc.compose(ansatz, inplace=True)\n",
    "    return qc"
   ]
  },
  {
   "cell_type": "markdown",
   "metadata": {},
   "source": [
    "### Experimenting without MUBs"
   ]
  },
  {
   "cell_type": "markdown",
   "metadata": {},
   "source": [
    "#### Experiment Functions"
   ]
  },
  {
   "cell_type": "code",
   "execution_count": 27,
   "metadata": {},
   "outputs": [],
   "source": [
    "# Returns the number of function evaluations it took for the method to converge.\n",
    "def run_vqe_exp(ansatz: QuantumCircuit, ham: PauliSumOp, theta0: Union[List[float], None] = None, tol: float = 0.2) -> VQEResult:\n",
    "    optimizer = COBYLA(tol=tol)\n",
    "    vqe = VQE(ansatz=ansatz, optimizer=optimizer, quantum_instance=qi, initial_point=np.asarray(theta0))\n",
    "    result = vqe.compute_minimum_eigenvalue(operator=ham)\n",
    "    return result"
   ]
  },
  {
   "cell_type": "markdown",
   "metadata": {},
   "source": [
    "#### Experiments"
   ]
  },
  {
   "cell_type": "code",
   "execution_count": 9,
   "metadata": {},
   "outputs": [
    {
     "name": "stdout",
     "output_type": "stream",
     "text": [
      "RUNNING VQE EXPERIMENT FOR 4 LAYERS:\n"
     ]
    },
    {
     "name": "stderr",
     "output_type": "stream",
     "text": [
      "/Users/ittayalfassi/opt/anaconda3/envs/qiskit/lib/python3.8/site-packages/sympy/core/expr.py:3949: SymPyDeprecationWarning: \n",
      "\n",
      "expr_free_symbols method has been deprecated since SymPy 1.9. See\n",
      "https://github.com/sympy/sympy/issues/21494 for more info.\n",
      "\n",
      "  SymPyDeprecationWarning(feature=\"expr_free_symbols method\",\n"
     ]
    },
    {
     "name": "stdout",
     "output_type": "stream",
     "text": [
      "RUNNING VQE EXPERIMENT FOR 5 LAYERS:\n"
     ]
    },
    {
     "name": "stderr",
     "output_type": "stream",
     "text": [
      "/Users/ittayalfassi/opt/anaconda3/envs/qiskit/lib/python3.8/site-packages/sympy/core/expr.py:3949: SymPyDeprecationWarning: \n",
      "\n",
      "expr_free_symbols method has been deprecated since SymPy 1.9. See\n",
      "https://github.com/sympy/sympy/issues/21494 for more info.\n",
      "\n",
      "  SymPyDeprecationWarning(feature=\"expr_free_symbols method\",\n"
     ]
    },
    {
     "name": "stdout",
     "output_type": "stream",
     "text": [
      "RUNNING VQE EXPERIMENT FOR 6 LAYERS:\n",
      "RUNNING VQE EXPERIMENT FOR 7 LAYERS:\n",
      "RUNNING VQE EXPERIMENT FOR 8 LAYERS:\n",
      "RUNNING VQE EXPERIMENT FOR 9 LAYERS:\n",
      "RUNNING VQE EXPERIMENT FOR 10 LAYERS:\n",
      "RUNNING VQE EXPERIMENT FOR 11 LAYERS:\n",
      "RUNNING VQE EXPERIMENT FOR 12 LAYERS:\n"
     ]
    }
   ],
   "source": [
    "### Defining experiment values\n",
    "n_qubits = 3\n",
    "SHOTS = 8192\n",
    "MAX_ITER = 10000\n",
    "backend = Aer.get_backend('qasm_simulator')\n",
    "qi = QuantumInstance(backend, shots=SHOTS)\n",
    "\n",
    "no_mub_res = {}\n",
    "\n",
    "for n_layers in range(4, 13):\n",
    "    print(f'RUNNING VQE EXPERIMENT FOR {n_layers} LAYERS:')\n",
    "    # n_qubits = n_layers\n",
    "    ham = generate_transverse_ising_ham(n_qubits)\n",
    "    ansatz = gen_hardware_eff_ansatz(n_qubits, n_layers)\n",
    "    theta0 = [np.random.random() for _ in range(ansatz.num_parameters)]\n",
    "    layer_res = run_vqe_exp(ansatz, ham, theta0=theta0, tol=0.2)\n",
    "    no_mub_res[n_layers] = layer_res"
   ]
  },
  {
   "cell_type": "markdown",
   "metadata": {},
   "source": [
    "#### Analysis"
   ]
  },
  {
   "cell_type": "code",
   "execution_count": 12,
   "metadata": {},
   "outputs": [],
   "source": [
    "no_mub_nfev ={k: v.cost_function_evals for k,v in no_mub_res.items()}\n",
    "\n",
    "with open('no_mub_3.txt', 'w', encoding='utf-8') as f:\n",
    "    f.write(str({k: str(v) for k,v in no_mub_res.items()}))\n",
    "    f.write('\\n\\n=====NFEV (Number of Function Evals) Summary=====\\n\\n')\n",
    "    f.write(str(no_mub_nfev))"
   ]
  },
  {
   "cell_type": "markdown",
   "metadata": {},
   "source": [
    "### Experimenting with MUBs - prepending (VQE)"
   ]
  },
  {
   "cell_type": "markdown",
   "metadata": {},
   "source": [
    "#### Experiment Functions"
   ]
  },
  {
   "cell_type": "code",
   "execution_count": 28,
   "metadata": {},
   "outputs": [],
   "source": [
    "def run_vqe_exp_with_mub_prepend(ansatz_qc: QuantumCircuit, mub_qc: QuantumCircuit, n_qubits: int, ham: PauliSumOp, theta0: Union[List[float], None] = None, tol: float = 0.2) -> dict:\n",
    "    mub_qc = mub_qc.copy()\n",
    "    mub_ansatz_qc = mub_qc.compose(ansatz_qc, qubits=range(n_qubits), inplace=False)\n",
    "    assert mub_ansatz_qc != None\n",
    "\n",
    "    res_dict = {}\n",
    "    for i in range((2 ** n_qubits)):\n",
    "        starting_qc = get_comp_state_circ(i, n_qubits)\n",
    "        full_qc = starting_qc.compose(mub_ansatz_qc, qubits=range(n_qubits), inplace=False)\n",
    "        assert full_qc != None\n",
    "        res_dict[i] = run_vqe_exp(full_qc, ham, theta0=theta0, tol=tol)\n",
    "\n",
    "    return res_dict"
   ]
  },
  {
   "cell_type": "markdown",
   "metadata": {},
   "source": [
    "#### Experiments"
   ]
  },
  {
   "cell_type": "code",
   "execution_count": 30,
   "metadata": {},
   "outputs": [
    {
     "name": "stdout",
     "output_type": "stream",
     "text": [
      "=====Experimenting with prepended MUB states=====\n",
      "---experimenting with 4 layers---\n",
      "experimenting with MUB #1\n",
      "MUB #1 done\n",
      "experimenting with MUB #2\n",
      "MUB #2 done\n",
      "experimenting with MUB #3\n",
      "MUB #3 done\n",
      "experimenting with MUB #4\n",
      "MUB #4 done\n",
      "experimenting with MUB #5\n",
      "MUB #5 done\n",
      "experimenting with MUB #6\n",
      "MUB #6 done\n",
      "experimenting with MUB #7\n",
      "MUB #7 done\n",
      "experimenting with MUB #8\n",
      "MUB #8 done\n",
      "experimenting with MUB #9\n",
      "MUB #9 done\n",
      "---experimenting with 5 layers---\n",
      "experimenting with MUB #1\n",
      "MUB #1 done\n",
      "experimenting with MUB #2\n",
      "MUB #2 done\n",
      "experimenting with MUB #3\n",
      "MUB #3 done\n",
      "experimenting with MUB #4\n",
      "MUB #4 done\n",
      "experimenting with MUB #5\n",
      "MUB #5 done\n",
      "experimenting with MUB #6\n",
      "MUB #6 done\n",
      "experimenting with MUB #7\n",
      "MUB #7 done\n",
      "experimenting with MUB #8\n",
      "MUB #8 done\n",
      "experimenting with MUB #9\n",
      "MUB #9 done\n",
      "---experimenting with 6 layers---\n",
      "experimenting with MUB #1\n",
      "MUB #1 done\n",
      "experimenting with MUB #2\n",
      "MUB #2 done\n",
      "experimenting with MUB #3\n",
      "MUB #3 done\n",
      "experimenting with MUB #4\n",
      "MUB #4 done\n",
      "experimenting with MUB #5\n",
      "MUB #5 done\n",
      "experimenting with MUB #6\n",
      "MUB #6 done\n",
      "experimenting with MUB #7\n",
      "MUB #7 done\n",
      "experimenting with MUB #8\n",
      "MUB #8 done\n",
      "experimenting with MUB #9\n",
      "MUB #9 done\n",
      "---experimenting with 7 layers---\n",
      "experimenting with MUB #1\n",
      "MUB #1 done\n",
      "experimenting with MUB #2\n",
      "MUB #2 done\n",
      "experimenting with MUB #3\n",
      "MUB #3 done\n",
      "experimenting with MUB #4\n",
      "MUB #4 done\n",
      "experimenting with MUB #5\n",
      "MUB #5 done\n",
      "experimenting with MUB #6\n",
      "MUB #6 done\n",
      "experimenting with MUB #7\n",
      "MUB #7 done\n",
      "experimenting with MUB #8\n",
      "MUB #8 done\n",
      "experimenting with MUB #9\n",
      "MUB #9 done\n",
      "---experimenting with 8 layers---\n",
      "experimenting with MUB #1\n",
      "MUB #1 done\n",
      "experimenting with MUB #2\n",
      "MUB #2 done\n",
      "experimenting with MUB #3\n",
      "MUB #3 done\n",
      "experimenting with MUB #4\n",
      "MUB #4 done\n",
      "experimenting with MUB #5\n",
      "MUB #5 done\n",
      "experimenting with MUB #6\n",
      "MUB #6 done\n",
      "experimenting with MUB #7\n",
      "MUB #7 done\n",
      "experimenting with MUB #8\n",
      "MUB #8 done\n",
      "experimenting with MUB #9\n",
      "MUB #9 done\n",
      "---experimenting with 9 layers---\n",
      "experimenting with MUB #1\n",
      "MUB #1 done\n",
      "experimenting with MUB #2\n",
      "MUB #2 done\n",
      "experimenting with MUB #3\n",
      "MUB #3 done\n",
      "experimenting with MUB #4\n",
      "MUB #4 done\n",
      "experimenting with MUB #5\n",
      "MUB #5 done\n",
      "experimenting with MUB #6\n",
      "MUB #6 done\n",
      "experimenting with MUB #7\n",
      "MUB #7 done\n",
      "experimenting with MUB #8\n"
     ]
    }
   ],
   "source": [
    "### Defining experiment values\n",
    "n_qubits = 3\n",
    "SHOTS = 8192\n",
    "MAX_ITER = 10000\n",
    "backend = Aer.get_backend('qasm_simulator')\n",
    "qi = QuantumInstance(backend, shots=SHOTS)\n",
    "ham = generate_transverse_ising_ham(n_qubits)\n",
    "\n",
    "print('=====Experimenting with prepended MUB states=====')\n",
    "all_prepend_mub_results = {}\n",
    "for n_layers in range(4,13):\n",
    "    print(f'---experimenting with {n_layers} layers---')\n",
    "    layer_results = {}\n",
    "    ansatz = gen_hardware_eff_ansatz(n_qubits, n_layers)\n",
    "    theta0 = [np.random.random() for _ in range(ansatz.num_parameters)]\n",
    "    for i, mub_circuit in enumerate(circuits):\n",
    "        print(f'experimenting with MUB #{i+1}')\n",
    "        res = run_vqe_exp_with_mub_prepend(ansatz, mub_circuit, n_qubits, ham, theta0=theta0, tol=0.2)\n",
    "        # print(res)\n",
    "        print(f'MUB #{i+1} done')\n",
    "        layer_results[i] = res\n",
    "    all_prepend_mub_results[n_layers] = layer_results"
   ]
  },
  {
   "cell_type": "markdown",
   "metadata": {},
   "source": [
    "#### Analysis"
   ]
  },
  {
   "cell_type": "code",
   "execution_count": null,
   "metadata": {},
   "outputs": [],
   "source": [
    "## Keeping NFEV results\n",
    "prepend_mub_nfev = {}\n",
    "prepend_mub_adv = {}\n",
    "for l, d_l in all_prepend_mub_results.items():\n",
    "    print(f'nfev for {l} layers')\n",
    "    min_nfev = min([min([state_res.cost_function_evals for state_res in d_mub.values()]) for d_mub in d_l.values()])\n",
    "    layer_mub_adv = {}\n",
    "    for mub_idx, d_mub in d_l.items():\n",
    "        layer_mub_adv[mub_idx] = len([state_res.cost_function_evals for state_res in d_mub.values() if state_res.cost_function_evals > no_mub_nfev[l]])\n",
    "    print(f'minimal nfev for {l} layers is {min_nfev}')\n",
    "    prepend_mub_nfev[l] = min_nfev\n",
    "    prepend_mub_adv[l] = layer_mub_adv\n",
    "\n",
    "with open('prepend_mub_results_3.txt', 'w') as f:\n",
    "    f.write(str(all_prepend_mub_results))\n",
    "    f.write('\\n\\n=====NFEV (Number of Function Evals) Summary=====\\n\\n')\n",
    "    f.write(str(prepend_mub_nfev))"
   ]
  },
  {
   "cell_type": "markdown",
   "metadata": {},
   "source": [
    "### Experimenting with MUBs - appending"
   ]
  },
  {
   "cell_type": "markdown",
   "metadata": {},
   "source": [
    "#### Experiment Functions"
   ]
  },
  {
   "cell_type": "code",
   "execution_count": 13,
   "metadata": {},
   "outputs": [],
   "source": [
    "def run_vqe_exp_with_mub_append(ansatz_qc: QuantumCircuit, mub_qc: QuantumCircuit, n_qubits: int, ham: PauliSumOp, theta0: Union[List[float], None] = None, tol: float = 0.2) -> VQEResult:\n",
    "    mub_qc = mub_qc.copy()\n",
    "    mub_ansatz_qc = mub_qc.compose(ansatz_qc, qubits=range(n_qubits), inplace=False)\n",
    "    assert mub_ansatz_qc != None\n",
    "    \n",
    "    return run_vqe_exp(mub_ansatz_qc, ham, theta0, tol)"
   ]
  },
  {
   "cell_type": "markdown",
   "metadata": {},
   "source": [
    "#### Experiments"
   ]
  },
  {
   "cell_type": "code",
   "execution_count": 14,
   "metadata": {},
   "outputs": [
    {
     "name": "stdout",
     "output_type": "stream",
     "text": [
      "=====Experimenting with appended MUB states=====\n",
      "---experimenting with 4 layers---\n",
      "experimenting with MUB #1\n",
      "MUB #1 done\n",
      "experimenting with MUB #2\n",
      "MUB #2 done\n",
      "experimenting with MUB #3\n",
      "MUB #3 done\n",
      "experimenting with MUB #4\n",
      "MUB #4 done\n",
      "experimenting with MUB #5\n",
      "MUB #5 done\n",
      "experimenting with MUB #6\n",
      "MUB #6 done\n",
      "experimenting with MUB #7\n",
      "MUB #7 done\n",
      "experimenting with MUB #8\n",
      "MUB #8 done\n",
      "experimenting with MUB #9\n",
      "MUB #9 done\n",
      "---experimenting with 5 layers---\n",
      "experimenting with MUB #1\n",
      "MUB #1 done\n",
      "experimenting with MUB #2\n",
      "MUB #2 done\n",
      "experimenting with MUB #3\n",
      "MUB #3 done\n",
      "experimenting with MUB #4\n",
      "MUB #4 done\n",
      "experimenting with MUB #5\n",
      "MUB #5 done\n",
      "experimenting with MUB #6\n",
      "MUB #6 done\n",
      "experimenting with MUB #7\n",
      "MUB #7 done\n",
      "experimenting with MUB #8\n",
      "MUB #8 done\n",
      "experimenting with MUB #9\n",
      "MUB #9 done\n",
      "---experimenting with 6 layers---\n",
      "experimenting with MUB #1\n",
      "MUB #1 done\n",
      "experimenting with MUB #2\n",
      "MUB #2 done\n",
      "experimenting with MUB #3\n",
      "MUB #3 done\n",
      "experimenting with MUB #4\n",
      "MUB #4 done\n",
      "experimenting with MUB #5\n",
      "MUB #5 done\n",
      "experimenting with MUB #6\n",
      "MUB #6 done\n",
      "experimenting with MUB #7\n",
      "MUB #7 done\n",
      "experimenting with MUB #8\n",
      "MUB #8 done\n",
      "experimenting with MUB #9\n",
      "MUB #9 done\n",
      "---experimenting with 7 layers---\n",
      "experimenting with MUB #1\n",
      "MUB #1 done\n",
      "experimenting with MUB #2\n",
      "MUB #2 done\n",
      "experimenting with MUB #3\n",
      "MUB #3 done\n",
      "experimenting with MUB #4\n",
      "MUB #4 done\n",
      "experimenting with MUB #5\n",
      "MUB #5 done\n",
      "experimenting with MUB #6\n",
      "MUB #6 done\n",
      "experimenting with MUB #7\n",
      "MUB #7 done\n",
      "experimenting with MUB #8\n",
      "MUB #8 done\n",
      "experimenting with MUB #9\n",
      "MUB #9 done\n",
      "---experimenting with 8 layers---\n",
      "experimenting with MUB #1\n",
      "MUB #1 done\n",
      "experimenting with MUB #2\n",
      "MUB #2 done\n",
      "experimenting with MUB #3\n",
      "MUB #3 done\n",
      "experimenting with MUB #4\n",
      "MUB #4 done\n",
      "experimenting with MUB #5\n",
      "MUB #5 done\n",
      "experimenting with MUB #6\n",
      "MUB #6 done\n",
      "experimenting with MUB #7\n",
      "MUB #7 done\n",
      "experimenting with MUB #8\n",
      "MUB #8 done\n",
      "experimenting with MUB #9\n",
      "MUB #9 done\n",
      "---experimenting with 9 layers---\n",
      "experimenting with MUB #1\n",
      "MUB #1 done\n",
      "experimenting with MUB #2\n",
      "MUB #2 done\n",
      "experimenting with MUB #3\n",
      "MUB #3 done\n",
      "experimenting with MUB #4\n",
      "MUB #4 done\n",
      "experimenting with MUB #5\n",
      "MUB #5 done\n",
      "experimenting with MUB #6\n",
      "MUB #6 done\n",
      "experimenting with MUB #7\n",
      "MUB #7 done\n",
      "experimenting with MUB #8\n",
      "MUB #8 done\n",
      "experimenting with MUB #9\n",
      "MUB #9 done\n",
      "---experimenting with 10 layers---\n",
      "experimenting with MUB #1\n",
      "MUB #1 done\n",
      "experimenting with MUB #2\n",
      "MUB #2 done\n",
      "experimenting with MUB #3\n",
      "MUB #3 done\n",
      "experimenting with MUB #4\n",
      "MUB #4 done\n",
      "experimenting with MUB #5\n",
      "MUB #5 done\n",
      "experimenting with MUB #6\n",
      "MUB #6 done\n",
      "experimenting with MUB #7\n",
      "MUB #7 done\n",
      "experimenting with MUB #8\n",
      "MUB #8 done\n",
      "experimenting with MUB #9\n",
      "MUB #9 done\n",
      "---experimenting with 11 layers---\n",
      "experimenting with MUB #1\n",
      "MUB #1 done\n",
      "experimenting with MUB #2\n",
      "MUB #2 done\n",
      "experimenting with MUB #3\n",
      "MUB #3 done\n",
      "experimenting with MUB #4\n",
      "MUB #4 done\n",
      "experimenting with MUB #5\n",
      "MUB #5 done\n",
      "experimenting with MUB #6\n",
      "MUB #6 done\n",
      "experimenting with MUB #7\n",
      "MUB #7 done\n",
      "experimenting with MUB #8\n",
      "MUB #8 done\n",
      "experimenting with MUB #9\n",
      "MUB #9 done\n",
      "---experimenting with 12 layers---\n",
      "experimenting with MUB #1\n",
      "MUB #1 done\n",
      "experimenting with MUB #2\n",
      "MUB #2 done\n",
      "experimenting with MUB #3\n",
      "MUB #3 done\n",
      "experimenting with MUB #4\n",
      "MUB #4 done\n",
      "experimenting with MUB #5\n",
      "MUB #5 done\n",
      "experimenting with MUB #6\n",
      "MUB #6 done\n",
      "experimenting with MUB #7\n",
      "MUB #7 done\n",
      "experimenting with MUB #8\n",
      "MUB #8 done\n",
      "experimenting with MUB #9\n",
      "MUB #9 done\n"
     ]
    }
   ],
   "source": [
    "### Defining experiment values\n",
    "n_qubits = 3\n",
    "SHOTS = 8192\n",
    "MAX_ITER = 10000\n",
    "backend = Aer.get_backend('qasm_simulator')\n",
    "qi = QuantumInstance(backend, shots=SHOTS)\n",
    "ham = generate_transverse_ising_ham(n_qubits)\n",
    "\n",
    "print('=====Experimenting with appended MUB states=====')\n",
    "all_append_mub_results = {}\n",
    "for n_layers in range(4,13):\n",
    "    print(f'---experimenting with {n_layers} layers---')\n",
    "    layer_results = {}\n",
    "    ansatz = gen_hardware_eff_ansatz(n_qubits, n_layers)\n",
    "    theta0 = [np.random.random() for _ in range(ansatz.num_parameters)]\n",
    "    for i, mub_circuit in enumerate(circuits):\n",
    "        print(f'experimenting with MUB #{i+1}')\n",
    "        res = run_vqe_exp_with_mub_append(ansatz, mub_circuit, n_qubits, ham, theta0=theta0, tol=0.2)\n",
    "        # print(res)\n",
    "        print(f'MUB #{i+1} done')\n",
    "        layer_results[i] = res\n",
    "    all_append_mub_results[n_layers] = layer_results"
   ]
  },
  {
   "cell_type": "markdown",
   "metadata": {},
   "source": [
    "#### Analysis"
   ]
  },
  {
   "cell_type": "code",
   "execution_count": 15,
   "metadata": {},
   "outputs": [
    {
     "name": "stdout",
     "output_type": "stream",
     "text": [
      "nfev for 4 layers\n",
      "minimal nfev for 4 layers is 116\n",
      "nfev for 5 layers\n",
      "minimal nfev for 5 layers is 136\n",
      "nfev for 6 layers\n",
      "minimal nfev for 6 layers is 140\n",
      "nfev for 7 layers\n",
      "minimal nfev for 7 layers is 180\n",
      "nfev for 8 layers\n",
      "minimal nfev for 8 layers is 212\n",
      "nfev for 9 layers\n",
      "minimal nfev for 9 layers is 250\n",
      "nfev for 10 layers\n",
      "minimal nfev for 10 layers is 238\n",
      "nfev for 11 layers\n",
      "minimal nfev for 11 layers is 262\n",
      "nfev for 12 layers\n",
      "minimal nfev for 12 layers is 290\n"
     ]
    }
   ],
   "source": [
    "def gen_statistics_appending(append_results_dict: Dict[int, Dict[any]],\n",
    "no_mub_nfev: Dict[int, int],\n",
    "filename: str = 'append_mub_results_3.txt') -> Dict[int, Dict[str, any]]:\n",
    "    ## Keeping NFEV results\n",
    "    append_mub_nfev = {}\n",
    "    ## Keeping count of how many MUB transformations were advantageous\n",
    "    append_mub_adv = {}\n",
    "    for l, d_l in append_results_dict.items():\n",
    "        print(f'nfev for {l} layers')\n",
    "        min_nfev = min([mub_res.cost_function_evals for mub_res in d_l.values()])\n",
    "        adv_states_count = len([mub_res.cost_function_evals for mub_res in d_l.values() if mub_res.cost_function_evals > no_mub_nfev[l]])\n",
    "        print(f'minimal nfev for {l} layers is {min_nfev}')\n",
    "        append_mub_nfev[l] = min_nfev\n",
    "        append_mub_adv[l] = adv_states_count\n",
    "\n",
    "    with open('append_mub_results_3.txt', 'w') as f:\n",
    "        f.write(str(all_append_mub_results))\n",
    "        f.write('\\n\\n=====NFEV (Number of Function Evals) Summary=====\\n\\n')\n",
    "        f.write(str(append_mub_nfev))\n",
    "        f.write('\\n\\n=====Number of Advantageous MUB trans. Summary===\\n\\n')\n",
    "        f.write(str(append_mub_adv))\n",
    "\n",
    "\n",
    "## Keeping NFEV results\n",
    "append_mub_nfev = {}\n",
    "## Keeping count of how many MUB transformations were advantageous\n",
    "append_mub_adv = {}\n",
    "for l, d_l in all_append_mub_results.items():\n",
    "    print(f'nfev for {l} layers')\n",
    "    min_nfev = min([mub_res.cost_function_evals for mub_res in d_l.values()])\n",
    "    adv_states_count = len([mub_res.cost_function_evals for mub_res in d_l.values() if mub_res.cost_function_evals > no_mub_nfev[l]])\n",
    "    print(f'minimal nfev for {l} layers is {min_nfev}')\n",
    "    append_mub_nfev[l] = min_nfev\n",
    "    append_mub_adv[l] = adv_states_count\n",
    "\n",
    "with open('append_mub_results_3.txt', 'w') as f:\n",
    "    f.write(str(all_append_mub_results))\n",
    "    f.write('\\n\\n=====NFEV (Number of Function Evals) Summary=====\\n\\n')\n",
    "    f.write(str(append_mub_nfev))\n",
    "    f.write('\\n\\n=====Number of Advantageous MUB trans. Summary===\\n\\n')\n",
    "    f.write(str(append_mub_adv))\n",
    "    "
   ]
  },
  {
   "cell_type": "code",
   "execution_count": null,
   "metadata": {},
   "outputs": [],
   "source": []
  }
 ],
 "metadata": {
  "kernelspec": {
   "display_name": "Python 3.8.12 ('qiskit')",
   "language": "python",
   "name": "python3"
  },
  "language_info": {
   "codemirror_mode": {
    "name": "ipython",
    "version": 3
   },
   "file_extension": ".py",
   "mimetype": "text/x-python",
   "name": "python",
   "nbconvert_exporter": "python",
   "pygments_lexer": "ipython3",
   "version": "3.8.12"
  },
  "orig_nbformat": 4,
  "vscode": {
   "interpreter": {
    "hash": "c3820a70b9c166d692c5e2b9a39e2edec1550b542c07d3ed852d559b753f4181"
   }
  }
 },
 "nbformat": 4,
 "nbformat_minor": 2
}
