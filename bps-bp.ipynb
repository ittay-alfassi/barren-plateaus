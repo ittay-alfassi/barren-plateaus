{
 "cells": [
  {
   "cell_type": "markdown",
   "id": "8d0c84e3-156a-4591-9593-662f9d14cf74",
   "metadata": {},
   "source": [
    "# Mutual Unbiased Bases as a Countermeasure to Barren Plateaus in Variational Quantum Algorithms"
   ]
  },
  {
   "cell_type": "markdown",
   "id": "b001fd7b-0f57-4625-b366-b011b30300c9",
   "metadata": {},
   "source": [
    "### Imports and Globals"
   ]
  },
  {
   "cell_type": "code",
   "execution_count": 1,
   "id": "7b0f2a4e-d63e-472f-b6aa-91def71cec3d",
   "metadata": {},
   "outputs": [],
   "source": [
    "import qiskit as qk\n",
    "from qiskit import Aer, QuantumCircuit\n",
    "\n",
    "from qiskit.circuit import Parameter, ClassicalRegister\n",
    "from qiskit.circuit.library import EfficientSU2\n",
    "from qiskit.utils import QuantumInstance\n",
    "from qiskit.algorithms import VQE\n",
    "from qiskit.algorithms.minimum_eigen_solvers.vqe import VQEResult\n",
    "from qiskit.algorithms.optimizers import COBYLA\n",
    "from typing import Tuple, List, Dict, Union\n",
    "from scipy.optimize import minimize, OptimizeResult\n",
    "import numpy as np\n",
    "from random import random\n",
    "import json\n",
    "from pprint import pprint\n",
    "import matplotlib.pyplot as plt\n",
    "from operator import truediv\n",
    "from cmath import pi\n",
    "from random import randint\n",
    "import os\n",
    "import time\n",
    "%matplotlib inline\n",
    "\n",
    "# MUB circuit file paths\n",
    "MUB_CIRC_2_PATH = os.path.join(os.getcwd(), 'mub_bqskit', '2_302')\n",
    "MUB_CIRC_3_PATH = os.path.join(os.getcwd(), 'mub_bqskit', '3_306')\n",
    "\n",
    "# Result folder names paths\n",
    "VQC_FOLDER = 'VQC results'\n",
    "NO_MUB_GRAPH_FOLDER = '3 qubit graphs'\n",
    "N_QUBIT_NO_MUB_GRAPH_FOLDER = 'n qubit graphs'\n",
    "STATS_FILENAME = 'stats.txt'\n",
    "\n",
    "# Hyper-parameter value options\n",
    "EPS_TOL = 1e-12\n",
    "LO_TOL = 1e-5\n",
    "MID_TOL = 1e-2\n",
    "HI_TOL = 0.2\n",
    "TINY_SUCCESS_BOUND = 0.01\n",
    "LO_SUCCESS_BOUND = 0.1\n",
    "HI_SUCCESS_BOUND = 0.4\n",
    "\n",
    "# Maximal Iteration upper bound (set to not be reached)\n",
    "MAX_ITER = 1e8\n",
    "\n",
    "# Circuit Execution Parameters\n",
    "SHOTS = 8192\n",
    "qasm_backend = Aer.get_backend('qasm_simulator')\n",
    "qasm_qi = QuantumInstance(qasm_backend, shots=SHOTS)"
   ]
  },
  {
   "cell_type": "markdown",
   "id": "8411e77c-bfc6-47c4-a38d-ad9c2871de8c",
   "metadata": {},
   "source": [
    "## Definitions and Functions"
   ]
  },
  {
   "cell_type": "markdown",
   "id": "b1a97e5f-9699-433d-83df-a8c8a4ab89cc",
   "metadata": {},
   "source": [
    "### Basic Barren Plateau Circuit for Variational Quantum Compilation\n",
    "\n",
    "The \"Arrasmith\" ansatz circuit is taken from \"Effect of barren plateaus on gradient-free optimization\" by Arrasmith et al. (2021).\n",
    "\n",
    "The attempted task is \"trivial\" Variational Quantum Compilation.\n",
    "Vartational Quantum Compilation gets some unitary $U$, and an ansatz $V(\\theta)$, and attempts to find a value for $\\theta$ such that $V(\\theta)| 0 \\rangle = U | 0 \\rangle$.\n",
    "\n",
    "In this case, we choose $U=I$.\n",
    "Because we pick a *random* initial guess for $\\theta$, we will experience the barren plateaus that occur when the $\\theta$ values are away from the target.\n",
    "I took this specific problem from \"Effect of barren plateaus on gradient-free optimization\" by Arrasmith et al. (2021).\n",
    "\n",
    "Note, however, an important observation:\n",
    "In order to actually use the \"value\" of the different MUB starting points, the original value of the parameters needs to be constant (although random) for all experiments."
   ]
  },
  {
   "cell_type": "code",
   "execution_count": 2,
   "id": "2a5fc4a2-6753-4ac4-be16-5496e32f9e9c",
   "metadata": {},
   "outputs": [],
   "source": [
    "def gen_vqc_ansatz_arrasmith(n_qubits: int, n_layers: int) -> QuantumCircuit:\n",
    "    qc = qk.QuantumCircuit(n_qubits)\n",
    "    count=1\n",
    "    for _ in range(n_layers):\n",
    "        \n",
    "        # First layer of U3 gates\n",
    "        for i in range(n_qubits):\n",
    "            thetas = [Parameter(f'theta_{count+z}') for z in range(3)]\n",
    "            qc.u(*thetas, i)\n",
    "            count += 3\n",
    "            \n",
    "        # First layer of even CXs\n",
    "        for i in range(0, n_qubits-1, 2):\n",
    "            qc.cx(i, i+1)\n",
    "            \n",
    "        # Second layer of U3 gates\n",
    "        for i in range(n_qubits):\n",
    "            thetas = [Parameter(f'theta_{count+z}') for z in range(3)]\n",
    "            qc.u(*thetas, i)\n",
    "            count += 3\n",
    "            \n",
    "        for i in range(1, n_qubits, 2):\n",
    "            qc.cx(i, (i+1)%n_qubits)\n",
    "            \n",
    "    qc.measure_all()\n",
    "        \n",
    "    return qc"
   ]
  },
  {
   "cell_type": "markdown",
   "id": "2a18d74c-ecf2-4baa-8f9b-7d951871ce3c",
   "metadata": {},
   "source": [
    "### Default Experiment Parameters and Hyper-parameters"
   ]
  },
  {
   "cell_type": "code",
   "execution_count": 3,
   "id": "6a1ac2d2-5599-4ea7-9c6c-ba9ee61df79a",
   "metadata": {},
   "outputs": [],
   "source": [
    "optimizer = ''\n",
    "success_bound = tol = K = N_LAYERS = N_QUBITS= 0\n",
    "def std_exp_3_qubits():\n",
    "    global optimizer\n",
    "    global success_bound\n",
    "    global tol\n",
    "    global K\n",
    "    global N_LAYERS\n",
    "    global N_QUBITS\n",
    "    optimizer = 'COBYLA'\n",
    "    success_bound = LO_SUCCESS_BOUND\n",
    "    tol = LO_TOL\n",
    "    K = 25\n",
    "    N_LAYERS = 12\n",
    "    N_QUBITS = 3\n",
    "    \n",
    "def std_exp_7_qubits():\n",
    "    global optimizer\n",
    "    global success_bound\n",
    "    global tol\n",
    "    global K\n",
    "    global N_LAYERS\n",
    "    global N_QUBITS\n",
    "    optimizer = 'COBYLA'\n",
    "    success_bound = LO_SUCCESS_BOUND\n",
    "    tol = LO_TOL\n",
    "    K = 25\n",
    "    N_LAYERS = 7\n",
    "    N_QUBITS = 7\n",
    "\n",
    "std_exp_3_qubits()"
   ]
  },
  {
   "cell_type": "markdown",
   "id": "09c93b23-49ab-4de9-8dce-4faca83d7e00",
   "metadata": {},
   "source": [
    "### Experiment Functions - Generic VQC experiment"
   ]
  },
  {
   "cell_type": "code",
   "execution_count": 4,
   "id": "bb972e4c-7d23-4497-bd1f-9a761cbb9462",
   "metadata": {},
   "outputs": [],
   "source": [
    "def low_constraint(x: List[float]):\n",
    "    return min(x)\n",
    "\n",
    "def hi_constraint(x: List[float]):\n",
    "    return 2*pi-max(x)\n",
    "\n",
    "def get_constraints() -> List[dict]:\n",
    "    return [{'type': 'ineq', 'fun': low_constraint}, {'type': 'ineq', 'fun': hi_constraint}]\n",
    "\n",
    "def rand_angle():\n",
    "    return (np.random.random()) * 2 * pi - pi\n",
    "\n",
    "# Calculate the percentage of results where 0 was reached in the jth qubit.\n",
    "def get_p0j(counts: dict, j: int, n_qubits: int, shots: int = SHOTS) -> float:\n",
    "    assert j >= 0 and j < n_qubits\n",
    "    count0j = sum([v for k,v in counts.items() if k[j] == '0'])\n",
    "    assert count0j >= 0 and count0j <= shots\n",
    "    return count0j / shots\n",
    "\n",
    "# Returns the number of function evaluations it took for the method to converge.\n",
    "# If during the optimization, the cost function goes below a specified bound, the optimization halts.\n",
    "# If the optimization halted because of the bound, the OptimizeResult is replaced with None.\n",
    "def run_vqc_exp(qc: QuantumCircuit,\n",
    "                theta0: List[float],\n",
    "                tol: float = HI_TOL,\n",
    "                success_bound: float = 0,\n",
    "                optimizer: str = 'COBYLA',\n",
    "                qi: QuantumInstance = qasm_qi,\n",
    "                q: float = 0) -> Tuple[List[float], OptimizeResult]:\n",
    "    \n",
    "    # defining \n",
    "    n_qubits = qc.num_qubits\n",
    "    cost_points = []\n",
    "    \n",
    "    # Exception used for breaking on hitting success bound\n",
    "    class BoundHitException(Exception):\n",
    "        pass\n",
    "    \n",
    "    \n",
    "    def evaluate_cost(theta: List[float]) -> float:\n",
    "        if float('inf') in theta or float('-inf') in theta:\n",
    "            raise ZeroDivisionError()\n",
    "        concrete_qc = qc.bind_parameters(theta)\n",
    "        results = qi.execute(concrete_qc)\n",
    "        counts = dict(results.get_counts())\n",
    "        # Calculating the cost\n",
    "        # Note that the Arrasmith paper uses ONLY the local cost.\n",
    "        # Also, note that while the initial global cost is close to 1, the initial local cost should be around 0.5.\n",
    "        # The intuition is that the probability to be in |0> specifically vanishes exponentially,\n",
    "        # While the amount of \"lit\" qubits in a random answer should be around half.\n",
    "        global_cost = 1 - (results.get_counts().int_raw.get(0, 0) / SHOTS)\n",
    "        local_cost = 1 - sum([get_p0j(counts, j, n_qubits) for j in range(n_qubits)]) / n_qubits\n",
    "        cost = q*global_cost + (1-q)*local_cost\n",
    "        cost_points.append(cost)\n",
    "        if (cost) <= success_bound:\n",
    "            print('Success bound reached. WOOP')\n",
    "            raise BoundHitException()\n",
    "        return cost\n",
    "\n",
    "    try:\n",
    "        # Based on constraint functions\n",
    "        if optimizer == 'COBYLA':\n",
    "            res = minimize(evaluate_cost,\n",
    "                theta0,\n",
    "                method='COBYLA',\n",
    "                options={'maxiter': MAX_ITER},\n",
    "                tol=tol,\n",
    "                constraints=get_constraints())\n",
    "        #based on concrete bounds\n",
    "        elif optimizer in ['Nelder-Mead', 'SLSQP', 'Powell']:\n",
    "            res = minimize(evaluate_cost,\n",
    "                theta0,\n",
    "                method=optimizer,\n",
    "                options={'maxiter': MAX_ITER},\n",
    "                tol=tol,\n",
    "                bounds = [(-pi,pi) for _ in range(len(theta0))])\n",
    "        else:\n",
    "            assert 0==1\n",
    "        \n",
    "    except BoundHitException:\n",
    "        return cost_points, True\n",
    "    except ZeroDivisionError:\n",
    "        return cost_points, cost_grad\n",
    "    except KeyboardInterrupt:\n",
    "        print('Optimization stopped by keyboard interrupt. WOLOLO')\n",
    "        return cost_points, False\n",
    "\n",
    "    return cost_points, res"
   ]
  },
  {
   "cell_type": "markdown",
   "id": "4a56f832-5fe1-46a1-85b1-3eb2fd2a0d94",
   "metadata": {},
   "source": [
    "### Experiment Functions - prepending circuits"
   ]
  },
  {
   "cell_type": "code",
   "execution_count": 5,
   "id": "d91486ee-4dcb-445e-8e07-9f986c5a9fc3",
   "metadata": {},
   "outputs": [],
   "source": [
    "# This function gets a number i from 0 to (2^n)-1\n",
    "# and returns a circuit that generates the state |i> when acting on |0>.\n",
    "def get_comp_state_circ(state_idx: int, n_qubits: int) -> QuantumCircuit:\n",
    "    qc = QuantumCircuit(n_qubits)\n",
    "    bin_str = bin(state_idx)[2:].zfill(n_qubits)\n",
    "    for i, ch in enumerate(bin_str):\n",
    "        if ch == '1':\n",
    "            qc.x(i)\n",
    "    return qc\n",
    "\n",
    "comp_circuits = [get_comp_state_circ(i, N_QUBITS) for i in range(2 ** N_QUBITS)]\n",
    "\n",
    "\n",
    "def run_vqc_exp_with_state_prepend(ansatz_qc: QuantumCircuit, state_qc: QuantumCircuit,\n",
    "                                   n_qubits: int, theta0: List[float],\n",
    "                                   tol: float = 0.2, success_bound: float=0,\n",
    "                                   optimizer: str = 'COBYLA',\n",
    "                                   qi: QuantumInstance = qasm_qi) -> dict:\n",
    "    state_qc = state_qc.copy()\n",
    "    state_qc.add_register(ClassicalRegister(n_qubits))\n",
    "    full_qc = state_qc.compose(ansatz_qc, qubits=range(n_qubits), inplace=False)\n",
    "    assert full_qc != None\n",
    "    return run_vqc_exp(full_qc, theta0, tol, success_bound, optimizer, qi)\n",
    "\n",
    "\n",
    "def run_vqc_exp_with_mub_prepend(ansatz_qc: QuantumCircuit, mub_qc: QuantumCircuit,\n",
    "                                 n_qubits: int, n_layers: int,\n",
    "                                 theta0: List[float], tol: float = 0.2,\n",
    "                                 success_bound: float = 0,\n",
    "                                 optimizer: str = 'COBYLA',\n",
    "                                 qi: QuantumInstance = qasm_qi) -> dict:\n",
    "    mub_qc = mub_qc.copy()\n",
    "    mub_qc.add_register(ClassicalRegister(n_qubits))\n",
    "    mub_ansatz_qc = mub_qc.compose(ansatz_qc, qubits=range(n_qubits), inplace=False)\n",
    "    assert mub_ansatz_qc != None\n",
    "\n",
    "    res_dict = {}\n",
    "    for i in range((2 ** n_qubits)):\n",
    "        state_qc = get_comp_state_circ(i, n_qubits)\n",
    "        res_dict[i] = run_vqc_exp_with_state_prepend(mub_ansatz_qc, state_qc, n_qubits, theta0, tol, success_bound, optimizer, qi)\n",
    "    return res_dict\n"
   ]
  },
  {
   "cell_type": "code",
   "execution_count": 6,
   "id": "5d6d5f0f-33be-4942-96a7-16775776c74f",
   "metadata": {},
   "outputs": [],
   "source": [
    "std_exp_3_qubits()"
   ]
  },
  {
   "cell_type": "markdown",
   "id": "9f2880f1-3a44-4b2f-b17d-501327beb695",
   "metadata": {},
   "source": [
    "### Control Group: $k$ Random Initial Parameter Vectors"
   ]
  },
  {
   "cell_type": "markdown",
   "id": "4a9a1637-522d-4dc0-9cb6-984a90d7b138",
   "metadata": {},
   "source": [
    "#### Result Data Structure\n",
    "\n",
    "The results are a list of tuples.\n",
    "The first element is the theta vector used for that run.\n",
    "The second element is a tuple of the convergence graph, and (optionally) the result data structure generated by SciPy."
   ]
  },
  {
   "cell_type": "code",
   "execution_count": 7,
   "id": "4baf0bed-be3a-4691-a710-1a82b1aaa0fb",
   "metadata": {},
   "outputs": [],
   "source": [
    "def run_k_random_theta_vqc_exp_set():\n",
    "    print('=====Experimenting with SMALL SETS of radnom initial parameters=====')\n",
    "    start_time = time.time()\n",
    "    first_time = start_time\n",
    "    finish_time = start_time\n",
    "    interrupted = False\n",
    "    \n",
    "    results = []\n",
    "    ansatz = gen_vqc_ansatz_arrasmith(N_QUBITS, N_LAYERS)\n",
    "\n",
    "    for i in range(K):\n",
    "        theta0 = [rand_angle() for _ in range(ansatz.num_parameters)]\n",
    "        print(f'experimenting with random parameter set #{i}')\n",
    "        exp_data = run_vqc_exp(ansatz, theta0, tol=tol, success_bound=success_bound, optimizer=optimizer)\n",
    "        print(f'parameter set #{i} done')\n",
    "        \n",
    "        if exp_data[1] == False: # Signifying keyboard interrupt\n",
    "            interrupted = True\n",
    "            exp_data = (exp_data[0], [])\n",
    "        elif exp_data[1] == True:\n",
    "            state_data = (exp_data[0], [])\n",
    "\n",
    "        finish_time = time.time()\n",
    "        print(f'Finished experiment in {finish_time - start_time} seconds at {time.asctime(time.localtime())}')\n",
    "        start_time = finish_time\n",
    "\n",
    "        results.append((theta0, exp_data))\n",
    "\n",
    "        if interrupted:\n",
    "            return results, False\n",
    "        \n",
    "    print(f'total took {finish_time - first_time} seconds')\n",
    "    \n",
    "    return results, True"
   ]
  },
  {
   "cell_type": "markdown",
   "id": "79755792-e609-4883-ab4d-dbea2d9a9a6c",
   "metadata": {
    "tags": []
   },
   "source": [
    "### Loading the QASM MUB circuits into Qiskit"
   ]
  },
  {
   "cell_type": "code",
   "execution_count": 8,
   "id": "621e9484-f954-463a-958e-e1eb17033bf6",
   "metadata": {},
   "outputs": [],
   "source": [
    "CIRC_FROM_FILES = True\n",
    "if CIRC_FROM_FILES:\n",
    "    paths_2 = os.listdir(MUB_CIRC_2_PATH)\n",
    "    paths_3 = os.listdir(MUB_CIRC_3_PATH)\n",
    "    mub_circuits_2_qubits = [qk.circuit.QuantumCircuit.from_qasm_file(os.path.join(MUB_CIRC_2_PATH,path)) for path in paths_2 if '.txt' in path]\n",
    "    mub_circuits_3_qubits = [qk.circuit.QuantumCircuit.from_qasm_file(os.path.join(MUB_CIRC_3_PATH,path)) for path in paths_3 if '.txt' in path]\n",
    "else:\n",
    "    mub_circuits_2_qubits = [qk.circuit.QuantumCircuit.from_qasm_str(qasm_str) for qasm_str in qasm_2_302.values()]\n",
    "    mub_circuits_3_qubits = [qk.circuit.QuantumCircuit.from_qasm_str(qasm_str) for qasm_str in qasm_3_306.values()]"
   ]
  },
  {
   "cell_type": "markdown",
   "id": "d3f13e0f-05ae-4e50-a3cf-bbd74771d967",
   "metadata": {
    "tags": []
   },
   "source": [
    "### Utilization Method: try k random MUB states"
   ]
  },
  {
   "cell_type": "markdown",
   "id": "6181e13a-1e00-4de2-a7c7-850665f32016",
   "metadata": {
    "tags": []
   },
   "source": [
    "#### Results Data Structure\n",
    "The results of the experiment are a dictionary.\n",
    "The key is a pair: the first element is the MUB index, and the second is the state index.\n",
    "The value is a tuple of the convergence graph, and (optionally) the result data structure generated by SciPy."
   ]
  },
  {
   "cell_type": "code",
   "execution_count": 9,
   "id": "c78db3c2-6de3-4ee0-b194-78896be2b0c8",
   "metadata": {},
   "outputs": [],
   "source": [
    "def generate_k_mub_choices(k: int) -> List[Tuple[int, int]]:\n",
    "    n_mubs = 2 ** N_QUBITS + 1\n",
    "    n_states = 2 ** N_QUBITS\n",
    "    assert k <= n_mubs * n_states\n",
    "    res = []\n",
    "    while k > 0:\n",
    "        while True:\n",
    "            mub = randint(0, n_mubs-1)\n",
    "            state = randint(0, n_states-1)\n",
    "            if (mub, state) not in res:\n",
    "                res.append((mub, state))\n",
    "                k -= 1\n",
    "                break\n",
    "    return res"
   ]
  },
  {
   "cell_type": "code",
   "execution_count": 10,
   "id": "0d411497-0dae-48ef-b5e5-0acb679e68d2",
   "metadata": {},
   "outputs": [],
   "source": [
    "def run_k_mub_state_vqc_exp_set():\n",
    "    print('=====Experimenting with SMALL SETS of prepended MUB states=====')\n",
    "    start_time = time.time()\n",
    "    first_time = start_time\n",
    "    finish_time = start_time\n",
    "    interrupted = False\n",
    "    results = {}\n",
    "    \n",
    "    ansatz = gen_vqc_ansatz_arrasmith(N_QUBITS, N_LAYERS)\n",
    "    theta0 = [rand_angle() for _ in range(ansatz.num_parameters)]\n",
    "    state_choices = generate_k_mub_choices(K)\n",
    "\n",
    "    for mub, state in state_choices:\n",
    "        print(f'experimenting with MUB {mub}, state {state}')\n",
    "        mub_qc = mub_circuits_3_qubits[mub].copy()\n",
    "        state_qc = comp_circuits[state].copy()\n",
    "        full_state_qc = state_qc.compose(mub_qc, inplace=False)\n",
    "        state_data = run_vqc_exp_with_state_prepend(ansatz, full_state_qc, N_QUBITS,\n",
    "                                                    theta0, tol=tol, success_bound=success_bound, optimizer=optimizer)\n",
    "        print(f'({mub},{state}) done')\n",
    "\n",
    "        if state_data[1] == False: # Signifying keyboard interrupt\n",
    "            interrupted = True\n",
    "            state_data = (state_data[0], [])\n",
    "        elif state_data[1] == True:\n",
    "            state_data = (state_data[0], [])\n",
    "\n",
    "        finish_time = time.time()\n",
    "        print(f'Finished experiment in {finish_time - start_time} seconds at {time.asctime(time.localtime())}')\n",
    "        start_time = finish_time\n",
    "\n",
    "        results[(mub, state)] = state_data\n",
    "\n",
    "        if interrupted:\n",
    "            return results, False\n",
    "\n",
    "    print(f'total took {finish_time - first_time} seconds')\n",
    "    return results, True"
   ]
  },
  {
   "cell_type": "markdown",
   "id": "ff505991-8a51-49cb-827a-5df034f11434",
   "metadata": {
    "tags": []
   },
   "source": [
    "### Utilization Method: Try k half-MUBs\n",
    "\n",
    "When working with $n$ qubits, there is an exponential number of MUBs, and each MUB has an exponential number of states.\n",
    "\n",
    "The generation of all of these MUB transformations takes exponential time by itself.\n",
    "\n",
    "To mitigate that, Tal proposed the following idea:\n",
    "Pick a pair of qubits in an $n$-qubit register. generate a 2-qubit MUB state between them, and put the rest on 0.\n",
    "\n",
    "This method has a polynomial amount of states, and spans an interesting part of the space."
   ]
  },
  {
   "cell_type": "markdown",
   "id": "0c7ef033-7e98-493b-9c20-ffdd43a7da67",
   "metadata": {
    "tags": []
   },
   "source": [
    "#### Results Data Structure\n",
    "The results of the experiment are a dict from the n of layers and qubits to the results for that n.\n",
    "\n",
    "Each layer's results are also a dictionary.\n",
    "The key is a 4-tuple: the two first places are the pairs of qubits on which the MUB state was generated, the third is the MUB index, and the fourth is the state index.\n",
    "The value is a tuple of the convergence graph, and (optionally) the result data structure generated by SciPy."
   ]
  },
  {
   "cell_type": "code",
   "execution_count": 11,
   "id": "e4f1bb81-eaa6-4757-82ab-4a79d4dd0c34",
   "metadata": {},
   "outputs": [],
   "source": [
    "def gen_half_mub_circ_2_qubits(n_qubits: int, qubit_1: int, qubit_2: int, mub_no: int, state_no: int, mub_circuits: List[QuantumCircuit]) -> QuantumCircuit:\n",
    "    qc = QuantumCircuit(n_qubits)\n",
    "    comp_state_qc = get_comp_state_circ(state_no, n_qubits=2)\n",
    "    qc.compose(comp_state_qc, qubits=[qubit_1, qubit_2], inplace=True)\n",
    "    qc.compose(mub_circuits[mub_no], qubits=[qubit_1, qubit_2], inplace=True)\n",
    "    return qc\n",
    "\n",
    "def gen_half_mub_circ_3_qubits(n_qubits: int, qubit_1: int, qubit_2: int, qubit_3: int,\n",
    "                               mub_no: int, state_no: int, mub_circuits: List[QuantumCircuit]) -> QuantumCircuit:\n",
    "    qc = QuantumCircuit(n_qubits)\n",
    "    comp_state_qc = get_comp_state_circ(state_no, n_qubits=3)\n",
    "    qc.compose(comp_state_qc, qubits=[qubit_1, qubit_2, qubit_3], inplace=True)\n",
    "    qc.compose(mub_circuits[mub_no], qubits=[qubit_1, qubit_2, qubit_3], inplace=True)\n",
    "    return qc\n",
    "\n",
    "def gen_k_half_mub_choices_2_qubits(n_qubits: int, k: int) -> List[Tuple[int, int, int, int]]:\n",
    "    n_mubs = 2 ** 2 + 1\n",
    "    n_states = 2 ** 2\n",
    "    # m mubs * (n choose 2) pairs of qubits\n",
    "    assert k <= n_mubs * n_qubits * (n_qubits-1) // 2\n",
    "    res = []\n",
    "    while k > 0:\n",
    "        while True:\n",
    "            qubit_1 = randint(0, n_qubits-2)\n",
    "            qubit_2 = randint(qubit_1+1, n_qubits-1)\n",
    "            mub = randint(0, n_mubs-1)\n",
    "            state = randint(0, n_states-1)\n",
    "            if (qubit_1, qubit_2, mub, state) not in res:\n",
    "                res.append((qubit_1, qubit_2, mub, state))\n",
    "                k -= 1\n",
    "                break\n",
    "    return res\n",
    "\n",
    "def gen_k_half_mub_choices_3_qubits(n_qubits: int, k: int) -> List[Tuple[int, int, int, int]]:\n",
    "    n_mubs = 2 ** 3 + 1\n",
    "    n_states = 2 ** 3\n",
    "    # m mubs * (n choose 3) pairs of qubits\n",
    "    assert k <= n_mubs * n_qubits * (n_qubits-1) * (n_qubits-2) // 6\n",
    "    res = []\n",
    "    while k > 0:\n",
    "        while True:\n",
    "            qubit_1 = randint(0, n_qubits-3)\n",
    "            qubit_2 = randint(qubit_1+1, n_qubits-2)\n",
    "            qubit_3 = randint(qubit_2+1, n_qubits-1)\n",
    "            mub = randint(0, n_mubs-1)\n",
    "            state = randint(0, n_states-1)\n",
    "            if (qubit_1, qubit_2, qubit_3, mub, state) not in res:\n",
    "                res.append((qubit_1, qubit_2, mub, state))\n",
    "                k -= 1\n",
    "                break\n",
    "    return res"
   ]
  },
  {
   "cell_type": "code",
   "execution_count": 12,
   "id": "a9d4189a-3a91-4054-b7fb-8ba3cb0930d3",
   "metadata": {},
   "outputs": [],
   "source": [
    "def run_k_half_mub_state_2_qubit_vqc_exp_set():\n",
    "    print('=====Experimenting with SMALL SETS of prepended half-MUB states=====')\n",
    "    start_time = time.time()\n",
    "    first_time = start_time\n",
    "    finish_time = start_time\n",
    "    interrupted = False\n",
    "    results = {}\n",
    "    \n",
    "    ansatz = gen_vqc_ansatz_arrasmith(N_QUBITS, N_LAYERS)\n",
    "    theta0 = [rand_angle() for _ in range(ansatz.num_parameters)]\n",
    "    state_choices = gen_k_half_mub_choices_2_qubits(n_qubits=N_QUBITS, k=K)\n",
    "\n",
    "    for choice in state_choices:\n",
    "        print(f'experimenting with pair {(choice[0], choice[1])}, MUB {choice[2]}, state {choice[3]}')\n",
    "        full_state_qc = gen_half_mub_circ_2_qubits(N_LAYERS, *choice, mub_circuits_2_qubits)\n",
    "        state_data = run_vqc_exp_with_state_prepend(ansatz, full_state_qc, N_QUBITS,\n",
    "                                                    theta0, tol=tol, success_bound=success_bound, optimizer=optimizer)\n",
    "        print(f'{choice} done')\n",
    "        \n",
    "        finish_time = time.time()\n",
    "        print(f'Finished experiment in {finish_time - start_time} seconds at {time.asctime(time.localtime())}')\n",
    "        start_time = finish_time\n",
    "\n",
    "        results[choice] = state_data\n",
    "\n",
    "        if interrupted:\n",
    "            return results, False\n",
    "        \n",
    "\n",
    "    print(f'total took {finish_time - first_time} seconds')\n",
    "    return results, True\n",
    "\n",
    "def run_k_half_mub_state_3_qubit_vqc_exp_set():\n",
    "    print('=====Experimenting with SMALL SETS of prepended half-MUB states=====')\n",
    "    start_time = time.time()\n",
    "    first_time = start_time\n",
    "    finish_time = start_time\n",
    "    interrupted = False\n",
    "    results = {}\n",
    "    \n",
    "    ansatz = gen_vqc_ansatz_arrasmith(N_QUBITS, N_LAYERS)\n",
    "    theta0 = [rand_angle() for _ in range(ansatz.num_parameters)]\n",
    "    state_choices = gen_k_half_mub_choices_3_qubits(n_qubits=N_QUBITS, k=K)\n",
    "\n",
    "    for choice in state_choices:\n",
    "        print(f'experimenting with pair {(choice[0], choice[1], choice[2])}, MUB {choice[3]}, state {choice[4]}')\n",
    "        full_state_qc = gen_half_mub_circ_3_qubits(N_LAYERS, *choice, mub_circuits_3_qubits)\n",
    "        state_data = run_vqc_exp_with_state_prepend(ansatz, full_state_qc, N_QUBITS,\n",
    "                                                    theta0, tol=tol, success_bound=success_bound, optimizer=optimizer)\n",
    "        print(f'{choice} done')\n",
    "        \n",
    "        finish_time = time.time()\n",
    "        print(f'Finished experiment in {finish_time - start_time} seconds at {time.asctime(time.localtime())}')\n",
    "        start_time = finish_time\n",
    "\n",
    "        results[choice] = state_data\n",
    "\n",
    "        if interrupted:\n",
    "            return results, False\n",
    "        \n",
    "\n",
    "    print(f'total took {finish_time - first_time} seconds')\n",
    "    return results, True"
   ]
  },
  {
   "cell_type": "markdown",
   "id": "7ee73822-6e40-46cc-b23b-6144ad65612a",
   "metadata": {
    "tags": []
   },
   "source": [
    "### Analysis Functions - General"
   ]
  },
  {
   "cell_type": "code",
   "execution_count": 13,
   "id": "4aa8655f-172b-462b-a406-4b9883ca65b1",
   "metadata": {},
   "outputs": [],
   "source": [
    "def avg(col):\n",
    "    col = filter(col) # Remove 'None' values\n",
    "    return sum(col) / len(col) if len(col) > 0 else None\n",
    "\n",
    "def wavg(col, weights):\n",
    "    assert len(col) == len(weights)\n",
    "    return sum([v * w for v,w in zip(col, weights)])\n",
    "    \n",
    "def first_index(pred, lst):\n",
    "    all_res = [x for x in range(len(lst)) if pred(lst[x])]\n",
    "    return all_res[0] if all_res != [] else None\n",
    "\n",
    "\n",
    "def nfev(data: Tuple[List[float], Union[VQEResult, OptimizeResult]]) -> int:\n",
    "    evals, record = data\n",
    "    if evals != []:\n",
    "        return len(evals)\n",
    "    elif type(record) == VQEResult:\n",
    "        return record.cost_function_evals\n",
    "    else:\n",
    "        assert type(record) == OptimizeResult\n",
    "        return record.nfev\n",
    "    \n",
    "    \n",
    "def fin_val(data: Tuple[List[float], Union[VQEResult, OptimizeResult]]) -> int:\n",
    "    evals, record = data\n",
    "    if evals != []:\n",
    "        return evals[-1]\n",
    "    elif type(record) == VQEResult:\n",
    "        return record.eigenvalue\n",
    "    else:\n",
    "        return record.fun\n",
    "\n",
    "def plot_and_save_convergence_graph(evals: List[float], target_vals: List[float], title: str, filename: str):\n",
    "    plt.axis([0, len(evals), 0, 1])\n",
    "    plt.plot(evals)\n",
    "    plt.title(title)\n",
    "    \n",
    "    if target_vals != []:\n",
    "        plt.plot([0, len(evals)-1], [target_vals[0], target_vals[0]], color='red')\n",
    "    for fake_target in target_vals[1:]:\n",
    "        plt.plot([0, len(evals)-1], [target_vals[0], target_vals[0]], color='purple')\n",
    "        \n",
    "    plt.savefig(filename)\n",
    "    plt.show()"
   ]
  },
  {
   "cell_type": "markdown",
   "id": "4a6cbe92-1164-4ff4-9bcb-1169c653e90c",
   "metadata": {
    "tags": []
   },
   "source": [
    "### Analysis Functions - Utilization Methods"
   ]
  },
  {
   "cell_type": "code",
   "execution_count": 14,
   "id": "920ee189-f70c-416b-9dd1-a683c98db47e",
   "metadata": {},
   "outputs": [],
   "source": [
    "def gen_statistics_random_thetas(random_thetas_results_dict: List[Tuple[List[float],Tuple[List[float], VQEResult]]],\n",
    "                                 target_vals: List[float] = [0],\n",
    "                                 stats_folder: str = '',\n",
    "                                 stats_filename: str = '') -> Dict[int, Dict[str, any]]:\n",
    "    \n",
    "    if stats_folder == '':\n",
    "        stats_folder = input('enter path for results directory')\n",
    "    if not os.path.isdir(stats_folder):\n",
    "        os.mkdir(stats_folder)\n",
    "    if stats_filename == '':\n",
    "        stats_filename = input('enter filename for statistics file')\n",
    "        \n",
    "    assert target_vals != []\n",
    "    success_bound = target_vals[-1]    \n",
    "    \n",
    "    stats = {}\n",
    "    min_nfev = min([nfev(exp_data) for _, exp_data in random_thetas_results])\n",
    "    stats['min_nfev'] = min_nfev\n",
    "    stats['avg_nfev'] = avg([nfev(exp_data) for _, exp_data in random_thetas_results])\n",
    "    correct_thetas = [fin_val(exp_data) for _, exp_data in random_thetas_results if abs(fin_val(exp_data)-success_bound) < 1e-2]\n",
    "    stats['correct_thetas_count'] = len(correct_thetas)\n",
    "    stats['correct_addition_percent'] = len(correct_thetas) / len(random_thetas_results)\n",
    "    stats['correct_avg_val'] = avg(correct_thetas)\n",
    "\n",
    "    stats['evals'] = {k: v[1][0] for k,v in enumerate(random_thetas_results)}\n",
    "    stats['nfevs'] = {k: len(v[1][0]) for k,v in enumerate(random_thetas_results)}\n",
    "    stats['fin_vals'] = {k: fin_val(v[1]) for k,v in enumerate(random_thetas_results)}\n",
    "    \n",
    "    for target_val in target_vals:\n",
    "        stats[f'hit_{target_val}'] = {k: first_idx(lambda x: x <= target_val, v[1][0]) for k,v in enumerate(random_thetas_results)}\n",
    "        \n",
    "    with open(os.path.join(stats_folder, stats_filename), 'w') as f:\n",
    "        pprint(stats, f)\n",
    "        \n",
    "    for idx, evals in stats['evals'].items():\n",
    "        plot_and_save_convergence_graph(evals=evals,\n",
    "                        target_vals=target_vals,\n",
    "                        title=f'Convergence graph with {N_LAYERS} layers, theta #{idx}',\n",
    "                        filename=os.path.join(stats_folder, f'{N_LAYERS},{idx}.png'))\n",
    "    \n",
    "    return stats\n",
    "\n",
    "\n",
    "\n",
    "# Analyze the performance of using MUB states as initial states for an ansatz\n",
    "def gen_statistics_mubs(prepend_results_dict: Dict[Tuple[int, int], Tuple[List[float], VQEResult]],\n",
    "                              target_vals: List[float] = [0],\n",
    "                              stats_folder: str = '',\n",
    "                              stats_filename: str = '') -> Dict[int, Dict[str, any]]:\n",
    "    \n",
    "    if stats_folder == '':\n",
    "        stats_folder = input('enter path for results directory')\n",
    "        if not os.path.isdir(stats_folder):\n",
    "            os.mkdir(stats_folder)\n",
    "    if stats_filename == '':\n",
    "        stats_filename = input('enter filename for statistics file')\n",
    "\n",
    "    stats = {}\n",
    "    min_nfev = min([nfev(state_data) for state_data in prepend_results_dict.values()])\n",
    "    stats['min_nfev'] = min_nfev\n",
    "    stats['avg_nfev'] = avg([nfev(state_data) for state_data in prepend_results_dict.values()])\n",
    "\n",
    "\n",
    "    assert target_vals != []\n",
    "    success_bound = target_vals[-1]\n",
    "    # Experiments that terminated closer to the intended result\n",
    "    correct_states = {state: fin_val(state_data) for state_idx, state_data in prepend_results_dict.items() if fin_val(state_data)-success_bound < 1e-2}        \n",
    "    stats['correct_states'] = correct_states\n",
    "    stats['correct_states_count'] = len(correct_states)\n",
    "    stats['correct_addition_percent'] = len(correct_states) / len(prepend_results_dict)\n",
    "    stats['correct_avg_val'] = avg(correct_states.values())\n",
    "\n",
    "    stats['evals'] = {k: v[0] for k,v in prepend_results_dict.items()}\n",
    "    stats['nfevs'] = {k: len(v[0]) for k,v in prepend_results_dict.items()}\n",
    "    stats['fin_vals'] = {k: fin_val(v) for k,v in prepend_results_dict.items()}\n",
    "    \n",
    "    for target_val in target_vals:\n",
    "        stats[f'hit_{target_val}'] = {k: first_idx(lambda x: x <= target_val, v[0]) for k,v in prepend_results_dict.items()}\n",
    "        \n",
    "    with open(os.path.join(stats_folder, stats_filename), 'w') as f:\n",
    "        pprint(stats, f)\n",
    "        \n",
    "    for idx, data in prepend_results_dict.items():\n",
    "        plot_and_save_convergence_graph(evals=data[0],\n",
    "                            target_vals=target_vals,\n",
    "                            title=f'Convergence graph with {N_LAYERS} layers, state {idx}',\n",
    "                            filename=os.path.join(stats_folder, f'{N_LAYERS},{idx[0]},{idx[1]}.png'))\n",
    "    return stats\n",
    "\n",
    "\n",
    "def gen_statistics_half_mubs_2_qubits(half_mubs_results_dict: Dict[int, Dict[Tuple[int, int], Tuple[List[float], VQEResult]]],\n",
    "                             target_vals: List[float] = [0],\n",
    "                             stats_folder: str = '',\n",
    "                             stats_filename: str = '') -> Dict[int, Dict[str, any]]:\n",
    "    \n",
    "    if stats_folder == '':\n",
    "        stats_folder = input('enter path for results directory')\n",
    "        if not os.path.isdir(stats_folder):\n",
    "            os.mkdir(stats_folder)\n",
    "    if stats_filename == '':\n",
    "        stats_filename = input('enter filename for statistics file')\n",
    "\n",
    "    stats = {}\n",
    "    min_nfev = min([nfev(state_data) for state_data in half_mubs_results_dict.values()])\n",
    "    stats['min_nfev'] = min_nfev\n",
    "    stats['avg_nfev'] = avg([nfev(state_data) for state_data in half_mubs_results_dict.values()])\n",
    "\n",
    "    assert target_vals != []\n",
    "    success_bound = target_vals[-1]\n",
    "    # Experiments that terminated closer to the intended result\n",
    "    correct_states = {choice: fin_val(state_data) for choice, state_data in half_mubs_results_dict.items() if fin_val(state_data)-success_bound < 1e-2}        \n",
    "    stats['correct_states'] = correct_states\n",
    "    stats['correct_states_count'] = len(correct_states)\n",
    "    stats['correct_addition_percent'] = len(correct_states) / len(half_mubs_results_dict)\n",
    "    stats['correct_avg_val'] = avg(correct_states.values())\n",
    "\n",
    "    stats['evals'] = {k: v[0] for k,v in half_mubs_results_dict.items()}\n",
    "    stats['nfevs'] = {k: len(v[0]) for k,v in half_mubs_results_dict.items()}\n",
    "    stats['fin_vals'] = {k: fin_val(v) for k,v in half_mubs_results_dict.items()}\n",
    "    \n",
    "    for target_val in target_vals:\n",
    "        stats[f'hit_{target_val}'] = {k: first_idx(lambda x: x <= target_val, v[0]) for k,v in half_mubs_results_dict.items()}\n",
    "        \n",
    "    with open(os.path.join(stats_folder, stats_filename), 'w') as f:\n",
    "        pprint(stats, f)\n",
    "        \n",
    "    for idx, data in half_mubs_results_dict.items():\n",
    "        plot_and_save_convergence_graph(evals=data[0],\n",
    "                            target_vals=target_vals,\n",
    "                            title=f'Convergence graph with {N_LAYERS} layers, pair ({idx[0]},{idx[1]}), MUB state({idx[2]},{idx[3]})',\n",
    "                            filename=os.path.join(stats_folder, f'{N_LAYERS}_{idx[0]},{idx[1]}_{idx[2]},{idx[3]}.png'))\n",
    "    return half_mub_stats\n",
    "\n",
    "\n",
    "\n",
    "\n",
    "def gen_statistics_half_mubs_3_qubits(half_mubs_results_dict: Dict[int, Dict[Tuple[int, int], Tuple[List[float], VQEResult]]],\n",
    "                             target_vals: List[float] = [0],\n",
    "                             stats_folder: str = '',\n",
    "                             stats_filename: str = '') -> Dict[int, Dict[str, any]]:\n",
    "    \n",
    "    if stats_folder == '':\n",
    "        stats_folder = input('enter path for results directory')\n",
    "        if not os.path.isdir(stats_folder):\n",
    "            os.mkdir(stats_folder)\n",
    "    if stats_filename == '':\n",
    "        stats_filename = input('enter filename for statistics file')\n",
    "\n",
    "    stats = {}\n",
    "    min_nfev = min([nfev(state_data) for state_data in half_mubs_results_dict.values()])\n",
    "    stats['min_nfev'] = min_nfev\n",
    "    stats['avg_nfev'] = avg([nfev(state_data) for state_data in half_mubs_results_dict.values()])\n",
    "\n",
    "    assert target_vals != []\n",
    "    success_bound = target_vals[-1]\n",
    "    # Experiments that terminated closer to the intended result\n",
    "    correct_states = {choice: fin_val(state_data) for choice, state_data in half_mubs_results_dict.items() if fin_val(state_data)-success_bound < 1e-2}        \n",
    "    stats['correct_states'] = correct_states\n",
    "    stats['correct_states_count'] = len(correct_states)\n",
    "    stats['correct_addition_percent'] = len(correct_states) / len(half_mubs_results_dict)\n",
    "    stats['correct_avg_val'] = avg(correct_states.values())\n",
    "\n",
    "    stats['evals'] = {k: v[0] for k,v in half_mubs_results_dict.items()}\n",
    "    stats['nfevs'] = {k: len(v[0]) for k,v in half_mubs_results_dict.items()}\n",
    "    stats['fin_vals'] = {k: fin_val(v) for k,v in half_mubs_results_dict.items()}\n",
    "    \n",
    "    for target_val in target_vals:\n",
    "        stats[f'hit_{target_val}'] = {k: first_idx(lambda x: x <= target_val, v[0]) for k,v in half_mubs_results_dict.items()}\n",
    "        \n",
    "    with open(os.path.join(stats_folder, stats_filename), 'w') as f:\n",
    "        pprint(stats, f)\n",
    "        \n",
    "    for idx, data in half_mubs_results_dict.items():\n",
    "        plot_and_save_convergence_graph(evals=data[0],\n",
    "                            target_vals=target_vals,\n",
    "                            title=f'Convergence graph with {N_LAYERS} layers, triple ({idx[0]},{idx[1]},{idx[2]}), MUB state({idx[2]},{idx[3]})',\n",
    "                            filename=os.path.join(stats_folder, f'{N_LAYERS}_{idx[0]},{idx[1]},{idx[2]}_{idx[3]},{idx[4]}.png'))\n",
    "    return half_mub_stats"
   ]
  },
  {
   "cell_type": "markdown",
   "id": "e6e4704a-b028-4491-917c-5b22d2d9b8aa",
   "metadata": {},
   "source": [
    "## Experiments"
   ]
  },
  {
   "cell_type": "markdown",
   "id": "34cc8939-26e5-4785-a162-b85cd7d00159",
   "metadata": {
    "jp-MarkdownHeadingCollapsed": true,
    "tags": []
   },
   "source": [
    "### Hyper-Parameter Experiments: Choosing TOL"
   ]
  },
  {
   "cell_type": "markdown",
   "id": "e7fee8dd-53d4-4dd4-b102-4b1bb4f9c3fd",
   "metadata": {},
   "source": [
    "#### COBYLA optimizer"
   ]
  },
  {
   "cell_type": "code",
   "execution_count": null,
   "id": "ebfd7480-8315-4b89-aa19-1a13efa7459b",
   "metadata": {},
   "outputs": [],
   "source": [
    "std_exp_3_qubits()\n",
    "optimizer = 'COBYLA'\n",
    "cobyla_tol_results = []\n",
    "tols = [HI_TOL, MID_TOL, LO_TOL, EPS_TOL]\n",
    "for currtol in tols:\n",
    "    tol = currtol\n",
    "    cobyla_tol_results.append(run_k_random_theta_vqc_exp_set())"
   ]
  },
  {
   "cell_type": "markdown",
   "id": "1046c4da-250f-49ac-ba52-ef7fab628f38",
   "metadata": {},
   "source": [
    "#### Powell optimizer"
   ]
  },
  {
   "cell_type": "code",
   "execution_count": null,
   "id": "5ac34440-5b19-4d49-9377-4afd68fe20a8",
   "metadata": {},
   "outputs": [],
   "source": [
    "std_exp_3_qubits()\n",
    "optimizer = 'Powell'\n",
    "powell_tol_results = []\n",
    "tols = [HI_TOL, MID_TOL, LO_TOL, EPS_TOL]\n",
    "for currtol in tols:\n",
    "    tol = currtol\n",
    "    powell_tol_results.append(run_k_random_theta_vqc_exp_set())"
   ]
  },
  {
   "cell_type": "markdown",
   "id": "22d1e5b4-e741-4425-bfdc-ec0e725c0067",
   "metadata": {},
   "source": [
    "#### Nelder-Mead optimizer"
   ]
  },
  {
   "cell_type": "code",
   "execution_count": null,
   "id": "915a1519-70b7-438d-b767-c3e366e6c1bd",
   "metadata": {},
   "outputs": [],
   "source": [
    "std_exp_3_qubits()\n",
    "optimizer = 'Nelder-Mead'\n",
    "nm_tol_results = []\n",
    "tols = [HI_TOL, MID_TOL, LO_TOL, EPS_TOL]\n",
    "for currtol in tols:\n",
    "    tol = currtol\n",
    "    nm_tol_results.append(run_k_random_theta_vqc_exp_set())"
   ]
  },
  {
   "cell_type": "markdown",
   "id": "6c7f2ab0-66d6-48fa-ae0e-e07cf59578af",
   "metadata": {},
   "source": [
    "#### Analysis: choosing TOL"
   ]
  },
  {
   "cell_type": "code",
   "execution_count": null,
   "id": "1680728e-ae1d-4c5e-a01b-c7478f7a9ef1",
   "metadata": {},
   "outputs": [],
   "source": [
    "tols = [HI_TOL, MID_TOL, LO_TOL, EPS_TOL]\n",
    "\n",
    "def gen_tol_stats(tol_results):\n",
    "    for i, tolval in enumerate(tols):\n",
    "        print(f'stats for tol={tolval}')\n",
    "        all_nfevs = [len(exp[1][0]) for exp in tol_results[i][0]]\n",
    "        all_costs = [exp[1][0][-1] for exp in tol_results[i][0]]\n",
    "        print(f'avg nfev is {avg(all_nfevs)}')\n",
    "        print(f'amount of experiments that succeeded is {len(list(filter(lambda x: x <= 0.1, all_costs)))}.')"
   ]
  },
  {
   "cell_type": "code",
   "execution_count": null,
   "id": "0c813ded-0ae7-4152-b3b2-b1e8c69e6728",
   "metadata": {},
   "outputs": [],
   "source": [
    "gen_tol_stats(cobyla_tol_results)\n",
    "gen_tol_stats(powell_tol_results)\n",
    "gen_tol_stats(nm_tol_results)"
   ]
  },
  {
   "cell_type": "markdown",
   "id": "682c3ebe-cdb5-4656-a259-5f2d5794600a",
   "metadata": {
    "jp-MarkdownHeadingCollapsed": true,
    "tags": []
   },
   "source": [
    "### Hyper-Parameter Experiments: Choosing the Optimizer"
   ]
  },
  {
   "cell_type": "markdown",
   "id": "306c7519-5b92-49c9-bb85-76039e797922",
   "metadata": {},
   "source": [
    "#### COBYLA optimizer"
   ]
  },
  {
   "cell_type": "code",
   "execution_count": null,
   "id": "0aae9201-9e7a-4721-bfa5-f46b46bfab3c",
   "metadata": {},
   "outputs": [],
   "source": [
    "std_exp_7_qubits()\n",
    "optimizer = 'COBYLA'\n",
    "random_thetas_results_cobyla = {}\n",
    "for n in range(4,9):\n",
    "    N_QUBITS = N_LAYERS = n\n",
    "    random_thetas_resultss_cobyla[n], graceful = run_k_random_theta_vqc_exp_set()\n",
    "    if not graceful:\n",
    "        break\n",
    "std_exp_7_qubits()"
   ]
  },
  {
   "cell_type": "markdown",
   "id": "9734bdc3-d2c9-40da-8469-c26147fce809",
   "metadata": {},
   "source": [
    "#### Powell optimizer"
   ]
  },
  {
   "cell_type": "code",
   "execution_count": null,
   "id": "1c7d60e9-a62a-4d0c-8dfb-dc18579d8534",
   "metadata": {
    "scrolled": true,
    "tags": []
   },
   "outputs": [
    {
     "name": "stdout",
     "output_type": "stream",
     "text": [
      "=====Experimenting with SMALL SETS of radnom initial parameters=====\n",
      "experimenting with random parameter set #0\n",
      "Success bound reached. WOOP\n",
      "parameter set #0 done\n",
      "Finished experiment in 113.5367796421051 seconds at Thu Oct  6 13:14:31 2022\n",
      "experimenting with random parameter set #1\n",
      "Success bound reached. WOOP\n",
      "parameter set #1 done\n",
      "Finished experiment in 89.8691234588623 seconds at Thu Oct  6 13:16:00 2022\n",
      "experimenting with random parameter set #2\n",
      "Success bound reached. WOOP\n",
      "parameter set #2 done\n",
      "Finished experiment in 194.81397461891174 seconds at Thu Oct  6 13:19:15 2022\n",
      "experimenting with random parameter set #3\n",
      "Success bound reached. WOOP\n",
      "parameter set #3 done\n",
      "Finished experiment in 158.22832870483398 seconds at Thu Oct  6 13:21:54 2022\n",
      "experimenting with random parameter set #4\n",
      "Success bound reached. WOOP\n",
      "parameter set #4 done\n",
      "Finished experiment in 101.91035771369934 seconds at Thu Oct  6 13:23:35 2022\n",
      "experimenting with random parameter set #5\n",
      "Success bound reached. WOOP\n",
      "parameter set #5 done\n",
      "Finished experiment in 146.03434348106384 seconds at Thu Oct  6 13:26:01 2022\n",
      "experimenting with random parameter set #6\n",
      "Success bound reached. WOOP\n",
      "parameter set #6 done\n",
      "Finished experiment in 115.4131715297699 seconds at Thu Oct  6 13:27:57 2022\n",
      "experimenting with random parameter set #7\n",
      "Success bound reached. WOOP\n",
      "parameter set #7 done\n",
      "Finished experiment in 96.54230690002441 seconds at Thu Oct  6 13:29:33 2022\n",
      "experimenting with random parameter set #8\n",
      "Success bound reached. WOOP\n",
      "parameter set #8 done\n",
      "Finished experiment in 46.70468854904175 seconds at Thu Oct  6 13:30:20 2022\n",
      "experimenting with random parameter set #9\n",
      "Success bound reached. WOOP\n",
      "parameter set #9 done\n",
      "Finished experiment in 140.99821209907532 seconds at Thu Oct  6 13:32:41 2022\n",
      "experimenting with random parameter set #10\n",
      "Success bound reached. WOOP\n",
      "parameter set #10 done\n",
      "Finished experiment in 115.14068293571472 seconds at Thu Oct  6 13:34:36 2022\n",
      "experimenting with random parameter set #11\n",
      "Success bound reached. WOOP\n",
      "parameter set #11 done\n",
      "Finished experiment in 111.92409706115723 seconds at Thu Oct  6 13:36:28 2022\n",
      "experimenting with random parameter set #12\n",
      "Success bound reached. WOOP\n",
      "parameter set #12 done\n",
      "Finished experiment in 152.71545696258545 seconds at Thu Oct  6 13:39:01 2022\n",
      "experimenting with random parameter set #13\n",
      "Success bound reached. WOOP\n",
      "parameter set #13 done\n",
      "Finished experiment in 109.37067151069641 seconds at Thu Oct  6 13:40:50 2022\n",
      "experimenting with random parameter set #14\n",
      "Success bound reached. WOOP\n",
      "parameter set #14 done\n",
      "Finished experiment in 97.68869709968567 seconds at Thu Oct  6 13:42:28 2022\n",
      "experimenting with random parameter set #15\n",
      "Success bound reached. WOOP\n",
      "parameter set #15 done\n",
      "Finished experiment in 190.78287649154663 seconds at Thu Oct  6 13:45:39 2022\n",
      "experimenting with random parameter set #16\n",
      "Success bound reached. WOOP\n",
      "parameter set #16 done\n",
      "Finished experiment in 90.23390340805054 seconds at Thu Oct  6 13:47:09 2022\n",
      "experimenting with random parameter set #17\n",
      "Success bound reached. WOOP\n",
      "parameter set #17 done\n",
      "Finished experiment in 136.42586040496826 seconds at Thu Oct  6 13:49:25 2022\n",
      "experimenting with random parameter set #18\n",
      "Success bound reached. WOOP\n",
      "parameter set #19 done\n",
      "Finished experiment in 283.46774911880493 seconds at Thu Oct  6 13:57:57 2022\n",
      "experimenting with random parameter set #20\n",
      "Success bound reached. WOOP\n",
      "parameter set #20 done\n",
      "Finished experiment in 214.05054450035095 seconds at Thu Oct  6 14:01:31 2022\n",
      "experimenting with random parameter set #21\n",
      "Success bound reached. WOOP\n",
      "parameter set #21 done\n",
      "Finished experiment in 124.26462483406067 seconds at Thu Oct  6 14:03:36 2022\n",
      "experimenting with random parameter set #22\n",
      "Success bound reached. WOOP\n",
      "parameter set #22 done\n",
      "Finished experiment in 131.03265643119812 seconds at Thu Oct  6 14:05:47 2022\n",
      "experimenting with random parameter set #23\n",
      "Success bound reached. WOOP\n",
      "parameter set #23 done\n",
      "Finished experiment in 194.439683675766 seconds at Thu Oct  6 14:09:01 2022\n",
      "experimenting with random parameter set #24\n",
      "Success bound reached. WOOP\n",
      "parameter set #24 done\n",
      "Finished experiment in 183.8687641620636 seconds at Thu Oct  6 14:12:05 2022\n",
      "total took 3567.7575240135193 seconds\n",
      "=====Experimenting with SMALL SETS of radnom initial parameters=====\n",
      "experimenting with random parameter set #0\n",
      "Success bound reached. WOOP\n",
      "parameter set #0 done\n",
      "Finished experiment in 606.8405220508575 seconds at Thu Oct  6 14:22:12 2022\n",
      "experimenting with random parameter set #1\n",
      "Success bound reached. WOOP\n",
      "parameter set #1 done\n",
      "Finished experiment in 348.69662046432495 seconds at Thu Oct  6 14:28:00 2022\n",
      "experimenting with random parameter set #2\n",
      "Success bound reached. WOOP\n",
      "parameter set #2 done\n",
      "Finished experiment in 464.92611265182495 seconds at Thu Oct  6 14:35:45 2022\n",
      "experimenting with random parameter set #3\n",
      "Success bound reached. WOOP\n",
      "parameter set #3 done\n",
      "Finished experiment in 565.9017448425293 seconds at Thu Oct  6 14:45:11 2022\n",
      "experimenting with random parameter set #4\n",
      "Success bound reached. WOOP\n",
      "parameter set #4 done\n",
      "Finished experiment in 523.5495400428772 seconds at Thu Oct  6 14:53:55 2022\n",
      "experimenting with random parameter set #5\n",
      "Success bound reached. WOOP\n",
      "parameter set #5 done\n",
      "Finished experiment in 358.1803209781647 seconds at Thu Oct  6 14:59:53 2022\n",
      "experimenting with random parameter set #6\n",
      "Success bound reached. WOOP\n",
      "parameter set #6 done\n",
      "Finished experiment in 591.5551562309265 seconds at Thu Oct  6 15:09:45 2022\n",
      "experimenting with random parameter set #7\n",
      "Success bound reached. WOOP\n",
      "parameter set #7 done\n",
      "Finished experiment in 618.5295655727386 seconds at Thu Oct  6 15:20:03 2022\n",
      "experimenting with random parameter set #8\n",
      "Success bound reached. WOOP\n",
      "parameter set #8 done\n",
      "Finished experiment in 673.3722043037415 seconds at Thu Oct  6 15:31:16 2022\n",
      "experimenting with random parameter set #9\n",
      "Success bound reached. WOOP\n",
      "parameter set #9 done\n",
      "Finished experiment in 1188.657443523407 seconds at Thu Oct  6 15:51:05 2022\n",
      "experimenting with random parameter set #10\n",
      "Success bound reached. WOOP\n",
      "parameter set #10 done\n",
      "Finished experiment in 470.5525186061859 seconds at Thu Oct  6 15:58:56 2022\n",
      "experimenting with random parameter set #11\n",
      "Success bound reached. WOOP\n",
      "parameter set #11 done\n",
      "Finished experiment in 211.2999451160431 seconds at Thu Oct  6 16:02:27 2022\n",
      "experimenting with random parameter set #12\n",
      "Success bound reached. WOOP\n",
      "parameter set #12 done\n",
      "Finished experiment in 680.5422713756561 seconds at Thu Oct  6 16:13:47 2022\n",
      "experimenting with random parameter set #13\n",
      "Success bound reached. WOOP\n",
      "parameter set #13 done\n",
      "Finished experiment in 656.4720988273621 seconds at Thu Oct  6 16:24:44 2022\n",
      "experimenting with random parameter set #14\n",
      "Success bound reached. WOOP\n",
      "parameter set #14 done\n",
      "Finished experiment in 611.3179240226746 seconds at Thu Oct  6 16:34:55 2022\n",
      "experimenting with random parameter set #15\n",
      "Success bound reached. WOOP\n",
      "parameter set #15 done\n",
      "Finished experiment in 529.1312358379364 seconds at Thu Oct  6 16:43:44 2022\n",
      "experimenting with random parameter set #16\n",
      "Success bound reached. WOOP\n",
      "parameter set #16 done\n",
      "Finished experiment in 455.5634698867798 seconds at Thu Oct  6 16:51:20 2022\n",
      "experimenting with random parameter set #17\n",
      "Success bound reached. WOOP\n",
      "parameter set #17 done\n",
      "Finished experiment in 536.3025133609772 seconds at Thu Oct  6 17:00:16 2022\n",
      "experimenting with random parameter set #18\n",
      "Success bound reached. WOOP\n",
      "parameter set #18 done\n",
      "Finished experiment in 670.4321403503418 seconds at Thu Oct  6 17:11:27 2022\n",
      "experimenting with random parameter set #19\n",
      "Success bound reached. WOOP\n",
      "parameter set #19 done\n",
      "Finished experiment in 720.0599913597107 seconds at Thu Oct  6 17:23:27 2022\n",
      "experimenting with random parameter set #20\n",
      "Success bound reached. WOOP\n",
      "parameter set #20 done\n",
      "Finished experiment in 944.662770986557 seconds at Thu Oct  6 17:39:11 2022\n",
      "experimenting with random parameter set #21\n",
      "Success bound reached. WOOP\n",
      "parameter set #21 done\n",
      "Finished experiment in 862.8156011104584 seconds at Thu Oct  6 17:53:34 2022\n",
      "experimenting with random parameter set #22\n",
      "Success bound reached. WOOP\n",
      "parameter set #22 done\n",
      "Finished experiment in 476.4504425525665 seconds at Thu Oct  6 18:01:31 2022\n",
      "experimenting with random parameter set #23\n",
      "Success bound reached. WOOP\n",
      "parameter set #23 done\n",
      "Finished experiment in 494.5850691795349 seconds at Thu Oct  6 18:09:45 2022\n",
      "experimenting with random parameter set #24\n",
      "Success bound reached. WOOP\n",
      "parameter set #24 done\n",
      "Finished experiment in 396.537250995636 seconds at Thu Oct  6 18:16:22 2022\n",
      "total took 14656.934474229813 seconds\n",
      "=====Experimenting with SMALL SETS of radnom initial parameters=====\n",
      "experimenting with random parameter set #0\n",
      "Success bound reached. WOOP\n",
      "parameter set #0 done\n",
      "Finished experiment in 3030.356828927994 seconds at Thu Oct  6 19:06:52 2022\n",
      "experimenting with random parameter set #1\n",
      "Success bound reached. WOOP\n",
      "parameter set #1 done\n",
      "Finished experiment in 2186.1147634983063 seconds at Thu Oct  6 19:43:18 2022\n",
      "experimenting with random parameter set #2\n",
      "Success bound reached. WOOP\n",
      "parameter set #2 done\n",
      "Finished experiment in 3835.80349111557 seconds at Thu Oct  6 20:47:14 2022\n",
      "experimenting with random parameter set #3\n",
      "Success bound reached. WOOP\n",
      "parameter set #3 done\n",
      "Finished experiment in 2857.6347181797028 seconds at Thu Oct  6 21:34:52 2022\n",
      "experimenting with random parameter set #4\n",
      "parameter set #4 done\n",
      "Finished experiment in 3209.922827243805 seconds at Thu Oct  6 22:28:22 2022\n",
      "experimenting with random parameter set #5\n",
      "Success bound reached. WOOP\n",
      "parameter set #5 done\n",
      "Finished experiment in 3219.1201117038727 seconds at Thu Oct  6 23:22:01 2022\n",
      "experimenting with random parameter set #6\n"
     ]
    }
   ],
   "source": [
    "std_exp_7_qubits()\n",
    "optimizer = 'Powell'\n",
    "random_thetas_results = {}\n",
    "for n in range(4,9):\n",
    "    N_QUBITS = N_LAYERS = n\n",
    "    random_thetas_results[n], graceful = run_k_random_theta_vqc_exp_set()\n",
    "    if not graceful:\n",
    "        break\n",
    "std_exp_7_qubits()"
   ]
  },
  {
   "cell_type": "code",
   "execution_count": null,
   "id": "5546beb0-a4a2-4028-8abc-67e1b69aa24e",
   "metadata": {},
   "outputs": [],
   "source": [
    "random_thetas_results_powell = random_thetas_results"
   ]
  },
  {
   "cell_type": "markdown",
   "id": "bcaf0588-029a-408c-bcbc-00694ebf926c",
   "metadata": {},
   "source": [
    "### (Optionally) Load Data Fom Files"
   ]
  },
  {
   "cell_type": "code",
   "execution_count": 15,
   "id": "1b14868f-49ed-4e89-a26d-6ded5bb98cf4",
   "metadata": {},
   "outputs": [],
   "source": [
    "from ast import literal_eval\n",
    "\n",
    "def load_stats(name: str) -> dict:\n",
    "    with open(name, 'r') as f:\n",
    "        data = f.read()\n",
    "    \n",
    "    return literal_eval(data)"
   ]
  },
  {
   "cell_type": "markdown",
   "id": "94fd495e-41fc-49ee-8e6c-cc303e904819",
   "metadata": {},
   "source": [
    "### Plotting Functions"
   ]
  },
  {
   "cell_type": "code",
   "execution_count": 16,
   "id": "9a22e980-7f68-4aad-ba1f-c24d8070f05f",
   "metadata": {},
   "outputs": [],
   "source": [
    "def compare_same_qubits_experiments_from_evals(evals1, evals2, \n",
    "                                    color1='blue', color2='red',\n",
    "                                    label1='experiment', label2='cotrol',\n",
    "                                    filename='scatterplot'):\n",
    "    make_joint_scatterplot([(evals1, label1, color1), (evals2, label2, color2)])\n",
    "    plt.legend()\n",
    "    plt.savefig(filename, dpi=800)\n",
    "    plt.show()\n",
    "\n",
    "def filter_failed_experiment_evals(evals, success_bound=0.4):\n",
    "    return filter(lambda lst: lst[-1] <= success_bound, evals)\n",
    "\n",
    "def compare_same_qubits_experiments_from_stats(nfev1, nfev2,\n",
    "                                               finval1, finval2, \n",
    "                                               color1='blue', color2='red',\n",
    "                                               label1='cotrol', label2='experiment',\n",
    "                                               filename='scatterplot'):\n",
    "    make_joint_scatterplot_from_stats([(nfev1, finval1, label1, color1), (nfev2, finval2, label2, color2)])\n",
    "    plt.xlabel('nfevs')\n",
    "    plt.ylabel('final value reached')\n",
    "    plt.legend()\n",
    "    plt.savefig(filename, dpi=800)\n",
    "    plt.show()\n",
    "\n",
    "\n",
    "    \n",
    "def compare_different_qubit_experiments(exp_list, filename='nfev_plot'):\n",
    "    for nfev_dict, label, color in exp_list:\n",
    "        myplot(nfev_dict, c=color, label=label)\n",
    "    \n",
    "    plt.legend()\n",
    "    plt.savefig(filename, dpi=800)\n",
    "    plt.plot()"
   ]
  },
  {
   "cell_type": "markdown",
   "id": "0b066a1d-01a1-4066-916e-f5a3efb99e24",
   "metadata": {
    "jp-MarkdownHeadingCollapsed": true,
    "tags": []
   },
   "source": [
    "#### Analysis: Choosing an optimizer"
   ]
  },
  {
   "cell_type": "code",
   "execution_count": null,
   "id": "2dbc3b03-aed2-4f3d-9439-a2d0a26ef28c",
   "metadata": {},
   "outputs": [],
   "source": [
    "def gen_optimizer_stats(results, optimizer_name):\n",
    "    stats = {}\n",
    "    for n in range(4,8):\n",
    "        N_QUBITS = N_LAYERS = n\n",
    "        print(f'stats for n={n}')\n",
    "        stats[n] = gen_statistics_random_thetas(results[n],\n",
    "                                     target_vals = [HI_SUCCESS_BOUND, LO_SUCCESS_BOUND],\n",
    "                                     stats_folder = os.path.join(VQC_FOLDER, 'local cost optimizer experiments', optimizer_name)\n",
    "                                     stats_filename = f'{n}_layers_{STATS_FILENAME}')\n",
    "        print(f'average nfev: {avg(list(stats[n]['nfevs'].values()))}')\n",
    "        print(f'amount of experiments that reached {HI_SUCCESS_BOUND} is {len([finval for finval in stats[n]['finvals'].values() if finval <= HI_SUCCESS_BOUND])}/{len(stats[n]['finvals']}.')\n",
    "        print(f'amount of experiments that reached {LO_SUCCESS_BOUND} is {len([finval for finval in stats[n]['finvals'].values() if finval <= LO_SUCCESS_BOUND])}/{len(stats[n]['finvals']}.')\n",
    "\n",
    "    hi_nfev_dict = {n: v[f'hit_{HI_SUCCESS_BOUND}'] for n,v in stats.items()}\n",
    "    lo_nfev_dict = {n: v[f'hit_{LO_SUCCESS_BOUND}'] for n,v in stats.items()}\n",
    "    myplot(hi_nfev_dict, label=f'nfev per Number of qubits, {optimizer_name} optimizer, success bound {HI_SUCCESS_BOUND}', logscale=True)\n",
    "    myplot(lo_nfev_dict, label=f'nfev per Number of qubits, {optimizer_name} optimizer, success bound {LO_SUCCESS_BOUND}', logscale=True)\n",
    "    return stats"
   ]
  },
  {
   "cell_type": "code",
   "execution_count": null,
   "id": "d2a58729-7586-4e7b-9ca3-ae254352f5c5",
   "metadata": {},
   "outputs": [],
   "source": [
    "gen_optimizer_stats(random_thetas_results_powell, 'Powell')\n",
    "gen_optimizer_stats(random_thetas_results_cobyla, 'COBYLA')"
   ]
  },
  {
   "cell_type": "markdown",
   "id": "2f3efc2c-ae99-48e8-9619-754a02e80878",
   "metadata": {
    "tags": []
   },
   "source": [
    "### Experiment \\#1: Barren Plateau Reproduction"
   ]
  },
  {
   "cell_type": "code",
   "execution_count": null,
   "id": "f29e720a-766f-41da-9b1c-ec56d1f43d81",
   "metadata": {},
   "outputs": [
    {
     "name": "stdout",
     "output_type": "stream",
     "text": [
      "=====Experimenting with SMALL SETS of radnom initial parameters=====\n",
      "experimenting with random parameter set #0\n",
      "Success bound reached. WOOP\n",
      "parameter set #0 done\n",
      "Finished experiment in 35.09431004524231 seconds at Fri Oct  7 09:04:22 2022\n",
      "experimenting with random parameter set #1\n"
     ]
    },
    {
     "name": "stderr",
     "output_type": "stream",
     "text": [
      "capi_return is NULL\n",
      "Call-back cb_calcfc_in__cobyla__user__routines failed.\n"
     ]
    },
    {
     "name": "stdout",
     "output_type": "stream",
     "text": [
      "Success bound reached. WOOP\n",
      "parameter set #1 done\n",
      "Finished experiment in 29.08652114868164 seconds at Fri Oct  7 09:04:51 2022\n",
      "experimenting with random parameter set #2\n"
     ]
    },
    {
     "name": "stderr",
     "output_type": "stream",
     "text": [
      "capi_return is NULL\n",
      "Call-back cb_calcfc_in__cobyla__user__routines failed.\n"
     ]
    },
    {
     "name": "stdout",
     "output_type": "stream",
     "text": [
      "Success bound reached. WOOP\n",
      "parameter set #2 done\n",
      "Finished experiment in 27.546637296676636 seconds at Fri Oct  7 09:05:19 2022\n",
      "experimenting with random parameter set #3\n"
     ]
    },
    {
     "name": "stderr",
     "output_type": "stream",
     "text": [
      "capi_return is NULL\n",
      "Call-back cb_calcfc_in__cobyla__user__routines failed.\n"
     ]
    },
    {
     "name": "stdout",
     "output_type": "stream",
     "text": [
      "Success bound reached. WOOP\n",
      "parameter set #3 done\n",
      "Finished experiment in 40.975520610809326 seconds at Fri Oct  7 09:06:00 2022\n",
      "experimenting with random parameter set #4\n"
     ]
    },
    {
     "name": "stderr",
     "output_type": "stream",
     "text": [
      "capi_return is NULL\n",
      "Call-back cb_calcfc_in__cobyla__user__routines failed.\n"
     ]
    },
    {
     "name": "stdout",
     "output_type": "stream",
     "text": [
      "Success bound reached. WOOP\n",
      "parameter set #4 done\n",
      "Finished experiment in 46.083251953125 seconds at Fri Oct  7 09:06:46 2022\n",
      "experimenting with random parameter set #5\n"
     ]
    },
    {
     "name": "stderr",
     "output_type": "stream",
     "text": [
      "capi_return is NULL\n",
      "Call-back cb_calcfc_in__cobyla__user__routines failed.\n"
     ]
    },
    {
     "name": "stdout",
     "output_type": "stream",
     "text": [
      "Success bound reached. WOOP\n",
      "parameter set #5 done\n",
      "Finished experiment in 36.15182042121887 seconds at Fri Oct  7 09:07:22 2022\n",
      "experimenting with random parameter set #6\n"
     ]
    },
    {
     "name": "stderr",
     "output_type": "stream",
     "text": [
      "capi_return is NULL\n",
      "Call-back cb_calcfc_in__cobyla__user__routines failed.\n"
     ]
    },
    {
     "name": "stdout",
     "output_type": "stream",
     "text": [
      "Success bound reached. WOOP\n",
      "parameter set #6 done\n",
      "Finished experiment in 38.198134899139404 seconds at Fri Oct  7 09:08:00 2022\n",
      "experimenting with random parameter set #7\n"
     ]
    },
    {
     "name": "stderr",
     "output_type": "stream",
     "text": [
      "capi_return is NULL\n",
      "Call-back cb_calcfc_in__cobyla__user__routines failed.\n"
     ]
    },
    {
     "name": "stdout",
     "output_type": "stream",
     "text": [
      "Success bound reached. WOOP\n",
      "parameter set #7 done\n",
      "Finished experiment in 29.830853700637817 seconds at Fri Oct  7 09:08:30 2022\n",
      "experimenting with random parameter set #8\n"
     ]
    },
    {
     "name": "stderr",
     "output_type": "stream",
     "text": [
      "capi_return is NULL\n",
      "Call-back cb_calcfc_in__cobyla__user__routines failed.\n"
     ]
    },
    {
     "name": "stdout",
     "output_type": "stream",
     "text": [
      "Success bound reached. WOOP\n",
      "parameter set #8 done\n",
      "Finished experiment in 19.267728805541992 seconds at Fri Oct  7 09:08:49 2022\n",
      "experimenting with random parameter set #9\n"
     ]
    },
    {
     "name": "stderr",
     "output_type": "stream",
     "text": [
      "capi_return is NULL\n",
      "Call-back cb_calcfc_in__cobyla__user__routines failed.\n"
     ]
    },
    {
     "name": "stdout",
     "output_type": "stream",
     "text": [
      "Success bound reached. WOOP\n",
      "parameter set #9 done\n",
      "Finished experiment in 30.383911609649658 seconds at Fri Oct  7 09:09:20 2022\n",
      "experimenting with random parameter set #10\n"
     ]
    },
    {
     "name": "stderr",
     "output_type": "stream",
     "text": [
      "capi_return is NULL\n",
      "Call-back cb_calcfc_in__cobyla__user__routines failed.\n"
     ]
    },
    {
     "name": "stdout",
     "output_type": "stream",
     "text": [
      "Success bound reached. WOOP\n",
      "parameter set #10 done\n",
      "Finished experiment in 44.820531368255615 seconds at Fri Oct  7 09:10:05 2022\n",
      "experimenting with random parameter set #11\n"
     ]
    },
    {
     "name": "stderr",
     "output_type": "stream",
     "text": [
      "capi_return is NULL\n",
      "Call-back cb_calcfc_in__cobyla__user__routines failed.\n"
     ]
    },
    {
     "name": "stdout",
     "output_type": "stream",
     "text": [
      "Success bound reached. WOOP\n",
      "parameter set #11 done\n",
      "Finished experiment in 31.05855083465576 seconds at Fri Oct  7 09:10:36 2022\n",
      "experimenting with random parameter set #12\n"
     ]
    },
    {
     "name": "stderr",
     "output_type": "stream",
     "text": [
      "capi_return is NULL\n",
      "Call-back cb_calcfc_in__cobyla__user__routines failed.\n"
     ]
    },
    {
     "name": "stdout",
     "output_type": "stream",
     "text": [
      "Success bound reached. WOOP\n",
      "parameter set #12 done\n",
      "Finished experiment in 30.32204008102417 seconds at Fri Oct  7 09:11:06 2022\n",
      "experimenting with random parameter set #13\n"
     ]
    },
    {
     "name": "stderr",
     "output_type": "stream",
     "text": [
      "capi_return is NULL\n",
      "Call-back cb_calcfc_in__cobyla__user__routines failed.\n"
     ]
    },
    {
     "name": "stdout",
     "output_type": "stream",
     "text": [
      "Success bound reached. WOOP\n",
      "parameter set #13 done\n",
      "Finished experiment in 64.84573769569397 seconds at Fri Oct  7 09:12:11 2022\n",
      "experimenting with random parameter set #14\n"
     ]
    },
    {
     "name": "stderr",
     "output_type": "stream",
     "text": [
      "capi_return is NULL\n",
      "Call-back cb_calcfc_in__cobyla__user__routines failed.\n"
     ]
    },
    {
     "name": "stdout",
     "output_type": "stream",
     "text": [
      "Success bound reached. WOOP\n",
      "parameter set #14 done\n",
      "Finished experiment in 20.56313943862915 seconds at Fri Oct  7 09:12:31 2022\n",
      "experimenting with random parameter set #15\n"
     ]
    },
    {
     "name": "stderr",
     "output_type": "stream",
     "text": [
      "capi_return is NULL\n",
      "Call-back cb_calcfc_in__cobyla__user__routines failed.\n"
     ]
    },
    {
     "name": "stdout",
     "output_type": "stream",
     "text": [
      "Success bound reached. WOOP\n",
      "parameter set #15 done\n",
      "Finished experiment in 38.00119352340698 seconds at Fri Oct  7 09:13:09 2022\n",
      "experimenting with random parameter set #16\n"
     ]
    },
    {
     "name": "stderr",
     "output_type": "stream",
     "text": [
      "capi_return is NULL\n",
      "Call-back cb_calcfc_in__cobyla__user__routines failed.\n"
     ]
    },
    {
     "name": "stdout",
     "output_type": "stream",
     "text": [
      "Success bound reached. WOOP\n",
      "parameter set #16 done\n",
      "Finished experiment in 47.75087547302246 seconds at Fri Oct  7 09:13:57 2022\n",
      "experimenting with random parameter set #17\n"
     ]
    },
    {
     "name": "stderr",
     "output_type": "stream",
     "text": [
      "capi_return is NULL\n",
      "Call-back cb_calcfc_in__cobyla__user__routines failed.\n"
     ]
    },
    {
     "name": "stdout",
     "output_type": "stream",
     "text": [
      "Success bound reached. WOOP\n",
      "parameter set #17 done\n",
      "Finished experiment in 50.57575488090515 seconds at Fri Oct  7 09:14:48 2022\n",
      "experimenting with random parameter set #18\n"
     ]
    },
    {
     "name": "stderr",
     "output_type": "stream",
     "text": [
      "capi_return is NULL\n",
      "Call-back cb_calcfc_in__cobyla__user__routines failed.\n"
     ]
    },
    {
     "name": "stdout",
     "output_type": "stream",
     "text": [
      "Success bound reached. WOOP\n",
      "parameter set #18 done\n",
      "Finished experiment in 28.865260124206543 seconds at Fri Oct  7 09:15:17 2022\n",
      "experimenting with random parameter set #19\n"
     ]
    },
    {
     "name": "stderr",
     "output_type": "stream",
     "text": [
      "capi_return is NULL\n",
      "Call-back cb_calcfc_in__cobyla__user__routines failed.\n"
     ]
    },
    {
     "name": "stdout",
     "output_type": "stream",
     "text": [
      "Success bound reached. WOOP\n",
      "parameter set #19 done\n",
      "Finished experiment in 32.81456708908081 seconds at Fri Oct  7 09:15:49 2022\n",
      "experimenting with random parameter set #20\n"
     ]
    },
    {
     "name": "stderr",
     "output_type": "stream",
     "text": [
      "capi_return is NULL\n",
      "Call-back cb_calcfc_in__cobyla__user__routines failed.\n"
     ]
    },
    {
     "name": "stdout",
     "output_type": "stream",
     "text": [
      "Success bound reached. WOOP\n",
      "parameter set #20 done\n",
      "Finished experiment in 31.08611226081848 seconds at Fri Oct  7 09:16:20 2022\n",
      "experimenting with random parameter set #21\n"
     ]
    },
    {
     "name": "stderr",
     "output_type": "stream",
     "text": [
      "capi_return is NULL\n",
      "Call-back cb_calcfc_in__cobyla__user__routines failed.\n"
     ]
    },
    {
     "name": "stdout",
     "output_type": "stream",
     "text": [
      "Success bound reached. WOOP\n",
      "parameter set #21 done\n",
      "Finished experiment in 32.501747369766235 seconds at Fri Oct  7 09:16:53 2022\n",
      "experimenting with random parameter set #22\n"
     ]
    },
    {
     "name": "stderr",
     "output_type": "stream",
     "text": [
      "capi_return is NULL\n",
      "Call-back cb_calcfc_in__cobyla__user__routines failed.\n"
     ]
    },
    {
     "name": "stdout",
     "output_type": "stream",
     "text": [
      "Success bound reached. WOOP\n",
      "parameter set #22 done\n",
      "Finished experiment in 49.261406898498535 seconds at Fri Oct  7 09:17:42 2022\n",
      "experimenting with random parameter set #23\n"
     ]
    },
    {
     "name": "stderr",
     "output_type": "stream",
     "text": [
      "capi_return is NULL\n",
      "Call-back cb_calcfc_in__cobyla__user__routines failed.\n"
     ]
    },
    {
     "name": "stdout",
     "output_type": "stream",
     "text": [
      "Success bound reached. WOOP\n",
      "parameter set #23 done\n",
      "Finished experiment in 24.702629566192627 seconds at Fri Oct  7 09:18:07 2022\n",
      "experimenting with random parameter set #24\n"
     ]
    },
    {
     "name": "stderr",
     "output_type": "stream",
     "text": [
      "capi_return is NULL\n",
      "Call-back cb_calcfc_in__cobyla__user__routines failed.\n"
     ]
    },
    {
     "name": "stdout",
     "output_type": "stream",
     "text": [
      "Success bound reached. WOOP\n",
      "parameter set #24 done\n",
      "Finished experiment in 34.50457739830017 seconds at Fri Oct  7 09:18:41 2022\n",
      "total took 894.2928144931793 seconds\n",
      "=====Experimenting with SMALL SETS of radnom initial parameters=====\n",
      "experimenting with random parameter set #0\n"
     ]
    },
    {
     "name": "stderr",
     "output_type": "stream",
     "text": [
      "capi_return is NULL\n",
      "Call-back cb_calcfc_in__cobyla__user__routines failed.\n"
     ]
    },
    {
     "name": "stdout",
     "output_type": "stream",
     "text": [
      "Success bound reached. WOOP\n",
      "parameter set #0 done\n",
      "Finished experiment in 290.5090606212616 seconds at Fri Oct  7 09:23:32 2022\n",
      "experimenting with random parameter set #1\n"
     ]
    },
    {
     "name": "stderr",
     "output_type": "stream",
     "text": [
      "capi_return is NULL\n",
      "Call-back cb_calcfc_in__cobyla__user__routines failed.\n"
     ]
    },
    {
     "name": "stdout",
     "output_type": "stream",
     "text": [
      "Success bound reached. WOOP\n",
      "parameter set #1 done\n",
      "Finished experiment in 1602.138972043991 seconds at Fri Oct  7 09:50:14 2022\n",
      "experimenting with random parameter set #2\n"
     ]
    },
    {
     "name": "stderr",
     "output_type": "stream",
     "text": [
      "capi_return is NULL\n",
      "Call-back cb_calcfc_in__cobyla__user__routines failed.\n"
     ]
    },
    {
     "name": "stdout",
     "output_type": "stream",
     "text": [
      "parameter set #2 done\n",
      "Finished experiment in 3327.5002472400665 seconds at Fri Oct  7 10:45:42 2022\n",
      "experimenting with random parameter set #3\n",
      "Success bound reached. WOOP\n",
      "parameter set #3 done\n",
      "Finished experiment in 1094.488285779953 seconds at Fri Oct  7 11:03:56 2022\n",
      "experimenting with random parameter set #4\n"
     ]
    },
    {
     "name": "stderr",
     "output_type": "stream",
     "text": [
      "capi_return is NULL\n",
      "Call-back cb_calcfc_in__cobyla__user__routines failed.\n"
     ]
    },
    {
     "name": "stdout",
     "output_type": "stream",
     "text": [
      "Success bound reached. WOOP\n",
      "parameter set #4 done\n",
      "Finished experiment in 265.6756613254547 seconds at Fri Oct  7 11:08:22 2022\n",
      "experimenting with random parameter set #5\n"
     ]
    },
    {
     "name": "stderr",
     "output_type": "stream",
     "text": [
      "capi_return is NULL\n",
      "Call-back cb_calcfc_in__cobyla__user__routines failed.\n"
     ]
    },
    {
     "name": "stdout",
     "output_type": "stream",
     "text": [
      "Success bound reached. WOOP\n",
      "parameter set #5 done\n",
      "Finished experiment in 263.39004826545715 seconds at Fri Oct  7 11:12:45 2022\n",
      "experimenting with random parameter set #6\n"
     ]
    },
    {
     "name": "stderr",
     "output_type": "stream",
     "text": [
      "capi_return is NULL\n",
      "Call-back cb_calcfc_in__cobyla__user__routines failed.\n"
     ]
    },
    {
     "name": "stdout",
     "output_type": "stream",
     "text": [
      "Success bound reached. WOOP\n",
      "parameter set #6 done\n",
      "Finished experiment in 201.42178416252136 seconds at Fri Oct  7 11:16:07 2022\n",
      "experimenting with random parameter set #7\n"
     ]
    },
    {
     "name": "stderr",
     "output_type": "stream",
     "text": [
      "capi_return is NULL\n",
      "Call-back cb_calcfc_in__cobyla__user__routines failed.\n"
     ]
    },
    {
     "name": "stdout",
     "output_type": "stream",
     "text": [
      "Success bound reached. WOOP\n",
      "parameter set #7 done\n",
      "Finished experiment in 1146.3371975421906 seconds at Fri Oct  7 11:35:13 2022\n",
      "experimenting with random parameter set #8\n"
     ]
    },
    {
     "name": "stderr",
     "output_type": "stream",
     "text": [
      "capi_return is NULL\n",
      "Call-back cb_calcfc_in__cobyla__user__routines failed.\n"
     ]
    },
    {
     "name": "stdout",
     "output_type": "stream",
     "text": [
      "Success bound reached. WOOP\n",
      "parameter set #8 done\n",
      "Finished experiment in 412.1093707084656 seconds at Fri Oct  7 11:42:05 2022\n",
      "experimenting with random parameter set #9\n"
     ]
    },
    {
     "name": "stderr",
     "output_type": "stream",
     "text": [
      "capi_return is NULL\n",
      "Call-back cb_calcfc_in__cobyla__user__routines failed.\n"
     ]
    },
    {
     "name": "stdout",
     "output_type": "stream",
     "text": [
      "Success bound reached. WOOP\n",
      "parameter set #9 done\n",
      "Finished experiment in 239.39843440055847 seconds at Fri Oct  7 11:46:04 2022\n",
      "experimenting with random parameter set #10\n"
     ]
    },
    {
     "name": "stderr",
     "output_type": "stream",
     "text": [
      "capi_return is NULL\n",
      "Call-back cb_calcfc_in__cobyla__user__routines failed.\n"
     ]
    },
    {
     "name": "stdout",
     "output_type": "stream",
     "text": [
      "Success bound reached. WOOP\n",
      "parameter set #10 done\n",
      "Finished experiment in 215.55345845222473 seconds at Fri Oct  7 11:49:40 2022\n",
      "experimenting with random parameter set #11\n"
     ]
    },
    {
     "name": "stderr",
     "output_type": "stream",
     "text": [
      "capi_return is NULL\n",
      "Call-back cb_calcfc_in__cobyla__user__routines failed.\n"
     ]
    },
    {
     "name": "stdout",
     "output_type": "stream",
     "text": [
      "Success bound reached. WOOP\n",
      "parameter set #11 done\n",
      "Finished experiment in 476.1828827857971 seconds at Fri Oct  7 11:57:36 2022\n",
      "experimenting with random parameter set #12\n"
     ]
    },
    {
     "name": "stderr",
     "output_type": "stream",
     "text": [
      "capi_return is NULL\n",
      "Call-back cb_calcfc_in__cobyla__user__routines failed.\n"
     ]
    },
    {
     "name": "stdout",
     "output_type": "stream",
     "text": [
      "Success bound reached. WOOP\n",
      "parameter set #12 done\n",
      "Finished experiment in 1695.3499882221222 seconds at Fri Oct  7 12:25:51 2022\n",
      "experimenting with random parameter set #13\n"
     ]
    },
    {
     "name": "stderr",
     "output_type": "stream",
     "text": [
      "capi_return is NULL\n",
      "Call-back cb_calcfc_in__cobyla__user__routines failed.\n"
     ]
    },
    {
     "name": "stdout",
     "output_type": "stream",
     "text": [
      "Success bound reached. WOOP\n",
      "parameter set #13 done\n",
      "Finished experiment in 311.9649260044098 seconds at Fri Oct  7 12:31:03 2022\n",
      "experimenting with random parameter set #14\n"
     ]
    },
    {
     "name": "stderr",
     "output_type": "stream",
     "text": [
      "capi_return is NULL\n",
      "Call-back cb_calcfc_in__cobyla__user__routines failed.\n"
     ]
    },
    {
     "name": "stdout",
     "output_type": "stream",
     "text": [
      "Success bound reached. WOOP\n",
      "parameter set #14 done\n",
      "Finished experiment in 274.13992714881897 seconds at Fri Oct  7 12:35:38 2022\n",
      "experimenting with random parameter set #15\n"
     ]
    },
    {
     "name": "stderr",
     "output_type": "stream",
     "text": [
      "capi_return is NULL\n",
      "Call-back cb_calcfc_in__cobyla__user__routines failed.\n"
     ]
    },
    {
     "name": "stdout",
     "output_type": "stream",
     "text": [
      "Success bound reached. WOOP\n",
      "parameter set #15 done\n",
      "Finished experiment in 164.78791618347168 seconds at Fri Oct  7 12:38:22 2022\n",
      "experimenting with random parameter set #16\n"
     ]
    },
    {
     "name": "stderr",
     "output_type": "stream",
     "text": [
      "capi_return is NULL\n",
      "Call-back cb_calcfc_in__cobyla__user__routines failed.\n"
     ]
    }
   ],
   "source": [
    "std_exp_7_qubits()\n",
    "reproduction_results = {}\n",
    "success_bound = HI_SUCCESS_BOUND\n",
    "for n in range(4,11):\n",
    "    N_QUBITS = N_LAYERS = n\n",
    "    reproduction_results[n], graceful = run_k_random_theta_vqc_exp_set()\n",
    "    if not graceful:\n",
    "        break"
   ]
  },
  {
   "cell_type": "code",
   "execution_count": 18,
   "id": "6b0286d1-dc33-42be-9ae2-df86aa81d2b9",
   "metadata": {},
   "outputs": [
    {
     "ename": "SyntaxError",
     "evalue": "invalid syntax. Perhaps you forgot a comma? (3768669488.py, line 7)",
     "output_type": "error",
     "traceback": [
      "\u001b[0;36m  Input \u001b[0;32mIn [18]\u001b[0;36m\u001b[0m\n\u001b[0;31m    stats_folder = os.path.join(VQC_FOLDER, 'local cost barren plateaus', 'reproduction results')\u001b[0m\n\u001b[0m                   ^\u001b[0m\n\u001b[0;31mSyntaxError\u001b[0m\u001b[0;31m:\u001b[0m invalid syntax. Perhaps you forgot a comma?\n"
     ]
    }
   ],
   "source": [
    "reproduction_stats = {}\n",
    "for n in range(4,11):\n",
    "    N_QUBITS = N_LAYERS = n\n",
    "    print(f'stats for n={n}')\n",
    "    reproduction_stats[n] = gen_statistics_random_thetas(reproduction_results[n],\n",
    "                                 target_vals = [HI_SUCCESS_BOUND],\n",
    "                                 stats_folder = os.path.join(VQC_FOLDER, 'local cost barren plateaus', 'reproduction results')\n",
    "                                 stats_filename = f'{n}_layers_{STATS_FILENAME}')\n",
    "    \n",
    "nfev_dict = {n: v[f'hit_{HI_SUCCESS_BOUND}'] for n,v in reproduction_stats.items()}\n",
    "myplot(nfev_dict, label=f'nfev per Number of qubits, success bound {HI_SUCCESS_BOUND}', logscale=True)"
   ]
  },
  {
   "cell_type": "markdown",
   "id": "77a9e0e1-1560-4ffd-97d2-1fa9bde329e6",
   "metadata": {},
   "source": [
    "### Experiment \\#2: 3 qubit, 12 layers"
   ]
  },
  {
   "cell_type": "code",
   "execution_count": null,
   "id": "dca1e8c1-0800-407f-98dd-9b05a12be4bf",
   "metadata": {},
   "outputs": [],
   "source": [
    "std_exp_3_layers()\n",
    "mub_results_3_qubits = {}\n",
    "random_thetas_3_qubits = {}\n",
    "mub_state_results = run_k_mub_state_vqc_exp_set()\n",
    "random_thetas_results = run_k_random_theta_vqc_exp_set()\n",
    "\n",
    "mub_state_stats = gen_statistics_mubs(mub_state_results,\n",
    "                                      target_vals = [HI_SUCCESS_BOUND],\n",
    "                                      stats_folder = os.path.join(os.getcwd(), VQC_FOLDER, 'local cost 3 qubits','mub states'),\n",
    "                                      stats_file = STATS_FILE)\n",
    "random_thetas_stats = gen_statistics_random_thetas(random_thetas_results,\n",
    "                                                   target_vals = [HI_SUCCESS_BOUND],\n",
    "                                                   stats_folder = os.path.join(os.getcwd(), VQC_FOLDER, 'local cost 3 qubits','control group'),\n",
    "                                                   stats_file = STATS_FILE)"
   ]
  },
  {
   "cell_type": "markdown",
   "id": "fe12d5f6-e03a-4f80-a0a8-7b5d0dc04014",
   "metadata": {},
   "source": [
    "### Experiment \\#3: 7 qubits, 7 layers"
   ]
  },
  {
   "cell_type": "code",
   "execution_count": null,
   "id": "45ceddfc-fbd1-4e55-bea6-8bc26d7bcaab",
   "metadata": {},
   "outputs": [],
   "source": [
    "std_exp_7_layers()\n",
    "half_mub_results_7_qubits = {}\n",
    "random_thetas_7_qubits = {}\n",
    "half_mub_state_results = run_k_half_mub_state_3_qubit_vqc_exp_set()\n",
    "random_thetas_results = run_k_random_theta_vqc_exp_set()\n",
    "\n",
    "half_mub_state_stats = gen_statistics_mubs(half_mub_state_results,\n",
    "                                      target_vals = [HI_SUCCESS_BOUND],\n",
    "                                      stats_folder = os.path.join(os.getcwd(), VQC_FOLDER, 'local cost 7 qubits','half mubs'),\n",
    "                                      stats_file = STATS_FILE)\n",
    "random_thetas_stats = gen_statistics_random_thetas(random_thetas_results,\n",
    "                                                   target_vals = [HI_SUCCESS_BOUND],\n",
    "                                                   stats_folder = os.path.join(os.getcwd(), VQC_FOLDER, 'local cost 7 qubits','control group'),\n",
    "                                                   stats_file = STATS_FILE)"
   ]
  },
  {
   "cell_type": "markdown",
   "id": "8199d5b9-6ce0-4416-8696-9f30eb2a811f",
   "metadata": {},
   "source": [
    "### Experiment \\#1: Analysis and Figures"
   ]
  },
  {
   "cell_type": "code",
   "execution_count": null,
   "id": "ad8b5824-5418-47b5-aa04-2dcaee31a7ae",
   "metadata": {},
   "outputs": [],
   "source": [
    "reproduction_dir = os.path.join(os.getcwd(), VQC_FOLDER, 'local cost barren plateaus','reproduction results')\n",
    "d = load_stats(os.path.join(reproduction_dir, STATS_FILENAME))\n",
    "list(d[4].keys())\n",
    "nfevs_dict = {k: avg(v['nfevs'].values()) for k,v in d.items()}\n",
    "myplot(nfevs_dict, label='Number of function evals per Number of qubits, COBYLA optimizer, 5 repetitons', logscale=True, xaxis='n', yaxis='nfevs')\n",
    "plt.show()"
   ]
  },
  {
   "cell_type": "markdown",
   "id": "20bb3455-4e29-4464-b134-86076563573c",
   "metadata": {},
   "source": [
    "### Experiment \\#2: Analysis and Figures"
   ]
  },
  {
   "cell_type": "code",
   "execution_count": null,
   "id": "4b62272a-373a-4dcf-9a45-a5930567fa87",
   "metadata": {},
   "outputs": [],
   "source": [
    "control_group_dir = os.path.join(os.getcwd(), VQC_FOLDER, 'local cost 3 qubits','control group')\n",
    "mub_states_dir = os.path.join(os.getcwd(), VQC_FOLDER, 'local cost 3 qubits','mub states')\n",
    "d_control = load_stats(os.path.join(control_group_dir, 'stats.txt'))\n",
    "d_mub = load_stats(os.path.join(mub_states_dir, 'stats.txt'))"
   ]
  },
  {
   "cell_type": "code",
   "execution_count": null,
   "id": "d4f2f2e9-ed26-4909-8521-a4916f111292",
   "metadata": {},
   "outputs": [],
   "source": [
    "control_nfevs = list(d_control['nfevs'].values())\n",
    "control_finvals = list(d_control['fin_vals'].values())\n",
    "mub_nfevs = list(d_mub['nfevs'].values())\n",
    "mub_finvals = list(d_mub['fin_vals'].values())\n",
    "compare_same_qubits_experiments_from_stats(nfev1=control_nfevs, nfev2=mub_nfevs, finval1=control_finvals, finval2=mub_finvals, label1='control', label2='experiment')"
   ]
  },
  {
   "cell_type": "markdown",
   "id": "be880a6e-cb62-494e-b946-761f884d1a90",
   "metadata": {},
   "source": [
    "### Experiment \\#3: Analysis and Figures"
   ]
  },
  {
   "cell_type": "code",
   "execution_count": null,
   "id": "86a19970-7d55-4d40-b8ea-eda86cd15b6e",
   "metadata": {},
   "outputs": [],
   "source": [
    "control_group_dir = os.path.join(os.getcwd(), VQC_FOLDER, 'local cost 7 qubits','control group')\n",
    "half_mub_states_dir = os.path.join(os.getcwd(), VQC_FOLDER, 'local cost 7 qubits','half mubs')\n",
    "d_control = load_stats(os.path.join(control_group_dir, STATS_FILENAME))\n",
    "d_half_mub = load_stats(os.path.join(half_mub_states_dir, STATS_FILENAME))"
   ]
  },
  {
   "cell_type": "code",
   "execution_count": null,
   "id": "bf69c73c-3f17-4f78-8847-e6385a71dab0",
   "metadata": {},
   "outputs": [],
   "source": [
    "control_nfevs = list(d_control['nfevs'].values())\n",
    "control_finvals = list(d_control['fin_vals'].values())\n",
    "half_mub_nfevs = list(d_half_mub['nfevs'].values())\n",
    "half_mub_finvals = list(d_half_mub['fin_vals'].values())\n",
    "\n",
    "#remove outlier\n",
    "idx = [i for i in range(24) if control_nfevs[i] > 170000][0]\n",
    "del control_nfevs[idx]\n",
    "del control_finvals[idx]\n",
    "\n",
    "\n",
    "compare_same_qubits_experiments_from_stats(nfev1=control_nfevs, nfev2=half_mub_nfevs, finval1=control_finvals, finval2=half_mub_finvals, label1='control', label2='experiment')"
   ]
  }
 ],
 "metadata": {
  "kernelspec": {
   "display_name": "Python 3 (ipykernel)",
   "language": "python",
   "name": "python3"
  },
  "language_info": {
   "codemirror_mode": {
    "name": "ipython",
    "version": 3
   },
   "file_extension": ".py",
   "mimetype": "text/x-python",
   "name": "python",
   "nbconvert_exporter": "python",
   "pygments_lexer": "ipython3",
   "version": "3.10.4"
  },
  "vscode": {
   "interpreter": {
    "hash": "0db1a3e07111c158c6e764c73bebca35a547167fb06d8f3c90bc334d0cbc47c7"
   }
  }
 },
 "nbformat": 4,
 "nbformat_minor": 5
}
