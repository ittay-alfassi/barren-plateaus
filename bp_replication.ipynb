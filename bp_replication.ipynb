{
 "cells": [
  {
   "cell_type": "markdown",
   "metadata": {},
   "source": [
    "## Barren Plateau Problems"
   ]
  },
  {
   "cell_type": "code",
   "execution_count": 2,
   "metadata": {},
   "outputs": [],
   "source": [
    "import qiskit as qk\n",
    "from qiskit import Aer, QuantumCircuit\n",
    "\n",
    "from qiskit.circuit import Parameter, ClassicalRegister\n",
    "from qiskit.circuit.library import EfficientSU2\n",
    "from qiskit.utils import QuantumInstance\n",
    "from qiskit.algorithms import VQE\n",
    "from qiskit.algorithms.minimum_eigen_solvers.vqe import VQEResult\n",
    "from qiskit.algorithms.optimizers import COBYLA\n",
    "from typing import Tuple, List, Dict, Union\n",
    "from scipy.optimize import minimize, OptimizeResult\n",
    "import numpy as np\n",
    "from random import random\n",
    "import json\n",
    "from pprint import pprint\n",
    "import matplotlib.pyplot as plt\n",
    "from operator import truediv\n",
    "from cmath import pi\n",
    "from random import randint\n",
    "import os\n",
    "%matplotlib inline\n",
    "\n",
    "MUB_CIRC_2_PATH = os.path.join(os.getcwd(), 'mub_bqskit', '2_302')\n",
    "MUB_CIRC_3_PATH = os.path.join(os.getcwd(), 'mub_bqskit', '3_306')\n",
    "\n",
    "N_QUBIT_NO_MUB_PATH = 'no_mub_results_n.txt'\n",
    "NO_MUB_PATH = 'no_mub_results_3.txt'\n",
    "PRE_MUB_PATH = 'prepend_mub_results_3.txt'\n",
    "APP_MUB_PATH = 'append_mub_results.txt'\n",
    "\n",
    "NO_MUB_GRAPH_FOLDER = '3 qubit graphs'\n",
    "N_QUBIT_NO_MUB_GRAPH_FOLDER = 'n qubit graphs'\n",
    "\n",
    "VQC_FOLDER = 'VQC results'\n",
    "\n",
    "EPS_TOL = 1e-12\n",
    "LO_TOL = 1e-5\n",
    "HI_TOL = 0.2\n",
    "LO_CORR_THRESHOLD = 0.1\n",
    "HI_CORR_THRESHOLD = 0.4\n",
    "N_QUBITS = 3\n",
    "\n",
    "SHOTS = 8192\n",
    "MAX_ITER = 1e8\n",
    "qasm_backend = Aer.get_backend('qasm_simulator')\n",
    "qasm_qi = QuantumInstance(qasm_backend, shots=SHOTS)"
   ]
  },
  {
   "cell_type": "markdown",
   "metadata": {},
   "source": [
    "### Basic Barren Plateau Circuit for Variational Quantum Compilation\n",
    "\n",
    "The \"Cerezo\" ansatz circuit is taken from \"Cost Function Dependent Barren Plateaus in Shallow Parametrized Quantum Circuits\" by Cerezo et al., 2021, Figure 4.\n",
    "The \"Arrasmith\" ansatz circuit is taken from \"Effect of barren plateaus on gradient-free optimization\" by Arrasmith et al. (2021).\n",
    "\n",
    "The attempted task is \"trivial\" Variational Quantum Compilation.\n",
    "Vartational Quantum Compilation gets some unitary $U$, and an ansatz $V(\\theta)$, and attempts to find a value for $\\theta$ such that $V(\\theta)| 0 \\rangle = U | 0 \\rangle$.\n",
    "\n",
    "In this case, we choose $U=I$.\n",
    "Because we pick a *random* initial guess for $\\theta$, we will experience the barren plateaus that occur when the $\\theta$ values are away from the target.\n",
    "\n",
    "Note, however, an important observation:\n",
    "In order to actually use the \"value\" of the different MUB starting points, the original value of the parameters needs to be constant (although random) for all experiments.\n",
    "\n",
    "I took this specific problem from \"Effect of barren plateaus on gradient-free optimization\" by Arrasmith et al. (2021)."
   ]
  },
  {
   "cell_type": "code",
   "execution_count": 3,
   "metadata": {},
   "outputs": [],
   "source": [
    "def gen_vqc_ansatz_arrasmith(n_qubits: int, n_layers: int) -> QuantumCircuit:\n",
    "    qc = qk.QuantumCircuit(n_qubits)\n",
    "    count=1\n",
    "    for _ in range(n_layers):\n",
    "        \n",
    "        # First layer of U3 gates\n",
    "        for i in range(n_qubits):\n",
    "            thetas = [Parameter(f'theta_{count+z}') for z in range(3)]\n",
    "            qc.u(*thetas, i)\n",
    "            count += 3\n",
    "            \n",
    "        # First layer of even CXs\n",
    "        for i in range(0, n_qubits-1, 2):\n",
    "            qc.cx(i, i+1)\n",
    "            \n",
    "        # Second layer of U3 gates\n",
    "        for i in range(n_qubits):\n",
    "            thetas = [Parameter(f'theta_{count+z}') for z in range(3)]\n",
    "            qc.u(*thetas, i)\n",
    "            count += 3\n",
    "            \n",
    "        for i in range(1, n_qubits, 2):\n",
    "            qc.cx(i, (i+1)%n_qubits)\n",
    "            \n",
    "    qc.measure_all()\n",
    "        \n",
    "    return qc\n"
   ]
  },
  {
   "cell_type": "markdown",
   "metadata": {},
   "source": [
    "### Experimenting without MUBs"
   ]
  },
  {
   "cell_type": "markdown",
   "metadata": {},
   "source": [
    "#### Experiment Functions"
   ]
  },
  {
   "cell_type": "code",
   "execution_count": 4,
   "metadata": {},
   "outputs": [],
   "source": [
    "def low_constraint(x: List[float]):\n",
    "    return min(x)\n",
    "\n",
    "def hi_constraint(x: List[float]):\n",
    "    return 2*pi-max(x)\n",
    "\n",
    "def get_constraints() -> List[dict]:\n",
    "    return [{'type': 'ineq', 'fun': low_constraint}, {'type': 'ineq', 'fun': hi_constraint}]\n",
    "\n",
    "\n",
    "# Returns the number of function evaluations it took for the method to converge.\n",
    "# If during the optimization, the cost function goes below a specified bound, the optimization halts.\n",
    "# If the optimization halted because of the bound, the OptimizeResult is replaced with None.\n",
    "def run_vqc_exp(qc: QuantumCircuit, theta0: List[float], tol: float = HI_TOL, success_bound: float=0,\n",
    "                optimizer: str = 'COBYLA', qi: QuantumInstance = qasm_qi) -> Tuple[List[float], OptimizeResult]:\n",
    "    class BoundHitException(Exception):\n",
    "        pass\n",
    "    \n",
    "    cost_points = []\n",
    "    cost_grad = []\n",
    "    def get_val_from_theta(theta: List[float]) -> float:\n",
    "        cost_grad.append(theta)\n",
    "        if float('inf') in theta or float('-inf') in theta:\n",
    "            print(f'inf bug reached in iteration {len(cost_grad)}.')\n",
    "            print('printing 99 last cost points:')\n",
    "            print(cost_points[-99:])\n",
    "            print('printing 100 last gradient values:')\n",
    "            print(cost_grad[-100:])\n",
    "            raise ZeroDivisionError()\n",
    "        # if len(cost_points) % 100 == 0 or min(theta) < -0.5 or max(theta) > 2*pi:\n",
    "        #     print(f'{len(cost_points)}: {theta}')\n",
    "        concrete_qc = qc.bind_parameters(theta)\n",
    "        results = qi.execute(concrete_qc)\n",
    "        resval = 1 - (results.get_counts().int_raw.get(0, 0) / SHOTS)\n",
    "        cost_points.append(resval)\n",
    "        if (resval) <= success_bound:\n",
    "            print('WOOP')\n",
    "            raise BoundHitException()\n",
    "        return resval\n",
    "\n",
    "    try:\n",
    "        if optimizer == 'COBYLA':\n",
    "            res = minimize(get_val_from_theta,\n",
    "                theta0,\n",
    "                method='COBYLA',\n",
    "                options={'maxiter': MAX_ITER},\n",
    "                tol=tol,\n",
    "                constraints=get_constraints())\n",
    "        else:\n",
    "            assert optimizer == 'Nelder-Mead'\n",
    "            res = minimize(get_val_from_theta,\n",
    "            theta0,\n",
    "            method='Nelder-Mead',\n",
    "            options={'maxiter': MAX_ITER},\n",
    "            tol=tol,\n",
    "            bounds = [(0,2*pi) for _ in range(len(theta0))])\n",
    "        \n",
    "    except BoundHitException:\n",
    "        return cost_points, True\n",
    "    except ZeroDivisionError:\n",
    "        return cost_points, cost_grad\n",
    "    except KeyboardInterrupt:\n",
    "        print('Optimization stopped by keyboard interrupt. WOLOLO')\n",
    "        return cost_points, False\n",
    "\n",
    "    return cost_points, res\n",
    "\n"
   ]
  },
  {
   "cell_type": "markdown",
   "metadata": {},
   "source": [
    "#### Experiments"
   ]
  },
  {
   "cell_type": "markdown",
   "metadata": {},
   "source": [
    "### 3-qubit, n-layer experiments"
   ]
  },
  {
   "cell_type": "code",
   "execution_count": 6,
   "metadata": {},
   "outputs": [
    {
     "name": "stdout",
     "output_type": "stream",
     "text": [
      "RUNNING EXPERIMENT FOR 4 LAYERS:\n",
      "WOOP\n",
      "RUNNING EXPERIMENT FOR 5 LAYERS:\n",
      "Optimization stopped by keyboard interrupt. WOLOLO\n",
      "RUNNING EXPERIMENT FOR 6 LAYERS:\n",
      "WOOP\n",
      "RUNNING EXPERIMENT FOR 7 LAYERS:\n",
      "WOOP\n",
      "RUNNING EXPERIMENT FOR 8 LAYERS:\n",
      "WOOP\n",
      "RUNNING EXPERIMENT FOR 9 LAYERS:\n",
      "WOOP\n",
      "RUNNING EXPERIMENT FOR 10 LAYERS:\n",
      "WOOP\n",
      "RUNNING EXPERIMENT FOR 11 LAYERS:\n",
      "Optimization stopped by keyboard interrupt. WOLOLO\n",
      "RUNNING EXPERIMENT FOR 12 LAYERS:\n",
      "WOOP\n"
     ]
    }
   ],
   "source": [
    "no_mub_res = {}\n",
    "for n_layers in range(4, 13):\n",
    "    print(f'RUNNING EXPERIMENT FOR {n_layers} LAYERS:')\n",
    "    qc = gen_vqc_ansatz_arrasmith(N_QUBITS, n_layers)\n",
    "    theta0 = [np.random.random() for _ in range(qc.num_parameters)]\n",
    "    layer_res = run_vqc_exp(qc, theta0, EPS_TOL, success_bound=HI_CORR_THRESHOLD)\n",
    "\n",
    "    no_mub_res[n_layers] = layer_res"
   ]
  },
  {
   "cell_type": "markdown",
   "metadata": {},
   "source": [
    "### n-qubit, n-layer experiments"
   ]
  },
  {
   "cell_type": "code",
   "execution_count": 5,
   "metadata": {},
   "outputs": [
    {
     "name": "stdout",
     "output_type": "stream",
     "text": [
      "RUNNING EXPERIMENT FOR 4 LAYERS:\n",
      "WOOP\n",
      "RUNNING EXPERIMENT FOR 5 LAYERS:\n",
      "WOOP\n",
      "RUNNING EXPERIMENT FOR 6 LAYERS:\n",
      "WOOP\n",
      "RUNNING EXPERIMENT FOR 7 LAYERS:\n",
      "RUNNING EXPERIMENT FOR 8 LAYERS:\n",
      "RUNNING EXPERIMENT FOR 9 LAYERS:\n"
     ]
    }
   ],
   "source": [
    "n_qubit_no_mub_res = {}\n",
    "for n_layers in range(4, 13):\n",
    "    print(f'RUNNING EXPERIMENT FOR {n_layers} LAYERS:')\n",
    "    qc = gen_vqc_ansatz_arrasmith(n_layers, n_layers)\n",
    "    theta0 = [np.random.random() for _ in range(qc.num_parameters)]\n",
    "    layer_res = run_vqc_exp(qc, theta0, EPS_TOL, success_bound=HI_CORR_THRESHOLD)\n",
    "\n",
    "    n_qubit_no_mub_res[n_layers] = layer_res\n",
    "    \n",
    "    if layer_res[1] == False: # Signifying keyboard interrupt\n",
    "        break\n",
    "    elif layer_res[1] == True:\n",
    "        layer_res = (layer_res[0], [])"
   ]
  },
  {
   "cell_type": "markdown",
   "metadata": {},
   "source": [
    "### Analysis Functions"
   ]
  },
  {
   "cell_type": "code",
   "execution_count": 15,
   "metadata": {},
   "outputs": [],
   "source": [
    "def avg(col):\n",
    "    return sum(col) / len(col) if len(col) > 0 else None\n",
    "\n",
    "def wavg(col, weights):\n",
    "    assert len(col) == len(weights)\n",
    "    return sum([v * w for v,w in zip(col, weights)])\n",
    "\n",
    "\n",
    "def nfev(data: Tuple[List[float], Union[VQEResult, OptimizeResult]]) -> int:\n",
    "    evals, record = data\n",
    "    if evals != []:\n",
    "        return len(evals)\n",
    "    elif type(record) == VQEResult:\n",
    "        return record.cost_function_evals\n",
    "    else:\n",
    "        assert type(record) == OptimizeResult\n",
    "        return record.nfev\n",
    "    \n",
    "    \n",
    "def fin_val(data: Tuple[List[float], Union[VQEResult, OptimizeResult]]) -> int:\n",
    "    evals, record = data\n",
    "    if evals != []:\n",
    "        return evals[-1]\n",
    "    elif type(record) == VQEResult:\n",
    "        return record.eigenvalue\n",
    "    else:\n",
    "        return record.fun\n",
    "\n",
    "\n",
    "def gen_statistics_nomub(results_dict: Dict[int, Tuple[List[float], VQEResult]],\n",
    "                         target_vals: List[float] = [],\n",
    "                         stats_filename: str = NO_MUB_PATH,\n",
    "                         graph_folder: str = NO_MUB_GRAPH_FOLDER):\n",
    "    \n",
    "    res = {l: {'nfev': nfev(res), 'fin_val': fin_val(res), 'evals': res[0]} for l, res in results_dict.items()}\n",
    "    with open(stats_filename, 'w') as f:\n",
    "        pprint(res, f)\n",
    "        \n",
    "    for l, data in results_dict.items():\n",
    "        evals, result = data\n",
    "        plt.axis([0, len(evals), 0, 1])\n",
    "        plt.plot(evals)\n",
    "        plt.title(f'Convergence graph with {l} layers')\n",
    "        \n",
    "        if target_vals != []:\n",
    "            plt.plot([0, len(evals)-1], [target_vals[0], target_vals[0]], color='red')\n",
    "        for fake_target in target_vals[1:]:\n",
    "            plt.plot([0, len(evals)-1], [target_vals[0], target_vals[0]], color='purple')\n",
    "            \n",
    "        plt.show()\n",
    "        plt.savefig(os.path.join(graph_folder, f'{l}.png'))\n",
    "        \n",
    "    plt.yscale('log')\n",
    "    plt.plot(results_dict.keys(), [nfev(v) for v in results_dict.values()])\n",
    "    plt.title('# of function evals from layer no.')\n",
    "    plt.show()\n",
    "    plt.savefig(os.path.join(graph_folder, f'nfev_from_layer.png'))\n",
    "        \n",
    "    return res"
   ]
  },
  {
   "cell_type": "markdown",
   "metadata": {},
   "source": [
    "#### Analysis"
   ]
  },
  {
   "cell_type": "code",
   "execution_count": 1,
   "metadata": {},
   "outputs": [
    {
     "ename": "NameError",
     "evalue": "name 'VQC_FOLDER' is not defined",
     "output_type": "error",
     "traceback": [
      "\u001b[1;31m---------------------------------------------------------------------------\u001b[0m",
      "\u001b[1;31mNameError\u001b[0m                                 Traceback (most recent call last)",
      "\u001b[1;32mc:\\Users\\ittay.al\\My Drive\\Technion\\Semester 8\\Barren Plateaus\\bp_replication.ipynb Cell 16\u001b[0m in \u001b[0;36m<cell line: 1>\u001b[1;34m()\u001b[0m\n\u001b[1;32m----> <a href='vscode-notebook-cell:/c%3A/Users/ittay.al/My%20Drive/Technion/Semester%208/Barren%20Plateaus/bp_replication.ipynb#X21sZmlsZQ%3D%3D?line=0'>1</a>\u001b[0m stats_filename \u001b[39m=\u001b[39m os\u001b[39m.\u001b[39mpath\u001b[39m.\u001b[39mjoin(os\u001b[39m.\u001b[39mgetcwd(), VQC_FOLDER, NO_MUB_PATH)\n\u001b[0;32m      <a href='vscode-notebook-cell:/c%3A/Users/ittay.al/My%20Drive/Technion/Semester%208/Barren%20Plateaus/bp_replication.ipynb#X21sZmlsZQ%3D%3D?line=1'>2</a>\u001b[0m graph_folder \u001b[39m=\u001b[39m os\u001b[39m.\u001b[39mpath\u001b[39m.\u001b[39mjoin(os\u001b[39m.\u001b[39mgetcwd(), VQC_FOLDER, NO_MUB_GRAPH_FOLDER)\n\u001b[0;32m      <a href='vscode-notebook-cell:/c%3A/Users/ittay.al/My%20Drive/Technion/Semester%208/Barren%20Plateaus/bp_replication.ipynb#X21sZmlsZQ%3D%3D?line=2'>3</a>\u001b[0m no_mub_stats \u001b[39m=\u001b[39m gen_statistics_nomub(no_mub_res, stats_filename\u001b[39m=\u001b[39mstats_filename, graph_folder\u001b[39m=\u001b[39mgraph_folder)\n",
      "\u001b[1;31mNameError\u001b[0m: name 'VQC_FOLDER' is not defined"
     ]
    }
   ],
   "source": [
    "stats_filename = os.path.join(os.getcwd(), VQC_FOLDER, NO_MUB_PATH)\n",
    "graph_folder = os.path.join(os.getcwd(), VQC_FOLDER, NO_MUB_GRAPH_FOLDER)\n",
    "no_mub_stats = gen_statistics_nomub(no_mub_res, stats_filename=stats_filename, graph_folder=graph_folder)\n",
    "\n",
    "stats_filename = os.path.join(os.getcwd(), VQC_FOLDER, N_QUBIT_NO_MUB_PATH)\n",
    "graph_folder = os.path.join(os.getcwd(), VQC_FOLDER, N_QUBIT_NO_MUB_GRAPH_FOLDER)\n",
    "n_qubit_no_mub_stats = gen_statistics_nomub(n_qubit_no_mub_res, stats_filename=stats_filename, graph_folder=graph_folder)"
   ]
  },
  {
   "cell_type": "code",
   "execution_count": 85,
   "metadata": {},
   "outputs": [
    {
     "data": {
      "image/png": "[encoded data removed]",
      "text/plain": [
       "<Figure size 432x288 with 1 Axes>"
      ]
     },
     "metadata": {
      "needs_background": "light"
     },
     "output_type": "display_data"
    }
   ],
   "source": [
    "plt.plot(n_qubit_no_mub_stats.keys(), [v['nfev'] for v in n_qubit_no_mub_stats.values()])\n",
    "plt.show()"
   ]
  },
  {
   "cell_type": "markdown",
   "metadata": {},
   "source": [
    "## Basic Barren Plateau Circuit for Transverse Ising VQE\n",
    "To save myself some time, I'll just use the built-in VQE module."
   ]
  },
  {
   "cell_type": "code",
   "execution_count": 108,
   "metadata": {},
   "outputs": [],
   "source": [
    "def build_pauli_string(n_qubits: int, mat_locations: Dict[int, str]) -> str:\n",
    "    assert n_qubits > 0\n",
    "    H = ''\n",
    "    for i in range(n_qubits):\n",
    "        H += mat_locations.get(i, 'I')\n",
    "    return H\n",
    "\n",
    "def generate_transverse_ising_ham(n_qubits: int) -> PauliSumOp:\n",
    "    # Build Individual X strings\n",
    "    string_list = [(build_pauli_string(n_qubits, {i: 'X'}), random()) for i in range(n_qubits)]\n",
    "    for i in range(n_qubits):\n",
    "        string_list += [(build_pauli_string(n_qubits, {i: 'Z', j: 'Z'}), random()) for j in range(i+1, n_qubits)]\n",
    "    return PauliSumOp.from_list(string_list, 1)"
   ]
  },
  {
   "cell_type": "code",
   "execution_count": 105,
   "metadata": {},
   "outputs": [],
   "source": [
    "## For now, I'm using the standard qiskit hardware efficient ansatz (as Dekel suggested).\n",
    "def gen_hardware_eff_ansatz(n_qubits: int, n_layers: int) -> QuantumCircuit:\n",
    "    qc = QuantumCircuit(n_qubits)\n",
    "    ansatz = EfficientSU2(n_qubits, reps=n_layers, entanglement='linear')\n",
    "    qc.compose(ansatz, inplace=True)\n",
    "    return qc"
   ]
  },
  {
   "cell_type": "markdown",
   "metadata": {},
   "source": [
    "### Experimenting without MUBs"
   ]
  },
  {
   "cell_type": "markdown",
   "metadata": {},
   "source": [
    "#### Experiment Functions"
   ]
  },
  {
   "cell_type": "code",
   "execution_count": 106,
   "metadata": {},
   "outputs": [],
   "source": [
    "# Returns the number of function evaluations it took for the method to converge.\n",
    "def run_vqe_exp(ansatz: QuantumCircuit, ham: PauliSumOp, theta0: Union[List[float], None] = None, tol: float = HI_TOL) -> Tuple[List[float], VQEResult]:\n",
    "    cost_points = []\n",
    "    \n",
    "    def callback(nfev: int, params: np.ndarray, mean: float, std_dev: float):\n",
    "        cost_points.append(mean)\n",
    "        \n",
    "    \n",
    "    optimizer = COBYLA(maxiter=MAX_ITER, tol=tol)\n",
    "    vqe = VQE(ansatz=ansatz, optimizer=optimizer, quantum_instance=qi, initial_point=np.asarray(theta0), callback=callback)\n",
    "    result = vqe.compute_minimum_eigenvalue(operator=ham)\n",
    "    return cost_points, result"
   ]
  },
  {
   "cell_type": "markdown",
   "metadata": {},
   "source": [
    "#### Experiments"
   ]
  },
  {
   "cell_type": "code",
   "execution_count": 109,
   "metadata": {},
   "outputs": [
    {
     "name": "stdout",
     "output_type": "stream",
     "text": [
      "RUNNING VQE EXPERIMENT FOR 4 LAYERS:\n",
      "RUNNING VQE EXPERIMENT FOR 5 LAYERS:\n",
      "RUNNING VQE EXPERIMENT FOR 6 LAYERS:\n",
      "RUNNING VQE EXPERIMENT FOR 7 LAYERS:\n",
      "RUNNING VQE EXPERIMENT FOR 8 LAYERS:\n",
      "RUNNING VQE EXPERIMENT FOR 9 LAYERS:\n",
      "RUNNING VQE EXPERIMENT FOR 10 LAYERS:\n",
      "RUNNING VQE EXPERIMENT FOR 11 LAYERS:\n",
      "RUNNING VQE EXPERIMENT FOR 12 LAYERS:\n"
     ]
    }
   ],
   "source": [
    "no_mub_res_vqe = {}\n",
    "\n",
    "for n_layers in range(4, 13):\n",
    "    print(f'RUNNING VQE EXPERIMENT FOR {n_layers} LAYERS:')\n",
    "    # n_qubits = n_layers\n",
    "    ham = generate_transverse_ising_ham(N_QUBITS)\n",
    "    ansatz = gen_hardware_eff_ansatz(N_QUBITS, n_layers)\n",
    "#     theta0 = [np.random.random() for _ in range(ansatz.num_parameters)]\n",
    "    theta0 = [0 for _ in range(ansatz.num_parameters)]\n",
    "    layer_res = run_vqe_exp(ansatz, ham, theta0=theta0, tol=LO_TOL)\n",
    "    no_mub_res_vqe[n_layers] = layer_res"
   ]
  },
  {
   "cell_type": "code",
   "execution_count": 110,
   "metadata": {},
   "outputs": [],
   "source": [
    "eigen_values, eigen_vectors = np.linalg.eigh(ham.to_matrix())"
   ]
  },
  {
   "cell_type": "code",
   "execution_count": 67,
   "metadata": {},
   "outputs": [
    {
     "name": "stdout",
     "output_type": "stream",
     "text": [
      "The exact result is: -2.611073908575124\n",
      "The excited states are: [-1.75710396 -0.76553487 -0.13554306  0.18934452  0.5137937   1.90793569\n",
      "  2.65818189]\n"
     ]
    }
   ],
   "source": [
    "exact_result = eigen_values[0]\n",
    "print(f\"The exact result is: {exact_result}\")\n",
    "print(f\"The excited states are: {eigen_values[1:]}\")"
   ]
  },
  {
   "cell_type": "markdown",
   "metadata": {},
   "source": [
    "#### Analysis"
   ]
  },
  {
   "cell_type": "code",
   "execution_count": 102,
   "metadata": {},
   "outputs": [
    {
     "name": "stdout",
     "output_type": "stream",
     "text": [
      "Error for layer number 4: 0.24741949013293674\n",
      "Error for layer number 5: 0.42165700401507644\n",
      "Error for layer number 6: 0.6261742020762586\n",
      "Error for layer number 7: 0.4706022584405041\n",
      "Error for layer number 8: 0.21401529415827358\n",
      "Error for layer number 9: 1.1897460560061148\n",
      "Error for layer number 10: 0.36511685386935877\n",
      "Error for layer number 11: 0.055285308974512226\n",
      "Error for layer number 12: 0.1638953533226779\n"
     ]
    }
   ],
   "source": [
    "# calculate the error from the exact result\n",
    "for i in range(4, 13):\n",
    "    print(\"Error for layer number \" + str(i) +\": \" + str(abs(no_mub_res_vqe[i].eigenvalue - exact_result)))"
   ]
  },
  {
   "cell_type": "code",
   "execution_count": null,
   "metadata": {},
   "outputs": [],
   "source": [
    "filename = os.path.join(os.getcwd(), 'VQE results', NO_MUB_PATH)\n",
    "no_mub_stats = gen_statistics_nomub(no_mub_res_vqe, filename=filename)\n",
    "print(no_mub_stats)\n",
    "myplot_heatmap([layer['fin_val'] for layer in no_mub_stats.values()], exact_result, eigen_values[1:])\n"
   ]
  }
 ],
 "metadata": {
  "kernelspec": {
   "display_name": "Python 3.10.3 ('qiskit')",
   "language": "python",
   "name": "python3"
  },
  "language_info": {
   "codemirror_mode": {
    "name": "ipython",
    "version": 3
   },
   "file_extension": ".py",
   "mimetype": "text/x-python",
   "name": "python",
   "nbconvert_exporter": "python",
   "pygments_lexer": "ipython3",
   "version": "3.10.3"
  },
  "vscode": {
   "interpreter": {
    "hash": "08f75e78a172c0ac33ad7cb8a91ed4c5f299e09c21f97d75480e35f4bb93bce7"
   }
  }
 },
 "nbformat": 4,
 "nbformat_minor": 2
}
