{
 "cells": [
  {
   "cell_type": "markdown",
   "metadata": {},
   "source": [
    "## Generation of MUBs for 2 and 3 qubits"
   ]
  },
  {
   "cell_type": "code",
   "execution_count": null,
   "metadata": {},
   "outputs": [],
   "source": [
    "from qiskit.opflow import X, Y, Z, I, PauliOp, PauliSumOp\n",
    "from qsymm.linalg import simult_diag\n",
    "import numpy as np\n",
    "from bqskit.compiler import Compiler\n",
    "from bqskit.compiler import CompilationTask"
   ]
  },
  {
   "cell_type": "code",
   "execution_count": 2,
   "metadata": {},
   "outputs": [],
   "source": [
    "import os\n",
    "\n",
    "MUB_CIRC_2_PATH = os.path.join(os.getcwd(), 'mub_bqskit', '2_302')\n",
    "MUB_CIRC_3_PATH = os.path.join(os.getcwd(), 'mub_bqskit', '3_306')"
   ]
  },
  {
   "cell_type": "markdown",
   "metadata": {},
   "source": [
    "The method in this section of the notebook is based on the paper \"Mutually unbiased binary observable sets on N qubits\"\n",
    "By Lawrence, Brukner and Zeilinger. (2022)\n",
    "\n",
    "The paper provides a table. In that table, each row contains several Pauli strings.\n",
    "The basis that this row represents is the eigenvector basis that diagonalizes **the entire row**.\n",
    "\n",
    "Thus, this function applies simultaneous diagonalization to all matrices (Pauli strings) from each row, to get the MUB.\n",
    "After that, BQSKit is used to synthesize a circuit that generates those MUB states."
   ]
  },
  {
   "cell_type": "code",
   "execution_count": 3,
   "metadata": {},
   "outputs": [],
   "source": [
    "def mats_to_mub_circ(mats_row: np.ndarray, nqubits: int):\n",
    "    mub_uni = np.hstack(simult_diag(mats_row))\n",
    "    task = CompilationTask.synthesize(mub_uni)\n",
    "    with Compiler() as compiler:\n",
    "        synth_qc = compiler.compile(task)\n",
    "    return mub_uni, synth_qc.to('qasm')"
   ]
  },
  {
   "cell_type": "code",
   "execution_count": null,
   "metadata": {},
   "outputs": [],
   "source": [
    "tbl_2_302 = [ [Z^I, I^Z, Z^Z],\n",
    "        [X^I, I^Y, X^Y],\n",
    "        [Y^I, I^X, Y^X],\n",
    "        [Y^Y, Z^X, Z^X],\n",
    "        [X^X, Y^Z, Z^Y]]\n",
    "\n",
    "tbl_3_306 = [   # The full columns were not added, as to save space, since 3 matrices should define the basis completely.\n",
    "    [X^I^I, I^Y^I, I^I^Z, X^Y^Z, X^Y^I, X^I^Z, I^Y^Z],  # First 3 rows are product state bases\n",
    "    [Y^I^I, I^Z^I, I^I^X],\n",
    "    [Z^I^I, I^X^I, I^I^Y],\n",
    "    [Y^Z^Z, Z^Y^Z, Z^Z^Y],  # Last 6 rows are GHZ-like bases\n",
    "    [Z^X^X, X^Z^X, X^X^Z],\n",
    "    [X^Y^Y, Y^X^Y, Y^Y^X],\n",
    "    [Z^X^Z, Y^X^X, Y^Y^Z],\n",
    "    [X^Y^X, Z^Y^Y, Z^Z^X],\n",
    "    [Y^Z^Y, X^Z^Z, X^X^Y]\n",
    "]\n",
    "\n",
    "\n",
    "\n",
    "qasm_2_302 = {}\n",
    "qasm_3_306 = {}\n",
    "\n",
    "print('----------RESULTS FOR 2-QUBIT MUBS (3,0,2)--------------')\n",
    "for i, row in enumerate(tbl_2_302):\n",
    "    res = mats_to_mub_circ(list(map(lambda p: p.to_matrix(), row)), 2)\n",
    "    print(f'result for row {i+1}:')\n",
    "    print(res[0])\n",
    "    print(res[1])\n",
    "    with open(os.path.join(MUB_CIRC_2_PATH, str(i+1)+'.txt'), 'w') as f:\n",
    "        f.write(res[1])\n",
    "    qasm_2_302[i+1] = res[1]\n",
    "    print('\\n')\n",
    "\n",
    "\n",
    "print('----------RESULTS FOR 3-QUBIT MUBS (3,0,6)--------------')\n",
    "for i, row in enumerate(tbl_3_306):\n",
    "    res = mats_to_mub_circ(list(map(lambda p: p.to_matrix(), row)), 3)\n",
    "    print(f'result for row {i+1}:')\n",
    "    print(res[0])\n",
    "    print(res[1])\n",
    "    with open(os.path.join(MUB_CIRC_3_PATH, str(i+1) + '.txt'), 'w') as f:\n",
    "        f.write(res[1])\n",
    "    qasm_3_306[i+1] = res[1]\n",
    "    print('\\n')"
   ]
  }
 ],
 "metadata": {
  "kernelspec": {
   "display_name": "Python 3 (ipykernel)",
   "language": "python",
   "name": "python3"
  },
  "language_info": {
   "codemirror_mode": {
    "name": "ipython",
    "version": 3
   },
   "file_extension": ".py",
   "mimetype": "text/x-python",
   "name": "python",
   "nbconvert_exporter": "python",
   "pygments_lexer": "ipython3",
   "version": "3.10.4"
  },
  "vscode": {
   "interpreter": {
    "hash": "08f75e78a172c0ac33ad7cb8a91ed4c5f299e09c21f97d75480e35f4bb93bce7"
   }
  }
 },
 "nbformat": 4,
 "nbformat_minor": 4
}
