{
 "cells": [
  {
   "cell_type": "markdown",
   "id": "8d0c84e3-156a-4591-9593-662f9d14cf74",
   "metadata": {},
   "source": [
    "# Mutual Unbiased Bases as a Countermeasure to Barren Plateaus in Variational Quantum Algorithms"
   ]
  },
  {
   "cell_type": "markdown",
   "id": "b001fd7b-0f57-4625-b366-b011b30300c9",
   "metadata": {},
   "source": [
    "### Imports and Globals"
   ]
  },
  {
   "cell_type": "code",
   "execution_count": 10,
   "id": "7b0f2a4e-d63e-472f-b6aa-91def71cec3d",
   "metadata": {},
   "outputs": [],
   "source": [
    "import qiskit as qk\n",
    "from qiskit import Aer, QuantumCircuit\n",
    "\n",
    "from qiskit.circuit import Parameter, ClassicalRegister\n",
    "from qiskit.circuit.library import EfficientSU2\n",
    "from qiskit.utils import QuantumInstance\n",
    "from qiskit.algorithms import VQE\n",
    "from qiskit.algorithms.minimum_eigen_solvers.vqe import VQEResult\n",
    "from qiskit.algorithms.optimizers import COBYLA\n",
    "from typing import Tuple, List, Dict, Union\n",
    "from scipy.optimize import minimize, OptimizeResult\n",
    "import numpy as np\n",
    "from random import random\n",
    "import json\n",
    "from pprint import pprint\n",
    "import matplotlib.pyplot as plt\n",
    "from operator import truediv\n",
    "from cmath import pi\n",
    "from random import randint\n",
    "import os\n",
    "import time\n",
    "%matplotlib inline\n",
    "\n",
    "# MUB circuit file paths\n",
    "MUB_CIRC_2_PATH = os.path.join(os.getcwd(), 'mub_bqskit', '2_302')\n",
    "MUB_CIRC_3_PATH = os.path.join(os.getcwd(), 'mub_bqskit', '3_306')\n",
    "\n",
    "# Result folder names paths\n",
    "VQC_FOLDER = 'VQC results'\n",
    "NO_MUB_GRAPH_FOLDER = '3 qubit graphs'\n",
    "N_QUBIT_NO_MUB_GRAPH_FOLDER = 'n qubit graphs'\n",
    "\n",
    "# Hyper-parameter value options\n",
    "EPS_TOL = 1e-12\n",
    "LO_TOL = 1e-5\n",
    "MID_TOL = 1e-2\n",
    "HI_TOL = 0.2\n",
    "TINY_SUCCESS_BOUND = 0.01\n",
    "LO_SUCCESS_BOUND = 0.1\n",
    "HI_SUCCESS_BOUND = 0.4\n",
    "\n",
    "# Maximal Iteration upper bound (set to not be reached)\n",
    "MAX_ITER = 1e8\n",
    "\n",
    "# Circuit Execution Parameters\n",
    "SHOTS = 8192\n",
    "qasm_backend = Aer.get_backend('qasm_simulator')\n",
    "qasm_qi = QuantumInstance(qasm_backend, shots=SHOTS)"
   ]
  },
  {
   "cell_type": "markdown",
   "id": "b1a97e5f-9699-433d-83df-a8c8a4ab89cc",
   "metadata": {},
   "source": [
    "### Basic Barren Plateau Circuit for Variational Quantum Compilation\n",
    "\n",
    "The \"Arrasmith\" ansatz circuit is taken from \"Effect of barren plateaus on gradient-free optimization\" by Arrasmith et al. (2021).\n",
    "\n",
    "The attempted task is \"trivial\" Variational Quantum Compilation.\n",
    "Vartational Quantum Compilation gets some unitary $U$, and an ansatz $V(\\theta)$, and attempts to find a value for $\\theta$ such that $V(\\theta)| 0 \\rangle = U | 0 \\rangle$.\n",
    "\n",
    "In this case, we choose $U=I$.\n",
    "Because we pick a *random* initial guess for $\\theta$, we will experience the barren plateaus that occur when the $\\theta$ values are away from the target.\n",
    "I took this specific problem from \"Effect of barren plateaus on gradient-free optimization\" by Arrasmith et al. (2021).\n",
    "\n",
    "Note, however, an important observation:\n",
    "In order to actually use the \"value\" of the different MUB starting points, the original value of the parameters needs to be constant (although random) for all experiments."
   ]
  },
  {
   "cell_type": "code",
   "execution_count": 11,
   "id": "2a5fc4a2-6753-4ac4-be16-5496e32f9e9c",
   "metadata": {},
   "outputs": [],
   "source": [
    "def gen_vqc_ansatz_arrasmith(n_qubits: int, n_layers: int) -> QuantumCircuit:\n",
    "    qc = qk.QuantumCircuit(n_qubits)\n",
    "    count=1\n",
    "    for _ in range(n_layers):\n",
    "        \n",
    "        # First layer of U3 gates\n",
    "        for i in range(n_qubits):\n",
    "            thetas = [Parameter(f'theta_{count+z}') for z in range(3)]\n",
    "            qc.u(*thetas, i)\n",
    "            count += 3\n",
    "            \n",
    "        # First layer of even CXs\n",
    "        for i in range(0, n_qubits-1, 2):\n",
    "            qc.cx(i, i+1)\n",
    "            \n",
    "        # Second layer of U3 gates\n",
    "        for i in range(n_qubits):\n",
    "            thetas = [Parameter(f'theta_{count+z}') for z in range(3)]\n",
    "            qc.u(*thetas, i)\n",
    "            count += 3\n",
    "            \n",
    "        for i in range(1, n_qubits, 2):\n",
    "            qc.cx(i, (i+1)%n_qubits)\n",
    "            \n",
    "    qc.measure_all()\n",
    "        \n",
    "    return qc"
   ]
  },
  {
   "cell_type": "markdown",
   "id": "2a18d74c-ecf2-4baa-8f9b-7d951871ce3c",
   "metadata": {},
   "source": [
    "### Default Experiment Parameters and Hyper-parameters"
   ]
  },
  {
   "cell_type": "code",
   "execution_count": 12,
   "id": "6a1ac2d2-5599-4ea7-9c6c-ba9ee61df79a",
   "metadata": {},
   "outputs": [],
   "source": [
    "optimizer = ''\n",
    "success_bound = tol = K = N_LAYERS = N_QUBITS= 0\n",
    "def std_exp_3_qubits():\n",
    "    global optimizer\n",
    "    global success_bound\n",
    "    global tol\n",
    "    global K\n",
    "    global N_LAYERS\n",
    "    global N_QUBITS\n",
    "    optimizer = 'COBYLA'\n",
    "    success_bound = LO_SUCCESS_BOUND\n",
    "    tol = LO_TOL\n",
    "    K = 25\n",
    "    N_LAYERS = 12\n",
    "    N_QUBITS = 3\n",
    "    \n",
    "def std_exp_7_qubits():\n",
    "    global optimizer\n",
    "    global success_bound\n",
    "    global tol\n",
    "    global K\n",
    "    global N_LAYERS\n",
    "    global N_QUBITS\n",
    "    optimizer = 'COBYLA'\n",
    "    success_bound = LO_SUCCESS_BOUND\n",
    "    tol = LO_TOL\n",
    "    K = 25\n",
    "    N_LAYERS = 7\n",
    "    N_QUBITS = 7\n",
    "\n",
    "std_exp_3_qubits()"
   ]
  },
  {
   "cell_type": "markdown",
   "id": "09c93b23-49ab-4de9-8dce-4faca83d7e00",
   "metadata": {},
   "source": [
    "### Experiment Functions - Generic VQC experiment"
   ]
  },
  {
   "cell_type": "code",
   "execution_count": 13,
   "id": "bb972e4c-7d23-4497-bd1f-9a761cbb9462",
   "metadata": {},
   "outputs": [],
   "source": [
    "def low_constraint(x: List[float]):\n",
    "    return min(x)\n",
    "\n",
    "def hi_constraint(x: List[float]):\n",
    "    return 2*pi-max(x)\n",
    "\n",
    "def get_constraints() -> List[dict]:\n",
    "    return [{'type': 'ineq', 'fun': low_constraint}, {'type': 'ineq', 'fun': hi_constraint}]\n",
    "\n",
    "def rand_angle():\n",
    "    return (np.random.random()) * 2 * pi - pi\n",
    "\n",
    "# Calculate the percentage of results where 0 was reached in the jth qubit.\n",
    "def get_p0j(counts: dict, j: int, n_qubits: int, shots: int = SHOTS) -> float:\n",
    "    assert j >= 0 and j < n_qubits\n",
    "    count0j = sum([v for k,v in counts.items() if k[j] == '0'])\n",
    "    assert count0j >= 0 and count0j <= shots\n",
    "    return count0j / shots\n",
    "\n",
    "# Returns the number of function evaluations it took for the method to converge.\n",
    "# If during the optimization, the cost function goes below a specified bound, the optimization halts.\n",
    "# If the optimization halted because of the bound, the OptimizeResult is replaced with None.\n",
    "def run_vqc_exp(qc: QuantumCircuit,\n",
    "                theta0: List[float],\n",
    "                tol: float = HI_TOL,\n",
    "                success_bound: float = 0,\n",
    "                optimizer: str = 'COBYLA',\n",
    "                qi: QuantumInstance = qasm_qi,\n",
    "                q: float = 0) -> Tuple[List[float], OptimizeResult]:\n",
    "    \n",
    "    # defining \n",
    "    n_qubits = qc.num_qubits\n",
    "    cost_points = []\n",
    "    \n",
    "    # Exception used for breaking on hitting success bound\n",
    "    class BoundHitException(Exception):\n",
    "        pass\n",
    "    \n",
    "    \n",
    "    def evaluate_cost(theta: List[float]) -> float:\n",
    "        if float('inf') in theta or float('-inf') in theta:\n",
    "            raise ZeroDivisionError()\n",
    "        concrete_qc = qc.bind_parameters(theta)\n",
    "        results = qi.execute(concrete_qc)\n",
    "        counts = dict(results.get_counts())\n",
    "        # Calculating the cost\n",
    "        # Note that the Arrasmith paper uses ONLY the local cost.\n",
    "        # Also, note that while the initial global cost is close to 1, the initial local cost should be around 0.5.\n",
    "        # The intuition is that the probability to be in |0> specifically vanishes exponentially,\n",
    "        # While the amount of \"lit\" qubits in a random answer should be around half.\n",
    "        global_cost = 1 - (results.get_counts().int_raw.get(0, 0) / SHOTS)\n",
    "        local_cost = 1 - sum([get_p0j(counts, j, n_qubits) for j in range(n_qubits)]) / n_qubits\n",
    "        cost = q*global_cost + (1-q)*local_cost\n",
    "        cost_points.append(cost)\n",
    "        if (cost) <= success_bound:\n",
    "            print('Success bound reached. WOOP')\n",
    "            raise BoundHitException()\n",
    "        return cost\n",
    "\n",
    "    try:\n",
    "        # Based on constraint functions\n",
    "        if optimizer == 'COBYLA':\n",
    "            res = minimize(evaluate_cost,\n",
    "                theta0,\n",
    "                method='COBYLA',\n",
    "                options={'maxiter': MAX_ITER},\n",
    "                tol=tol,\n",
    "                constraints=get_constraints())\n",
    "        #based on concrete bounds\n",
    "        elif optimizer in ['Nelder-Mead', 'SLSQP', 'Powell']:\n",
    "            res = minimize(evaluate_cost,\n",
    "                theta0,\n",
    "                method=optimizer,\n",
    "                options={'maxiter': MAX_ITER},\n",
    "                tol=tol,\n",
    "                bounds = [(-pi,pi) for _ in range(len(theta0))])\n",
    "        else:\n",
    "            assert 0==1\n",
    "        \n",
    "    except BoundHitException:\n",
    "        return cost_points, True\n",
    "    except ZeroDivisionError:\n",
    "        return cost_points, cost_grad\n",
    "    except KeyboardInterrupt:\n",
    "        print('Optimization stopped by keyboard interrupt. WOLOLO')\n",
    "        return cost_points, False\n",
    "\n",
    "    return cost_points, res"
   ]
  },
  {
   "cell_type": "markdown",
   "id": "4a56f832-5fe1-46a1-85b1-3eb2fd2a0d94",
   "metadata": {},
   "source": [
    "### Experiment Functions - prepending circuits"
   ]
  },
  {
   "cell_type": "code",
   "execution_count": 14,
   "id": "d91486ee-4dcb-445e-8e07-9f986c5a9fc3",
   "metadata": {},
   "outputs": [],
   "source": [
    "# This function gets a number i from 0 to (2^n)-1\n",
    "# and returns a circuit that generates the state |i> when acting on |0>.\n",
    "def get_comp_state_circ(state_idx: int, n_qubits: int) -> QuantumCircuit:\n",
    "    qc = QuantumCircuit(n_qubits)\n",
    "    bin_str = bin(state_idx)[2:].zfill(n_qubits)\n",
    "    for i, ch in enumerate(bin_str):\n",
    "        if ch == '1':\n",
    "            qc.x(i)\n",
    "    return qc\n",
    "\n",
    "comp_circuits = [get_comp_state_circ(i, N_QUBITS) for i in range(2 ** N_QUBITS)]\n",
    "\n",
    "\n",
    "def run_vqc_exp_with_state_prepend(ansatz_qc: QuantumCircuit, state_qc: QuantumCircuit,\n",
    "                                   n_qubits: int, theta0: List[float],\n",
    "                                   tol: float = 0.2, success_bound: float=0,\n",
    "                                   optimizer: str = 'COBYLA',\n",
    "                                   qi: QuantumInstance = qasm_qi) -> dict:\n",
    "    state_qc = state_qc.copy()\n",
    "    state_qc.add_register(ClassicalRegister(n_qubits))\n",
    "    full_qc = state_qc.compose(ansatz_qc, qubits=range(n_qubits), inplace=False)\n",
    "    assert full_qc != None\n",
    "    return run_vqc_exp(full_qc, theta0, tol, success_bound, optimizer, qi)\n",
    "\n",
    "\n",
    "def run_vqc_exp_with_mub_prepend(ansatz_qc: QuantumCircuit, mub_qc: QuantumCircuit,\n",
    "                                 n_qubits: int, n_layers: int,\n",
    "                                 theta0: List[float], tol: float = 0.2,\n",
    "                                 success_bound: float = 0,\n",
    "                                 optimizer: str = 'COBYLA',\n",
    "                                 qi: QuantumInstance = qasm_qi) -> dict:\n",
    "    mub_qc = mub_qc.copy()\n",
    "    mub_qc.add_register(ClassicalRegister(n_qubits))\n",
    "    mub_ansatz_qc = mub_qc.compose(ansatz_qc, qubits=range(n_qubits), inplace=False)\n",
    "    assert mub_ansatz_qc != None\n",
    "\n",
    "    res_dict = {}\n",
    "    for i in range((2 ** n_qubits)):\n",
    "        state_qc = get_comp_state_circ(i, n_qubits)\n",
    "        res_dict[i] = run_vqc_exp_with_state_prepend(mub_ansatz_qc, state_qc, n_qubits, theta0, tol, success_bound, optimizer, qi)\n",
    "    return res_dict\n"
   ]
  },
  {
   "cell_type": "code",
   "execution_count": 15,
   "id": "5d6d5f0f-33be-4942-96a7-16775776c74f",
   "metadata": {},
   "outputs": [],
   "source": [
    "std_exp_3_qubits()"
   ]
  },
  {
   "cell_type": "markdown",
   "id": "9f2880f1-3a44-4b2f-b17d-501327beb695",
   "metadata": {},
   "source": [
    "### Control Group: $k$ Random Initial Parameter Vectors"
   ]
  },
  {
   "cell_type": "markdown",
   "id": "4a9a1637-522d-4dc0-9cb6-984a90d7b138",
   "metadata": {},
   "source": [
    "#### Result Data Structure\n",
    "\n",
    "The results are a list of tuples.\n",
    "The first element is the theta vector used for that run.\n",
    "The second element is a tuple of the convergence graph, and (optionally) the result data structure generated by SciPy."
   ]
  },
  {
   "cell_type": "code",
   "execution_count": 20,
   "id": "4baf0bed-be3a-4691-a710-1a82b1aaa0fb",
   "metadata": {},
   "outputs": [],
   "source": [
    "def run_k_random_theta_vqc_exp_set():\n",
    "    print('=====Experimenting with SMALL SETS of radnom initial parameters=====')\n",
    "    start_time = time.time()\n",
    "    first_time = start_time\n",
    "    finish_time = start_time\n",
    "    interrupted = False\n",
    "    \n",
    "    results = []\n",
    "    ansatz = gen_vqc_ansatz_arrasmith(N_QUBITS, N_LAYERS)\n",
    "\n",
    "    for i in range(K):\n",
    "        theta0 = [rand_angle() for _ in range(ansatz.num_parameters)]\n",
    "        print(f'experimenting with random parameter set #{i}')\n",
    "        exp_data = run_vqc_exp(ansatz, theta0, tol=tol, success_bound=success_bound, optimizer=optimizer)\n",
    "        print(f'parameter set #{i} done')\n",
    "        \n",
    "        if exp_data[1] == False: # Signifying keyboard interrupt\n",
    "            interrupted = True\n",
    "            exp_data = (exp_data[0], [])\n",
    "        elif exp_data[1] == True:\n",
    "            state_data = (exp_data[0], [])\n",
    "\n",
    "        finish_time = time.time()\n",
    "        print(f'Finished experiment in {finish_time - start_time} seconds at {time.asctime(time.localtime())}')\n",
    "        start_time = finish_time\n",
    "\n",
    "        results.append((theta0, exp_data))\n",
    "\n",
    "        if interrupted:\n",
    "            return results, False\n",
    "        \n",
    "    print(f'total took {finish_time - first_time} seconds')\n",
    "    \n",
    "    return results, True"
   ]
  },
  {
   "cell_type": "markdown",
   "id": "79755792-e609-4883-ab4d-dbea2d9a9a6c",
   "metadata": {
    "jp-MarkdownHeadingCollapsed": true,
    "tags": []
   },
   "source": [
    "### Loading the QASM MUB circuits into Qiskit"
   ]
  },
  {
   "cell_type": "code",
   "execution_count": 60,
   "id": "621e9484-f954-463a-958e-e1eb17033bf6",
   "metadata": {},
   "outputs": [],
   "source": [
    "CIRC_FROM_FILES = True\n",
    "if CIRC_FROM_FILES:\n",
    "    paths_2 = os.listdir(MUB_CIRC_2_PATH)\n",
    "    paths_3 = os.listdir(MUB_CIRC_3_PATH)\n",
    "    mub_circuits_2_qubits = [qk.circuit.QuantumCircuit.from_qasm_file(os.path.join(MUB_CIRC_2_PATH,path)) for path in paths_2 if '.txt' in path]\n",
    "    mub_circuits_3_qubits = [qk.circuit.QuantumCircuit.from_qasm_file(os.path.join(MUB_CIRC_3_PATH,path)) for path in paths_3 if '.txt' in path]\n",
    "else:\n",
    "    mub_circuits_2_qubits = [qk.circuit.QuantumCircuit.from_qasm_str(qasm_str) for qasm_str in qasm_2_302.values()]\n",
    "    mub_circuits_3_qubits = [qk.circuit.QuantumCircuit.from_qasm_str(qasm_str) for qasm_str in qasm_3_306.values()]"
   ]
  },
  {
   "cell_type": "markdown",
   "id": "d3f13e0f-05ae-4e50-a3cf-bbd74771d967",
   "metadata": {
    "jp-MarkdownHeadingCollapsed": true,
    "tags": []
   },
   "source": [
    "### Utilization Method: try k random MUB states"
   ]
  },
  {
   "cell_type": "markdown",
   "id": "6181e13a-1e00-4de2-a7c7-850665f32016",
   "metadata": {
    "tags": []
   },
   "source": [
    "#### Results Data Structure\n",
    "The results of the experiment are a dictionary.\n",
    "The key is a pair: the first element is the MUB index, and the second is the state index.\n",
    "The value is a tuple of the convergence graph, and (optionally) the result data structure generated by SciPy."
   ]
  },
  {
   "cell_type": "code",
   "execution_count": 66,
   "id": "c78db3c2-6de3-4ee0-b194-78896be2b0c8",
   "metadata": {},
   "outputs": [],
   "source": [
    "def generate_k_mub_choices(k: int) -> List[Tuple[int, int]]:\n",
    "    n_mubs = 2 ** N_QUBITS + 1\n",
    "    n_states = 2 ** N_QUBITS\n",
    "    assert k <= n_mubs * n_states\n",
    "    res = []\n",
    "    while k > 0:\n",
    "        while True:\n",
    "            mub = randint(0, n_mubs-1)\n",
    "            state = randint(0, n_states-1)\n",
    "            if (mub, state) not in res:\n",
    "                res.append((mub, state))\n",
    "                k -= 1\n",
    "                break\n",
    "    return res"
   ]
  },
  {
   "cell_type": "code",
   "execution_count": 22,
   "id": "0d411497-0dae-48ef-b5e5-0acb679e68d2",
   "metadata": {},
   "outputs": [],
   "source": [
    "def run_k_mub_state_vqc_exp_set():\n",
    "    print('=====Experimenting with SMALL SETS of prepended MUB states=====')\n",
    "    start_time = time.time()\n",
    "    first_time = start_time\n",
    "    finish_time = start_time\n",
    "    interrupted = False\n",
    "    results = {}\n",
    "    \n",
    "    ansatz = gen_vqc_ansatz_arrasmith(N_QUBITS, N_LAYERS)\n",
    "    theta0 = [rand_angle() for _ in range(ansatz.num_parameters)]\n",
    "    state_choices = generate_k_mub_choices(K)\n",
    "\n",
    "    for mub, state in state_choices:\n",
    "        print(f'experimenting with MUB {mub}, state {state}')\n",
    "        mub_qc = mub_circuits_3_qubits[mub].copy()\n",
    "        state_qc = comp_circuits[state].copy()\n",
    "        full_state_qc = state_qc.compose(mub_qc, inplace=False)\n",
    "        state_data = run_vqc_exp_with_state_prepend(ansatz, full_state_qc, N_QUBITS,\n",
    "                                                    theta0, tol=tol, success_bound=success_bound, optimizer=optimizer)\n",
    "        print(f'({mub},{state}) done')\n",
    "\n",
    "        if state_data[1] == False: # Signifying keyboard interrupt\n",
    "            interrupted = True\n",
    "            state_data = (state_data[0], [])\n",
    "        elif state_data[1] == True:\n",
    "            state_data = (state_data[0], [])\n",
    "\n",
    "        finish_time = time.time()\n",
    "        print(f'Finished experiment in {finish_time - start_time} seconds at {time.asctime(time.localtime())}')\n",
    "        start_time = finish_time\n",
    "\n",
    "        results[(mub, state)] = state_data\n",
    "\n",
    "        if interrupted:\n",
    "            return results, False\n",
    "\n",
    "    print(f'total took {finish_time - first_time} seconds')\n",
    "    return results, True"
   ]
  },
  {
   "cell_type": "code",
   "execution_count": null,
   "id": "d9c77c0a-3964-4cf7-b876-f650699bb030",
   "metadata": {},
   "outputs": [],
   "source": [
    "k_prepend_mub_results = run_k_mub_state_vqc_exp_set()"
   ]
  },
  {
   "cell_type": "markdown",
   "id": "ff505991-8a51-49cb-827a-5df034f11434",
   "metadata": {
    "tags": []
   },
   "source": [
    "### Experiments: Try k half-MUBs\n",
    "\n",
    "When working with $n$ qubits, there is an exponential number of MUBs, and each MUB has an exponential number of states.\n",
    "\n",
    "The generation of all of these MUB transformations takes exponential time by itself.\n",
    "\n",
    "To mitigate that, Tal proposed the following idea:\n",
    "Pick a pair of qubits in an $n$-qubit register. generate a 2-qubit MUB state between them, and put the rest on 0.\n",
    "\n",
    "This method has a polynomial amount of states, and spans an interesting part of the space."
   ]
  },
  {
   "cell_type": "markdown",
   "id": "0c7ef033-7e98-493b-9c20-ffdd43a7da67",
   "metadata": {
    "tags": []
   },
   "source": [
    "#### Results Data Structure\n",
    "The results of the experiment are a dict from the n of layers and qubits to the results for that n.\n",
    "\n",
    "Each layer's results are also a dictionary.\n",
    "The key is a 4-tuple: the two first places are the pairs of qubits on which the MUB state was generated, the third is the MUB index, and the fourth is the state index.\n",
    "The value is a tuple of the convergence graph, and (optionally) the result data structure generated by SciPy."
   ]
  },
  {
   "cell_type": "code",
   "execution_count": 74,
   "id": "e4f1bb81-eaa6-4757-82ab-4a79d4dd0c34",
   "metadata": {},
   "outputs": [],
   "source": [
    "def gen_half_mub_circ(n_qubits: int, qubit_1: int, qubit_2: int, mub_no: int, state_no: int, mub_circuits: List[QuantumCircuit]) -> QuantumCircuit:\n",
    "    qc = QuantumCircuit(n_qubits)\n",
    "    comp_state_qc = get_comp_state_circ(state_no, n_qubits=2)\n",
    "    qc.compose(comp_state_qc, qubits=[qubit_1, qubit_2], inplace=True)\n",
    "    qc.compose(mub_circuits[mub_no], qubits=[qubit_1, qubit_2], inplace=True)\n",
    "    return qc\n",
    "\n",
    "def gen_k_half_mub_choices(n_qubits: int, k: int) -> List[Tuple[int, int, int, int]]:\n",
    "    n_mubs = 2 ** 2 + 1\n",
    "    n_states = 2 ** 2\n",
    "    # m mubs * (n choose 2) pairs of qubits\n",
    "    assert k <= n_mubs * n_qubits * (n_qubits-1) // 2\n",
    "    res = []\n",
    "    while k > 0:\n",
    "        while True:\n",
    "            qubit_1 = randint(0, n_qubits-2)\n",
    "            qubit_2 = randint(qubit_1+1, n_qubits-1)\n",
    "            mub = randint(0, n_mubs-1)\n",
    "            state = randint(0, n_states-1)\n",
    "            if (mub, state) not in res:\n",
    "                res.append((qubit_1, qubit_2, mub, state))\n",
    "                k -= 1\n",
    "                break\n",
    "    return res"
   ]
  },
  {
   "cell_type": "code",
   "execution_count": null,
   "id": "a9d4189a-3a91-4054-b7fb-8ba3cb0930d3",
   "metadata": {},
   "outputs": [],
   "source": [
    "def run_k_half_mub_state_vqc_exp_set():\n",
    "    print('=====Experimenting with SMALL SETS of prepended half-MUB states=====')\n",
    "    start_time = time.time()\n",
    "    first_time = start_time\n",
    "    finish_time = start_time\n",
    "    interrupted = False\n",
    "    results = {}\n",
    "    \n",
    "    ansatz = gen_vqc_ansatz_arrasmith(N_QUBITS, N_LAYERS)\n",
    "    theta0 = [rand_angle() for _ in range(ansatz.num_parameters)]\n",
    "    state_choices = gen_k_half_mub_choices(n_qubits=N_QUBITS, k=K)\n",
    "\n",
    "    for choice in state_choices:\n",
    "        print(f'experimenting with pair {(choice[0], choice[1])}, MUB {choice[2]}, state {choice[3]}')\n",
    "        full_state_qc = gen_half_mub_circ(N_LAYERS, *choice, mub_circuits_2_qubits)\n",
    "        state_data = run_vqc_exp_with_state_prepend(ansatz, full_state_qc, N_QUBITS,\n",
    "                                                    theta0, tol=tol, success_bound=success_bound, optimizer=optimizer)\n",
    "        print(f'{choice} done')\n",
    "        \n",
    "        finish_time = time.time()\n",
    "        print(f'Finished experiment in {finish_time - start_time} seconds at {time.asctime(time.localtime())}')\n",
    "        start_time = finish_time\n",
    "\n",
    "        results[choice] = state_data\n",
    "\n",
    "        if interrupted:\n",
    "            return results, False\n",
    "        \n",
    "\n",
    "    print(f'total took {finish_time - first_time} seconds')\n",
    "    return results, True"
   ]
  },
  {
   "cell_type": "code",
   "execution_count": null,
   "id": "6eebd54f-d972-47be-8fdf-19f8592e0bf0",
   "metadata": {},
   "outputs": [],
   "source": [
    "k_prepend_half_mub_results = run_k_half_mub_state_vqc_exp_set()"
   ]
  },
  {
   "cell_type": "markdown",
   "id": "e6b97e51-6673-4f6b-b665-a3b9132766d7",
   "metadata": {},
   "source": [
    "### Hyper-Parameter Experiments: Optimizer"
   ]
  },
  {
   "cell_type": "code",
   "execution_count": 21,
   "id": "1c7d60e9-a62a-4d0c-8dfb-dc18579d8534",
   "metadata": {},
   "outputs": [
    {
     "name": "stdout",
     "output_type": "stream",
     "text": [
      "=====Experimenting with SMALL SETS of radnom initial parameters=====\n",
      "experimenting with random parameter set #0\n",
      "Optimization stopped by keyboard interrupt. WOLOLO\n",
      "parameter set #0 done\n",
      "Finished experiment in 3.7633442878723145 seconds at Mon Oct  3 16:34:10 2022\n"
     ]
    },
    {
     "name": "stderr",
     "output_type": "stream",
     "text": [
      "capi_return is NULL\n",
      "Call-back cb_calcfc_in__cobyla__user__routines failed.\n"
     ]
    }
   ],
   "source": [
    "std_exp_7_qubits()\n",
    "optimizer = 'COBYLA'\n",
    "random_thetas_results = {}\n",
    "for n in range(4,9):\n",
    "    N_QUBITS = N_LAYERS = n\n",
    "    random_thetas_results[n], graceful = run_k_random_theta_vqc_exp_set()\n",
    "    if not graceful:\n",
    "        break\n",
    "std_exp_7_qubits()"
   ]
  },
  {
   "cell_type": "markdown",
   "id": "7ee73822-6e40-46cc-b23b-6144ad65612a",
   "metadata": {
    "jp-MarkdownHeadingCollapsed": true,
    "tags": []
   },
   "source": [
    "### Analysis Functions - General"
   ]
  },
  {
   "cell_type": "code",
   "execution_count": 8,
   "id": "4aa8655f-172b-462b-a406-4b9883ca65b1",
   "metadata": {},
   "outputs": [],
   "source": [
    "def avg(col):\n",
    "    return sum(col) / len(col) if len(col) > 0 else None\n",
    "\n",
    "def wavg(col, weights):\n",
    "    assert len(col) == len(weights)\n",
    "    return sum([v * w for v,w in zip(col, weights)])\n",
    "\n",
    "\n",
    "def nfev(data: Tuple[List[float], Union[VQEResult, OptimizeResult]]) -> int:\n",
    "    evals, record = data\n",
    "    if evals != []:\n",
    "        return len(evals)\n",
    "    elif type(record) == VQEResult:\n",
    "        return record.cost_function_evals\n",
    "    else:\n",
    "        assert type(record) == OptimizeResult\n",
    "        return record.nfev\n",
    "    \n",
    "    \n",
    "def fin_val(data: Tuple[List[float], Union[VQEResult, OptimizeResult]]) -> int:\n",
    "    evals, record = data\n",
    "    if evals != []:\n",
    "        return evals[-1]\n",
    "    elif type(record) == VQEResult:\n",
    "        return record.eigenvalue\n",
    "    else:\n",
    "        return record.fun\n",
    "\n",
    "def plot_and_save_convergence_graph(evals: List[float], target_vals: List[float], title: str, filename: str):\n",
    "    plt.axis([0, len(evals), 0, 1])\n",
    "    plt.plot(evals)\n",
    "    plt.title(title)\n",
    "    \n",
    "    if target_vals != []:\n",
    "        plt.plot([0, len(evals)-1], [target_vals[0], target_vals[0]], color='red')\n",
    "    for fake_target in target_vals[1:]:\n",
    "        plt.plot([0, len(evals)-1], [target_vals[0], target_vals[0]], color='purple')\n",
    "        \n",
    "    plt.savefig(filename)\n",
    "    plt.show()"
   ]
  },
  {
   "cell_type": "markdown",
   "id": "4a6cbe92-1164-4ff4-9bcb-1169c653e90c",
   "metadata": {
    "jp-MarkdownHeadingCollapsed": true,
    "tags": []
   },
   "source": [
    "### Analysis Functions - Utilization Methods"
   ]
  },
  {
   "cell_type": "code",
   "execution_count": 71,
   "id": "920ee189-f70c-416b-9dd1-a683c98db47e",
   "metadata": {},
   "outputs": [],
   "source": [
    "def gen_statistics_random_thetas(random_thetas_results_dict: List[Tuple[List[float],Tuple[List[float], VQEResult]]],\n",
    "                                 no_mub_stats: Dict[int, Dict[str, int]],\n",
    "                                 target_vals: List[float] = [0],\n",
    "                                 stats_folder: str = '',\n",
    "                                 stats_filename: str = '') -> Dict[int, Dict[str, any]]:\n",
    "    \n",
    "    if stats_folder == '':\n",
    "        stats_folder = input('enter path for results directory')\n",
    "    if not os.path.isdir(stats_folder):\n",
    "        os.mkdir(stats_folder)\n",
    "    if stats_filename == '':\n",
    "        stats_filename = input('enter filename for statistics file')\n",
    "        \n",
    "    assert target_vals != []\n",
    "    success_bound = target_vals[0]    \n",
    "    \n",
    "    stats = {}\n",
    "    min_nfev = min([nfev(exp_data) for _, exp_data in random_thetas_results])\n",
    "    stats['min_nfev'] = min_nfev\n",
    "    stats['avg_nfev'] = avg([nfev(exp_data) for _, exp_data in random_thetas_results])\n",
    "    correct_thetas = [fin_val(exp_data) for _, exp_data in random_thetas_results if abs(fin_val(exp_data)-success_bound) < 1e-2]\n",
    "    stats['correct_thetas_count'] = len(correct_thetas)\n",
    "    stats['correct_addition_percent'] = len(correct_thetas) / len(random_thetas_results)\n",
    "    stats['correct_avg_val'] = avg(correct_thetas)\n",
    "\n",
    "    stats['evals'] = {k: v[1][0] for k,v in enumerate(random_thetas_results)}\n",
    "    stats['nfevs'] = {k: len(v[1][0]) for k,v in enumerate(random_thetas_results)}\n",
    "    stats['fin_vals'] = {k: fin_val(v[1]) for k,v in enumerate(random_thetas_results)}\n",
    "        \n",
    "    with open(os.path.join(stats_folder, stats_filename), 'w') as f:\n",
    "        pprint(stats, f)\n",
    "        \n",
    "    for idx, evals in stats['evals'].items():\n",
    "        plot_and_save_convergence_graph(evals=evals,\n",
    "                        target_vals=target_vals,\n",
    "                        title=f'Convergence graph with {N_LAYERS} layers, theta #{idx}',\n",
    "                        filename=os.path.join(stats_folder, f'{N_LAYERS},{idx}.png'))\n",
    "    \n",
    "    return stats\n",
    "\n",
    "\n",
    "\n",
    "# Analyze the performance of using MUB states as initial states for an ansatz\n",
    "def gen_statistics_mubs(prepend_results_dict: Dict[Tuple[int, int], Tuple[List[float], VQEResult]],\n",
    "                              no_mub_stats: Dict[int, Dict[str, int]],\n",
    "                              target_vals: List[float] = [0],\n",
    "                              stats_folder: str = '',\n",
    "                              stats_filename: str = '') -> Dict[int, Dict[str, any]]:\n",
    "    \n",
    "    if stats_folder == '':\n",
    "        stats_folder = input('enter path for results directory')\n",
    "        if not os.path.isdir(stats_folder):\n",
    "            os.mkdir(stats_folder)\n",
    "    if stats_filename == '':\n",
    "        stats_filename = input('enter filename for statistics file')\n",
    "\n",
    "    stats = {}\n",
    "    min_nfev = min([nfev(state_data) for state_data in prepend_results_dict.values()])\n",
    "    stats['min_nfev'] = min_nfev\n",
    "    stats['avg_nfev'] = avg([nfev(state_data) for state_data in prepend_results_dict.values()])\n",
    "\n",
    "\n",
    "    assert target_vals != []\n",
    "    success_bound = target_vals[0]\n",
    "    # Experiments that terminated closer to the intended result\n",
    "    correct_states = {state: fin_val(state_data) for state_idx, state_data in prepend_results_dict.items() if abs(fin_val(state_data)-success_bound) < 1e-2}        \n",
    "    stats['correct_states'] = correct_states\n",
    "    stats['correct_states_count'] = len(correct_states)\n",
    "    stats['correct_addition_percent'] = len(correct_states) / len(prepend_results_dict)\n",
    "    stats['correct_avg_val'] = avg(correct_states.values())\n",
    "\n",
    "    stats['evals'] = {k: v[0] for k,v in prepend_results_dict.items()}\n",
    "    stats['nfevs'] = {k: len(v[0]) for k,v in prepend_results_dict.items()}\n",
    "    stats['fin_vals'] = {k: fin_val(v) for k,v in prepend_results_dict.items()}\n",
    "        \n",
    "    with open(os.path.join(stats_folder, stats_filename), 'w') as f:\n",
    "        pprint(stats, f)\n",
    "        \n",
    "    for idx, data in prepend_results_dict.items():\n",
    "        plot_and_save_convergence_graph(evals=data[0],\n",
    "                            target_vals=target_vals,\n",
    "                            title=f'Convergence graph with {N_LAYERS} layers, state {idx}',\n",
    "                            filename=os.path.join(stats_folder, f'{N_LAYERS},{idx[0]},{idx[1]}.png'))\n",
    "    return stats\n",
    "\n",
    "\n",
    "def gen_statistics_half_mubs(half_mubs_results_dict: Dict[int, Dict[Tuple[int, int], Tuple[List[float], VQEResult]]],\n",
    "                             no_mub_stats: Dict[int, Dict[str, int]],\n",
    "                             target_vals: List[float] = [0],\n",
    "                             stats_folder: str = '',\n",
    "                             stats_filename: str = '') -> Dict[int, Dict[str, any]]:\n",
    "    \n",
    "    if stats_folder == '':\n",
    "        stats_folder = input('enter path for results directory')\n",
    "        if not os.path.isdir(stats_folder):\n",
    "            os.mkdir(stats_folder)\n",
    "    if stats_filename == '':\n",
    "        stats_filename = input('enter filename for statistics file')\n",
    "\n",
    "    stats = {}\n",
    "    min_nfev = min([nfev(state_data) for state_data in half_mubs_results_dict.values()])\n",
    "    stats['min_nfev'] = min_nfev\n",
    "    stats['avg_nfev'] = avg([nfev(state_data) for state_data in half_mubs_results_dict.values()])\n",
    "\n",
    "    assert target_vals != []\n",
    "    success_bound = target_vals[0]\n",
    "    # Experiments that terminated closer to the intended result\n",
    "    correct_states = {choice: fin_val(state_data) for choice, state_data in half_mubs_results_dict.items() if abs(fin_val(state_data)-success_bound) < 1e-2}        \n",
    "    stats['correct_states'] = correct_states\n",
    "    stats['correct_states_count'] = len(correct_states)\n",
    "    stats['correct_addition_percent'] = len(correct_states) / len(half_mubs_results_dict)\n",
    "    stats['correct_avg_val'] = avg(correct_states.values())\n",
    "\n",
    "    stats['evals'] = {k: v[0] for k,v in half_mubs_results_dict.items()}\n",
    "    stats['nfevs'] = {k: len(v[0]) for k,v in half_mubs_results_dict.items()}\n",
    "    stats['fin_vals'] = {k: fin_val(v) for k,v in half_mubs_results_dict.items()}\n",
    "        \n",
    "    with open(os.path.join(stats_folder, stats_filename), 'w') as f:\n",
    "        pprint(stats, f)\n",
    "        \n",
    "    for idx, data in half_mubs_results_dict.items():\n",
    "        plot_and_save_convergence_graph(evals=data[0],\n",
    "                            target_vals=target_vals,\n",
    "                            title=f'Convergence graph with {N_LAYERS} layers, pair ({idx[0]},{idx[1]}), MUB state({idx[2]},{idx[3]})',\n",
    "                            filename=os.path.join(stats_folder, f'{N_LAYERS},{idx[0]},{idx[1]},{idx[2]},{idx[3]}.png'))\n",
    "    return half_mub_stats"
   ]
  },
  {
   "cell_type": "markdown",
   "id": "e239f3c5-d4dc-48c9-93a2-1b127067f778",
   "metadata": {},
   "source": [
    "### Analysis"
   ]
  },
  {
   "cell_type": "code",
   "execution_count": null,
   "id": "74512491-1e9a-4995-ba8a-13deb0bb81b4",
   "metadata": {},
   "outputs": [],
   "source": [
    "prepending_stats = gen_statistics_mubs(k_prepend_mub_results,\n",
    "                                             {},\n",
    "                                             target_vals=[success_bound])"
   ]
  },
  {
   "cell_type": "code",
   "execution_count": null,
   "id": "8de0991b-9a60-4bc0-b237-b3cddbf7fcbe",
   "metadata": {},
   "outputs": [],
   "source": [
    "k_random_stats = gen_statistics_random_thetas(random_thetas_results,\n",
    "                                              {},\n",
    "                                              target_vals=[success_bound],\n",
    "                                             stats_folder='VQC results/local_cost_bps_3_qubits',\n",
    "                                             stats_filename='stats.txt')"
   ]
  },
  {
   "cell_type": "code",
   "execution_count": null,
   "id": "df2eddb6-9b33-4a5f-9669-ab44fbba86cf",
   "metadata": {},
   "outputs": [],
   "source": [
    "half_mub_stats = gen_statistics_half_mubs(k_prepend_half_mub_results,\n",
    "                                          {},\n",
    "                                          target_vals=[success_bound],\n",
    "                                         stats_folder='VQC results/BBB',\n",
    "                                         stats_filename = 'bbb.txt')"
   ]
  },
  {
   "cell_type": "markdown",
   "id": "3391af6b-beb8-479f-bb8b-c13f0799157c",
   "metadata": {},
   "source": [
    "## Collective Experiments - VQC"
   ]
  },
  {
   "cell_type": "markdown",
   "id": "a1ad28c5-11cc-4b6e-86b5-57e0fdc2519a",
   "metadata": {},
   "source": [
    "### Plotting Functions"
   ]
  },
  {
   "cell_type": "code",
   "execution_count": 137,
   "id": "6e15b574-5940-4108-8035-4c7556f1cd41",
   "metadata": {},
   "outputs": [],
   "source": [
    "def myplot(data: dict, label: str, filename: str = '', logscale=False):\n",
    "    data = {k: v for k,v in data.items() if v != None}\n",
    "    lists = sorted(data.items()) # sorted by key, return a list of tuples\n",
    "    x, y = zip(*lists) # unpack a list of pairs into two tuples\n",
    "    if logscale:\n",
    "        plt.yscale('log')\n",
    "        \n",
    "    if filename == '':\n",
    "        filename = label\n",
    "    plt.savefig(filename)\n",
    "    \n",
    "    plt.plot(x, y, label=label, marker='o')\n",
    "    \n",
    "\n",
    "def myplot_heatmap(data: list, label:str, target_vals: list = [], val_range=(-0.1, 0.7), bin_count=50, filename=\"\"):\n",
    "    plt.hist(data, bin_count, range=val_range, color='blue')\n",
    "\n",
    "    \n",
    "    if target_vals != []:\n",
    "        plt.plot([target_vals[0], target_vals[0]], [0,10], color='green', linewidth=1)\n",
    "    for fake_target in target_vals[1:]:\n",
    "        plt.plot([fake_target, fake_target], [0,10], color='red', linewidth=1)\n",
    "\n",
    "    plt.title(label)\n",
    "    \n",
    "    if filename == '':\n",
    "        filename = label\n",
    "    plt.savefig(filename)\n",
    "    \n",
    "    plt.show()\n",
    "    "
   ]
  },
  {
   "cell_type": "markdown",
   "id": "afe1a1e2-b47a-40d8-94fa-20140e0dc4cb",
   "metadata": {},
   "source": [
    "### (Optionally) Load Data Fom Files"
   ]
  },
  {
   "cell_type": "code",
   "execution_count": null,
   "id": "f018ef5b-e20c-4dca-bbc8-fbcd83b3956e",
   "metadata": {},
   "outputs": [],
   "source": [
    "from ast import literal_eval\n",
    "\n",
    "STATS_FROM_FILES = True\n",
    "\n",
    "def load_stats(name: str) -> dict:\n",
    "    filename = os.path.join(os.getcwd(), VQC_FOLDER, name)\n",
    "    with open(filename, 'r') as f:\n",
    "        data = f.read()\n",
    "    \n",
    "    return literal_eval(data)\n",
    "\n",
    "if STATS_FROM_FILES:\n",
    "    no_mub_stats = load_stats(NO_MUB_PATH)\n",
    "    prepend_stats = load_stats(PRE_MUB_PATH)"
   ]
  },
  {
   "cell_type": "markdown",
   "id": "fd970444-d6e6-44cc-9ee3-2d276f604e9f",
   "metadata": {},
   "source": [
    "### Raw Summary Data"
   ]
  },
  {
   "cell_type": "code",
   "execution_count": null,
   "id": "3d41ea39-cb08-4772-a9c4-9a0f2292f1f5",
   "metadata": {},
   "outputs": [],
   "source": [
    "print('No MUBs:')\n",
    "print(no_mub_stats)\n",
    "print('Prepended MUB states:')\n",
    "print(prepend_stats)"
   ]
  },
  {
   "cell_type": "code",
   "execution_count": null,
   "id": "2422fbed-67de-44ff-b520-25e15d7b3315",
   "metadata": {},
   "outputs": [],
   "source": [
    "# plt.hist([layer['fin_val'] for layer in no_mub_stats.values()], 50, range=(-0.1, 0.5), density=True)\n",
    "# plt.plot([0,0], [0,5])\n",
    "# plt.title('final values without MUBS')\n",
    "# plt.show()\n",
    "\n",
    "# for layer, layer_stats in prepend_stats.items():\n",
    "#     plt.hist(layer_stats['fin_vals'], 50, range=(-0.1, 0.5), density=True)\n",
    "\n",
    "#     # Add Correct Result Line\n",
    "#     plt.plot([0,0], [0,30], color='green', linewidth=1)\n",
    "#     plt.title(f'function evaluations for {layer} layers')\n",
    "#     plt.show()\n",
    "\n",
    "myplot_heatmap([layer['fin_val'] for layer in no_mub_stats.values()], 0.0, title='final values without using MUBs', bin_count=50)\n",
    "for layer, layer_stats in prepend_stats.items():\n",
    "    myplot_heatmap(layer_stats['fin_vals'], 0.0, title=f'function evaluations for {layer} layers', bin_count=50)\n",
    "\n"
   ]
  },
  {
   "cell_type": "markdown",
   "id": "33cd9c86-dbb0-47f0-8582-79883c8b9b90",
   "metadata": {},
   "source": [
    "### Minimal \\# Of Function Evals"
   ]
  },
  {
   "cell_type": "code",
   "execution_count": null,
   "id": "f3866a60-a9b2-4ec0-844e-410bfa203478",
   "metadata": {},
   "outputs": [],
   "source": [
    "def plot_min_nfev(stats_dict: Dict[int, Dict[str, any]], label: str):\n",
    "    for v in stats_dict.values():\n",
    "        assert 'min_nfev' in v.keys() or 'nfev' in v.keys()\n",
    "    nfev_dict = {k: v['min_nfev'] if 'min_nfev' in v.keys() else v['nfev'] for k,v in stats_dict.items()}\n",
    "    myplot(nfev_dict, label)\n",
    "\n",
    "plt.xlabel(\"# Layers\")\n",
    "plt.ylabel(\"Function Evals\")\n",
    "plt.title('Minimal # of Function Evals per layer')\n",
    "plot_min_nfev(no_mub_stats, \"No MUBs\")\n",
    "plot_min_nfev(prepend_stats, \"Prepended MUB states\")\n",
    "plot_min_nfev(append_stats, \"Appended MUB trans.\")\n",
    "plt.legend()\n",
    "plt.show()"
   ]
  },
  {
   "cell_type": "markdown",
   "id": "78dd2d36-d763-41ad-be0d-d617283cf11a",
   "metadata": {},
   "source": [
    "### Average \\# Of Function Evals"
   ]
  },
  {
   "cell_type": "code",
   "execution_count": null,
   "id": "6f3e72bf-b5a1-4427-af7a-818c0b34cb2c",
   "metadata": {},
   "outputs": [],
   "source": [
    "def plot_avg_nfev(stats_dict: Dict[int, Dict[str, any]], label: str):\n",
    "    avg_nfev_dict = {k: v['avg_nfev'] if 'avg_nfev' in v.keys() else v['nfev'] for k,v in stats_dict.items()}\n",
    "    myplot(avg_nfev_dict, label)\n",
    "\n",
    "plt.xlabel(\"# Layers\")\n",
    "plt.ylabel(\"Function Evals\")\n",
    "plt.title('Average # of Function Evals per layer')\n",
    "plot_avg_nfev(no_mub_stats, \"No MUBs\")\n",
    "plot_avg_nfev(prepend_stats, \"Prepended MUB states\")\n",
    "plt.legend()\n",
    "plt.show()"
   ]
  },
  {
   "cell_type": "markdown",
   "id": "7aa9929b-4105-403b-8bb1-8192d313971b",
   "metadata": {},
   "source": [
    "### Percent of Advantageous Additions"
   ]
  },
  {
   "cell_type": "code",
   "execution_count": null,
   "id": "250da1f2-a743-4abd-abc5-89ea2059c98c",
   "metadata": {},
   "outputs": [],
   "source": [
    "def plot_adv_percent(stats_dict: Dict[int, Dict[str, any]], label: str):\n",
    "    adv_percent_dict = {k: v['adv_addition_percent'] for k,v in stats_dict.items()}\n",
    "    myplot(adv_percent_dict, label)\n",
    "    \n",
    "plt.xlabel(\"# Layers\")\n",
    "plt.ylabel('Fraction of Advantageous Additions')\n",
    "plt.title('Fraction of Advantageous Additions')\n",
    "plot_adv_percent(prepend_stats, \"Prepended MUB states\")\n",
    "plt.legend()\n",
    "plt.show()"
   ]
  },
  {
   "cell_type": "markdown",
   "id": "d1e0c67a-0db9-465c-836a-4807f7640d30",
   "metadata": {},
   "source": [
    "### Average \\# Of Function Evals in Advantageous Additions"
   ]
  },
  {
   "cell_type": "code",
   "execution_count": null,
   "id": "b1de7392-12df-4cdd-b33b-08007e54b5e6",
   "metadata": {},
   "outputs": [],
   "source": [
    "def plot_adv_avg_nfev(stats_dict: Dict[int, Dict[str, any]], label: str):\n",
    "    adv_percent_dict = {k: v['adv_avg_nfev'] for k,v in stats_dict.items()}\n",
    "    myplot(adv_percent_dict, label)\n",
    "    \n",
    "plt.xlabel(\"# Layers\")\n",
    "plt.ylabel('Function Evals')\n",
    "plt.title('Average Function Evals for advantageous additions')\n",
    "plot_min_nfev(no_mub_stats, \"No MUBs (baseline)\")\n",
    "plot_adv_avg_nfev(prepend_stats, \"Prepended MUB states\")\n",
    "plt.legend()\n",
    "plt.show()"
   ]
  },
  {
   "cell_type": "markdown",
   "id": "75320845-32ee-4a80-b9f7-c8fc5b6d235d",
   "metadata": {},
   "source": [
    "### Summary: MUB Prepending"
   ]
  },
  {
   "cell_type": "code",
   "execution_count": null,
   "id": "d980c8e3-4943-4811-aa1d-5f802d6dfcff",
   "metadata": {},
   "outputs": [],
   "source": [
    "plot_min_nfev(no_mub_stats, \"No MUBs (baseline)\")\n",
    "plot_min_nfev(prepend_stats, 'Minimal Function Evals')\n",
    "plot_avg_nfev(prepend_stats, 'Average Function Evals')\n",
    "plot_adv_avg_nfev(prepend_stats, 'Average Adventageous NFEV')\n",
    "plt.xlabel(\"# Layers\")\n",
    "plt.ylabel('Function Evals')\n",
    "plt.title('Function Eval data for Prepended States')\n",
    "plt.legend()\n",
    "plt.show()"
   ]
  }
 ],
 "metadata": {
  "kernelspec": {
   "display_name": "Python 3 (ipykernel)",
   "language": "python",
   "name": "python3"
  },
  "language_info": {
   "codemirror_mode": {
    "name": "ipython",
    "version": 3
   },
   "file_extension": ".py",
   "mimetype": "text/x-python",
   "name": "python",
   "nbconvert_exporter": "python",
   "pygments_lexer": "ipython3",
   "version": "3.10.4"
  },
  "vscode": {
   "interpreter": {
    "hash": "0db1a3e07111c158c6e764c73bebca35a547167fb06d8f3c90bc334d0cbc47c7"
   }
  }
 },
 "nbformat": 4,
 "nbformat_minor": 5
}
